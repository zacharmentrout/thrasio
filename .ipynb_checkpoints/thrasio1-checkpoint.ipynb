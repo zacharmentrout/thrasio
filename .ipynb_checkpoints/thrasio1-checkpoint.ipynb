{
 "cells": [
  {
   "cell_type": "code",
   "execution_count": 95,
   "metadata": {},
   "outputs": [],
   "source": [
    "import numpy as np\n",
    "import pandas as pd\n",
    "import matplotlib.pyplot as plt\n",
    "import seaborn as sns\n",
    "from sklearn.linear_model import LinearRegression, ElasticNet, ElasticNetCV\n",
    "from sklearn.model_selection import TimeSeriesSplit\n",
    "from pathlib import Path\n",
    "from sklearn.model_selection import GridSearchCV, RandomizedSearchCV, train_test_split\n",
    "from sklearn.preprocessing import OneHotEncoder\n",
    "from sklearn.impute import SimpleImputer\n",
    "from sklearn.pipeline import Pipeline\n",
    "from sklearn.compose import ColumnTransformer\n",
    "from sklearn.metrics import r2_score, mean_squared_error\n",
    "import calendar\n",
    "import os\n",
    "import missingno as msno\n",
    "import datetime as dt\n",
    "import time\n",
    "from pymer4.models import Lmer"
   ]
  },
  {
   "cell_type": "code",
   "execution_count": 96,
   "metadata": {},
   "outputs": [],
   "source": [
    "os.environ['KMP_DUPLICATE_LIB_OK']='True'"
   ]
  },
  {
   "cell_type": "code",
   "execution_count": 3,
   "metadata": {},
   "outputs": [],
   "source": [
    "def assign_cycle_vars(df, suffix, var_pos, var_cycle_length):\n",
    "    df['sin_term_'+suffix] = np.sin(df[var_pos]/df[var_cycle_length])\n",
    "    df['cos_term_'+suffix] = np.cos(df[var_pos]/df[var_cycle_length])\n",
    "    return None\n",
    "def days_between(d1, d2):\n",
    "    d1 = dt.datetime.strptime(d1, \"%Y-%m-%d\")\n",
    "    d2 = dt.datetime.strptime(d2, \"%Y-%m-%d\")\n",
    "    return (d2 - d1).days+1\n",
    "def logify(x):\n",
    "    return np.log(x - np.min(x) + 1)\n",
    "def cartesian_product_basic(left, right):\n",
    "    return (\n",
    "       left.assign(key=1).merge(right.assign(key=1), on='key',suffixes=['','']).drop('key', 1))\n",
    "def df_subset(df,sku_num, sale_type):\n",
    "    return df[[x==sku_num and y==sale_type for x,y in zip(df['sku_num'],df['sale_type'])]]\n",
    "def rmse(y, y_pred):\n",
    "    return np.sqrt(mean_squared_error(y,y_pred))\n",
    "\n",
    "# univariate outlier detection, based on MAD (source: shorturl.at/mpuFO)\n",
    "def is_outlier(points, thresh=3.5):\n",
    "    if len(points.shape) == 1:\n",
    "        points = points[:,None]\n",
    "    median = np.median(points)\n",
    "    diff = points - median\n",
    "    abs_deviation = np.abs(diff)\n",
    "    med_abs_deviation = np.median(abs_deviation)\n",
    "    modified_z_score = 0.6745 * diff / med_abs_deviation\n",
    "\n",
    "    return np.abs(modified_z_score) > thresh\n",
    "\n",
    "def get_coef(features,mod):\n",
    "    out = pd.DataFrame(zip(features,mod.coef_),columns=['feature','coef']).sort_values('coef',ascending=False)\n",
    "    return out\n",
    "\n"
   ]
  },
  {
   "cell_type": "code",
   "execution_count": 4,
   "metadata": {},
   "outputs": [],
   "source": [
    "main_dir = Path('/Users/zach/Documents/git/thrasio')\n",
    "data_dir = main_dir / 'Case_Study_Materials'\n",
    "file_path = data_dir / 'CASE_STUDY_FINAL.csv'"
   ]
  },
  {
   "cell_type": "code",
   "execution_count": 5,
   "metadata": {},
   "outputs": [],
   "source": [
    "dat_orig = pd.read_csv(file_path, low_memory=False)"
   ]
  },
  {
   "cell_type": "code",
   "execution_count": 6,
   "metadata": {},
   "outputs": [
    {
     "data": {
      "text/plain": [
       "(266500, 7)"
      ]
     },
     "execution_count": 6,
     "metadata": {},
     "output_type": "execute_result"
    }
   ],
   "source": [
    "dat_orig.shape"
   ]
  },
  {
   "cell_type": "code",
   "execution_count": 7,
   "metadata": {},
   "outputs": [],
   "source": [
    "dat_init = dat_orig.copy()"
   ]
  },
  {
   "cell_type": "code",
   "execution_count": null,
   "metadata": {},
   "outputs": [],
   "source": []
  },
  {
   "cell_type": "code",
   "execution_count": 8,
   "metadata": {},
   "outputs": [],
   "source": [
    "dat_init['datetime'] = pd.to_datetime(dat_init['Date'])\n",
    "dat_init['sku_brand'] = [x+'-'+str(y) for x,y in zip(dat_init['SKU_mkt'],dat_init['Brand_ID'])]"
   ]
  },
  {
   "cell_type": "markdown",
   "metadata": {},
   "source": [
    "Create dimension tables for sku and date"
   ]
  },
  {
   "cell_type": "code",
   "execution_count": 9,
   "metadata": {},
   "outputs": [],
   "source": [
    "dim_sku = pd.DataFrame(dat_init['sku_brand'].unique(),columns=['sku_brand'])"
   ]
  },
  {
   "cell_type": "code",
   "execution_count": 10,
   "metadata": {},
   "outputs": [],
   "source": [
    "dim_sku['sku_num'] = list(range(dim_sku.shape[0]))"
   ]
  },
  {
   "cell_type": "code",
   "execution_count": 11,
   "metadata": {},
   "outputs": [],
   "source": [
    "dim_sku['Brand_ID'] = [int(s.split('-')[-1]) for s in dim_sku['sku_brand']]"
   ]
  },
  {
   "cell_type": "code",
   "execution_count": 12,
   "metadata": {},
   "outputs": [],
   "source": [
    "dim_date = pd.DataFrame(dat_init['datetime'].unique(),columns=['datetime'])"
   ]
  },
  {
   "cell_type": "code",
   "execution_count": 13,
   "metadata": {},
   "outputs": [],
   "source": [
    "dim_date['date'] = dim_date['datetime'].dt.date\n",
    "dim_date['year'] = dim_date['datetime'].dt.year\n",
    "dim_date['month'] = dim_date['datetime'].dt.month\n",
    "dim_date['dayofyear'] = dim_date['datetime'].dt.dayofyear\n",
    "dim_date['dayofmonth'] = dim_date['datetime'].dt.day\n",
    "dim_date['dayofweek'] = dim_date['datetime'].dt.weekday\n",
    "dim_date['days_in_month'] = [calendar.monthrange(y,m)[1] for y,m in zip(dim_date['year'], dim_date['month'])]\n",
    "dim_date['days_in_year'] = [366 if calendar.isleap(y) else 365 for y in dim_date['year']]\n",
    "dim_date['days_in_week'] = 7\n",
    "dim_date['year_month'] = [str(y)+'-'+str(m) if m > 9 else str(y)+'-0'+str(m) for y,m in zip(dim_date['year'], dim_date['month'])]\n",
    "assign_cycle_vars(dim_date, 'fracofyear', 'dayofyear', 'days_in_year')\n",
    "assign_cycle_vars(dim_date, 'fracofmonth', 'dayofmonth', 'days_in_month')\n",
    "assign_cycle_vars(dim_date, 'fracofweek', 'dayofweek', 'days_in_week')"
   ]
  },
  {
   "cell_type": "code",
   "execution_count": 14,
   "metadata": {},
   "outputs": [],
   "source": [
    "dim_date['day_ordinal'] = dim_date['datetime'].rank(method='dense')\n",
    "dim_date['month_ordinal'] = dim_date['year_month'].rank(method='dense')\n",
    "#TODO add weekenddates, monthenddate, yearenddate"
   ]
  },
  {
   "cell_type": "code",
   "execution_count": 15,
   "metadata": {},
   "outputs": [],
   "source": [
    "# \"previous\" dates\n",
    "dim_date['date_prior_day'] = dim_date['date'] - dt.timedelta(days=1)\n",
    "dim_date['date_prior_week'] = dim_date['date'] - dt.timedelta(days=7)\n",
    "dim_date['date_prior_year'] = dim_date['date'] - dt.timedelta(weeks=52)"
   ]
  },
  {
   "cell_type": "markdown",
   "metadata": {},
   "source": [
    "Create skeleton"
   ]
  },
  {
   "cell_type": "code",
   "execution_count": 16,
   "metadata": {},
   "outputs": [],
   "source": [
    "skel = cartesian_product_basic(dim_sku,dim_date)"
   ]
  },
  {
   "cell_type": "markdown",
   "metadata": {},
   "source": [
    "Add dim table data to main dataset"
   ]
  },
  {
   "cell_type": "code",
   "execution_count": 17,
   "metadata": {},
   "outputs": [],
   "source": [
    "dat = skel.merge(dat_init, how='left', on=['sku_brand','Brand_ID','datetime'],suffixes=['',''])"
   ]
  },
  {
   "cell_type": "code",
   "execution_count": 18,
   "metadata": {},
   "outputs": [],
   "source": [
    "dat['missing'] = (dat['Total_Units'].isna())*1"
   ]
  },
  {
   "cell_type": "markdown",
   "metadata": {},
   "source": [
    "Inspect missingness"
   ]
  },
  {
   "cell_type": "code",
   "execution_count": 19,
   "metadata": {},
   "outputs": [],
   "source": [
    "df_missing = dat[['sku_num','missing','day_ordinal']].copy()\n",
    "df_missing_agg = df_missing.groupby('sku_num')['missing'].mean().reset_index(drop=False)\n",
    "df_missing.sort_values(['day_ordinal','sku_num'])\n",
    "df_missing_pivot = df_missing.pivot(index='sku_num',columns='day_ordinal',values='missing').reset_index(drop=False)\n",
    "df_missing_pivot = df_missing_pivot.merge(df_missing_agg, how='left', on='sku_num')\n",
    "df_missing_pivot.sort_values('missing', ascending=False,inplace=True)"
   ]
  },
  {
   "cell_type": "code",
   "execution_count": 20,
   "metadata": {},
   "outputs": [],
   "source": [
    "df_missing_pivot.rename(columns={'missing':'total_sku_pct_missing'},inplace=True)"
   ]
  },
  {
   "cell_type": "code",
   "execution_count": 21,
   "metadata": {},
   "outputs": [
    {
     "data": {
      "text/plain": [
       "<matplotlib.axes._subplots.AxesSubplot at 0x11f37feb0>"
      ]
     },
     "execution_count": 21,
     "metadata": {},
     "output_type": "execute_result"
    },
    {
     "data": {
      "image/png": "[encoded data removed]",
      "text/plain": [
       "<Figure size 2160x1080 with 2 Axes>"
      ]
     },
     "metadata": {
      "needs_background": "light"
     },
     "output_type": "display_data"
    }
   ],
   "source": [
    "plt.figure(figsize=(30,15))\n",
    "sns.heatmap(df_missing_pivot.drop(labels=['total_sku_pct_missing', 'sku_num'],axis=1))"
   ]
  },
  {
   "cell_type": "markdown",
   "metadata": {},
   "source": [
    "Inspect sample size for each sku"
   ]
  },
  {
   "cell_type": "code",
   "execution_count": 22,
   "metadata": {},
   "outputs": [],
   "source": [
    "# group by sku_num, sku_mkt, month: get % missing for each month and use as predictor\n",
    "def day_of_min_nonmissing(df):\n",
    "    return df.loc[df['missing'].idxmin(),'day_ordinal']\n",
    "\n",
    "min_nonmissing_days = pd.DataFrame(dat.groupby('sku_num').apply(lambda x:day_of_min_nonmissing(x)),columns=['min_nonmissing_day']).reset_index(drop=False)\n",
    "dat = dat.merge(min_nonmissing_days, how='left', on='sku_num',suffixes=['',''])\n"
   ]
  },
  {
   "cell_type": "code",
   "execution_count": 23,
   "metadata": {},
   "outputs": [],
   "source": [
    "dat = dat[[True if x >= y else False for x,y in zip(dat['day_ordinal'],dat['min_nonmissing_day'])]]\n",
    "dat['missing'] = dat['missing'].astype('float64')\n",
    "dat.fillna(int(0),inplace=True,downcast=False)"
   ]
  },
  {
   "cell_type": "code",
   "execution_count": 24,
   "metadata": {},
   "outputs": [],
   "source": [
    "dat_mod = pd.DataFrame(dat.groupby(['sku_num', 'sku_brand','Brand_ID', 'days_in_month',\n",
    "             'year_month','year','month','month_ordinal']).agg(\n",
    "    PPC_Units=pd.NamedAgg('PPC_Units',np.sum),\n",
    "    Organic_Units=pd.NamedAgg('Organic_Units',np.sum),\n",
    "    PPC_Cost=pd.NamedAgg('PPC_Cost',np.sum),\n",
    "    days_missing=pd.NamedAgg('missing',np.sum) \n",
    ")).reset_index(drop=False)"
   ]
  },
  {
   "cell_type": "code",
   "execution_count": 25,
   "metadata": {},
   "outputs": [],
   "source": [
    "dat_mod_brand = dat.groupby(['Brand_ID','month_ordinal','days_in_month', 'year_month','year','month']).agg(\n",
    "    PPC_Units=pd.NamedAgg('PPC_Units',np.sum),\n",
    "    Organic_Units=pd.NamedAgg('Organic_Units',np.sum),\n",
    "    PPC_Cost=pd.NamedAgg('PPC_Cost',np.sum),\n",
    "    days_missing=pd.NamedAgg('missing',np.sum),\n",
    "    sku_count=pd.NamedAgg('sku_num','nunique')\n",
    ").reset_index(drop=False)"
   ]
  },
  {
   "cell_type": "code",
   "execution_count": 26,
   "metadata": {},
   "outputs": [],
   "source": [
    "dat_mod['PPC_Cost_per_unit'] = abs(dat_mod['PPC_Cost']) / (dat_mod['PPC_Units']+1)\n",
    "dat_mod_brand['brand_PPC_Cost_per_unit'] = abs(dat_mod_brand['PPC_Cost']) / (dat_mod_brand['PPC_Units']+1)"
   ]
  },
  {
   "cell_type": "code",
   "execution_count": 27,
   "metadata": {},
   "outputs": [],
   "source": [
    "min_month_ordinals = pd.DataFrame(dat_mod.groupby('sku_num')['month_ordinal'].min()).reset_index()\n",
    "min_month_ordinals.rename(columns={'month_ordinal':'min_month_ordinal'},inplace=True)\n",
    "dat_mod = dat_mod.merge(min_month_ordinals, how='left', on='sku_num',suffixes=['',''])"
   ]
  },
  {
   "cell_type": "code",
   "execution_count": 28,
   "metadata": {},
   "outputs": [],
   "source": [
    "dat_mod['pct_missing'] = dat_mod['days_missing'] / dat_mod['days_in_month']\n",
    "dat_mod_brand['brand_pct_missing'] = dat_mod_brand['days_missing'] / (dat_mod_brand['days_in_month']*dat_mod_brand['sku_count'])"
   ]
  },
  {
   "cell_type": "code",
   "execution_count": 29,
   "metadata": {},
   "outputs": [],
   "source": [
    "value_vars=['PPC_Units','Organic_Units']\n",
    "dat_mod = dat_mod.melt(id_vars=set(dat_mod.columns)-set(value_vars),value_vars=value_vars,var_name='sale_type',value_name='Units')\n",
    "dat_mod_brand = dat_mod_brand.melt(id_vars=set(dat_mod_brand.columns)-set(value_vars),value_vars=value_vars,var_name='sale_type',value_name='brand_Units')\n"
   ]
  },
  {
   "cell_type": "code",
   "execution_count": 30,
   "metadata": {},
   "outputs": [
    {
     "data": {
      "text/plain": [
       "<matplotlib.axes._subplots.AxesSubplot at 0x11f2dd070>"
      ]
     },
     "execution_count": 30,
     "metadata": {},
     "output_type": "execute_result"
    },
    {
     "data": {
      "image/png": "[encoded data removed]",
      "text/plain": [
       "<Figure size 432x288 with 1 Axes>"
      ]
     },
     "metadata": {
      "needs_background": "light"
     },
     "output_type": "display_data"
    }
   ],
   "source": [
    "sns.kdeplot(dat_mod['pct_missing'])\n",
    "sns.kdeplot(dat_mod_brand['brand_pct_missing'])"
   ]
  },
  {
   "cell_type": "code",
   "execution_count": 31,
   "metadata": {},
   "outputs": [
    {
     "data": {
      "text/plain": [
       "0"
      ]
     },
     "execution_count": 31,
     "metadata": {},
     "output_type": "execute_result"
    }
   ],
   "source": [
    "#TODO correlations between PPC cost and PPC units/organic units\n",
    "dat_mod.duplicated(subset=['sku_num','year_month','sale_type']).sum()"
   ]
  },
  {
   "cell_type": "code",
   "execution_count": 32,
   "metadata": {},
   "outputs": [],
   "source": [
    "def assign_missingness_group(x):\n",
    "    if x > 0.7:\n",
    "        return 'HIGH'\n",
    "    elif x > 0.3:\n",
    "        return 'MED'\n",
    "    else:\n",
    "        return 'LOW'\n",
    "    \n",
    "df_missing_pivot['sku_missingness_group'] = [assign_missingness_group(x) for x in df_missing_pivot['total_sku_pct_missing']]\n",
    "\n"
   ]
  },
  {
   "cell_type": "code",
   "execution_count": 33,
   "metadata": {},
   "outputs": [],
   "source": [
    "# create groups of low, medium, and high-missingness products\n",
    "dat_mod = dat_mod.merge(df_missing_pivot[['sku_num', 'total_sku_pct_missing','sku_missingness_group']], how='left',on='sku_num')\n"
   ]
  },
  {
   "cell_type": "code",
   "execution_count": 34,
   "metadata": {},
   "outputs": [],
   "source": [
    "dat_mod = dat_mod.merge(dat_mod_brand[['sale_type','Brand_ID','year_month','brand_pct_missing','brand_PPC_Cost_per_unit', 'brand_Units']],how='left',on=['sale_type','Brand_ID','year_month'])\n",
    "\n",
    "\n"
   ]
  },
  {
   "cell_type": "code",
   "execution_count": 35,
   "metadata": {},
   "outputs": [],
   "source": [
    "#TODO establish training/test data\n",
    "#TODO prepare cross validation framework\n",
    "#TODO implement naive model: predict previous day\n",
    "#TODO install pystan or other hierarchical model\n"
   ]
  },
  {
   "cell_type": "code",
   "execution_count": 36,
   "metadata": {},
   "outputs": [],
   "source": [
    "dat_mod['log_Units'] = logify(dat_mod['Units'])\n",
    "dat_mod['PPC_Cost'] = abs(dat_mod['PPC_Cost'])\n",
    "dat_mod['log_PPC_Cost'] = logify(dat_mod['PPC_Cost'])\n",
    "dat_mod['log_PPC_Cost_per_unit'] = logify(dat_mod['PPC_Cost_per_unit'])\n",
    "dat_mod['log_brand_Units'] = logify(dat_mod['brand_Units'])\n",
    "dat_mod['log_brand_PPC_Cost_per_unit'] = logify(dat_mod['brand_PPC_Cost_per_unit'])\n",
    "dat_mod['months_in_year'] = 12\n",
    "dat_mod['sale_type_PPC'] = [1 if s == 'PPC_Units' else 0 for s in dat_mod['sale_type']]\n",
    "dat_mod['log_PPC_Cost_per_unit_PPCONLY'] = dat_mod['log_PPC_Cost_per_unit'] * dat_mod['sale_type_PPC']\n",
    "assign_cycle_vars(dat_mod, 'fracofyear', 'month', 'months_in_year')\n"
   ]
  },
  {
   "cell_type": "code",
   "execution_count": 37,
   "metadata": {},
   "outputs": [],
   "source": [
    "# remove months that have 100% missing\n",
    "dat_mod = dat_mod[dat_mod['pct_missing'] < 1.0]"
   ]
  },
  {
   "cell_type": "code",
   "execution_count": 38,
   "metadata": {},
   "outputs": [
    {
     "data": {
      "text/plain": [
       "(21, 30)"
      ]
     },
     "execution_count": 38,
     "metadata": {},
     "output_type": "execute_result"
    }
   ],
   "source": [
    "df_subset(dat_mod,114,'PPC_Units').shape"
   ]
  },
  {
   "cell_type": "code",
   "execution_count": 39,
   "metadata": {},
   "outputs": [],
   "source": [
    "dat_mod.sort_values(['sale_type','Brand_ID','sku_num','month_ordinal'],inplace=True)\n",
    "#dat_mod"
   ]
  },
  {
   "cell_type": "code",
   "execution_count": 40,
   "metadata": {},
   "outputs": [],
   "source": [
    "dat_mod['month_ordinal_prior'] = dat_mod['month_ordinal'] - 1\n",
    "dat_mod['month_ordinal_prior_2'] = dat_mod['month_ordinal'] - 2"
   ]
  },
  {
   "cell_type": "code",
   "execution_count": 41,
   "metadata": {},
   "outputs": [],
   "source": [
    "# eliminate the first month\n",
    "dat_mod = dat_mod[[True if x > y or x == 37 else False for x,y in zip(dat_mod['month_ordinal'],dat_mod['min_month_ordinal'])]]\n"
   ]
  },
  {
   "cell_type": "code",
   "execution_count": 42,
   "metadata": {},
   "outputs": [],
   "source": [
    "#dat_sub = dat_mod[[True if b==3 and st=='Organic_Units' else False for b,st in zip(dat_mod['Brand_ID'],dat_mod['sale_type'])]].sort_values(['sku_num','month_ordinal'])\n",
    "#sns.lineplot(x='month_ordinal',y='log_Units',hue='sku_num',data=dat_sub)"
   ]
  },
  {
   "cell_type": "code",
   "execution_count": 43,
   "metadata": {},
   "outputs": [],
   "source": [
    "dat_mod = dat_mod.merge(dat_mod[['sku_num','sale_type','month_ordinal','Units','log_Units','brand_Units','log_brand_Units','pct_missing','brand_pct_missing']], how='left',\n",
    "                      left_on=('sku_num','sale_type','month_ordinal_prior'),\n",
    "                        right_on=('sku_num','sale_type','month_ordinal'), suffixes=['','_prior_month'])\n",
    "\n",
    "dat_mod = dat_mod.merge(dat_mod[['sku_num','sale_type','month_ordinal','Units','log_Units','brand_Units','log_brand_Units','pct_missing','brand_pct_missing']], how='left',\n",
    "                      left_on=('sku_num','sale_type','month_ordinal_prior_2'),\n",
    "                        right_on=('sku_num','sale_type','month_ordinal'), suffixes=['','_prior_2_month'])"
   ]
  },
  {
   "cell_type": "code",
   "execution_count": 44,
   "metadata": {},
   "outputs": [],
   "source": [
    "dat_mod.sort_values(['sale_type','sku_num','year_month'],inplace=True)"
   ]
  },
  {
   "cell_type": "code",
   "execution_count": 45,
   "metadata": {},
   "outputs": [],
   "source": [
    "dat_mod['Units_last_valid'] = dat_mod.groupby(['sku_num','sale_type'])['Units_prior_month'].transform(\n",
    "    lambda grp: grp.fillna(method='pad')\n",
    ")\n",
    "dat_mod['log_Units_last_valid'] = dat_mod.groupby(['sku_num','sale_type'])['log_Units_prior_month'].transform(\n",
    "    lambda grp: grp.fillna(method='pad')\n",
    ")\n",
    "dat_mod['pct_missing_last_valid'] = dat_mod.groupby(['sku_num','sale_type'])['pct_missing_prior_month'].transform(\n",
    "    lambda grp: grp.fillna(method='pad')\n",
    ")\n",
    "dat_mod['brand_Units_last_valid'] = dat_mod.groupby(['sku_num','sale_type'])['brand_Units_prior_month'].transform(\n",
    "    lambda grp: grp.fillna(method='pad')\n",
    ")\n",
    "dat_mod['log_brand_Units_last_valid'] = dat_mod.groupby(['sku_num','sale_type'])['log_brand_Units_prior_month'].transform(\n",
    "    lambda grp: grp.fillna(method='pad')\n",
    ")\n",
    "dat_mod['brand_pct_missing_last_valid'] = dat_mod.groupby(['sku_num','sale_type'])['brand_pct_missing_prior_month'].transform(\n",
    "    lambda grp: grp.fillna(method='pad')\n",
    ")"
   ]
  },
  {
   "cell_type": "code",
   "execution_count": 46,
   "metadata": {},
   "outputs": [],
   "source": [
    "# naive model \"feature\"\n",
    "dat_groupby_saletype_month = dat_mod.groupby(['sale_type','year_month']).agg(\n",
    "    monthly_saletype_avg_Units=pd.NamedAgg('Units',np.mean)\n",
    ").reset_index(drop=False)\n",
    "dat_mod = dat_mod.merge(dat_groupby_saletype_month, on=['sale_type','year_month'],how='left')"
   ]
  },
  {
   "cell_type": "code",
   "execution_count": 47,
   "metadata": {},
   "outputs": [],
   "source": [
    "dat_mod = dat_mod.merge(dat_mod[['sale_type','sku_num', 'month_ordinal','monthly_saletype_avg_Units']],\n",
    "              left_on=['sale_type','sku_num','month_ordinal_prior'],\n",
    "              right_on=['sale_type','sku_num','month_ordinal'],how='left',\n",
    "              suffixes=['','_prior_month'])"
   ]
  },
  {
   "cell_type": "code",
   "execution_count": 48,
   "metadata": {},
   "outputs": [],
   "source": [
    "dat_mod.sort_values(['sale_type','sku_num','month_ordinal'])\n",
    "dat_mod['monthly_saletype_avg_Units_last_valid'] = dat_mod.groupby(['sale_type'])['monthly_saletype_avg_Units_prior_month'].transform(\n",
    "    lambda grp: grp.fillna(method='pad')\n",
    ")"
   ]
  },
  {
   "cell_type": "code",
   "execution_count": 49,
   "metadata": {},
   "outputs": [],
   "source": [
    "dat_mod['log_monthly_saletype_avg_Units_prior_month'] = logify(dat_mod['monthly_saletype_avg_Units_prior_month'])\n",
    "dat_mod['log_monthly_saletype_avg_Units_last_valid'] = logify(dat_mod['monthly_saletype_avg_Units_last_valid'])"
   ]
  },
  {
   "cell_type": "code",
   "execution_count": 50,
   "metadata": {},
   "outputs": [],
   "source": [
    "potential_na_features = [\n",
    "    'log_Units_prior_month',\n",
    "    'log_Units_prior_2_month',\n",
    "    'log_Units_last_valid',\n",
    "    'log_brand_Units_prior_month',\n",
    "    'log_brand_Units_last_valid',\n",
    "    'pct_missing_prior_month',\n",
    "    'pct_missing_last_valid',\n",
    "    'brand_pct_missing_prior_month',\n",
    "    'brand_pct_missing_last_valid',\n",
    "    'log_monthly_saletype_avg_Units_prior_month',\n",
    "    'log_monthly_saletype_avg_Units_last_valid',\n",
    "    'log_Units_prior_month_weighted',\n",
    "    'log_brand_Units_prior_month_weighted'\n",
    "]"
   ]
  },
  {
   "cell_type": "code",
   "execution_count": 51,
   "metadata": {},
   "outputs": [],
   "source": [
    "dat_mod['log_Units_prior_month_weighted'] = dat_mod['log_Units_prior_month'] * (1-dat_mod['pct_missing_prior_month'])\n",
    "dat_mod['log_brand_Units_prior_month_weighted']=dat_mod['log_brand_Units_prior_month'] * (1-dat_mod['brand_pct_missing_prior_month'])"
   ]
  },
  {
   "cell_type": "code",
   "execution_count": 52,
   "metadata": {},
   "outputs": [],
   "source": [
    "for col in potential_na_features:\n",
    "    newcol = col+'_MISSING'\n",
    "    dat_mod[newcol] = (dat_mod[col].isna())*1"
   ]
  },
  {
   "cell_type": "code",
   "execution_count": 53,
   "metadata": {},
   "outputs": [],
   "source": [
    "dat_trainvalid = dat_mod[dat_mod['month_ordinal'] <= 31].copy()\n",
    "dat_train = dat_trainvalid[dat_trainvalid['month_ordinal'] <= 23].copy()"
   ]
  },
  {
   "cell_type": "code",
   "execution_count": 54,
   "metadata": {},
   "outputs": [],
   "source": [
    "# order training data by month\n",
    "dat_train.sort_values(['month_ordinal','sku_num','sale_type'],inplace=True)"
   ]
  },
  {
   "cell_type": "code",
   "execution_count": 55,
   "metadata": {},
   "outputs": [],
   "source": [
    "medians_potential_na_features = dat_train[potential_na_features].apply(lambda x: np.nanmedian(x))"
   ]
  },
  {
   "cell_type": "code",
   "execution_count": 56,
   "metadata": {},
   "outputs": [],
   "source": [
    "dat_test = dat_mod[dat_mod['month_ordinal'] > 31].copy()\n",
    "dat_valid = dat_trainvalid[dat_trainvalid['month_ordinal'] > 23].copy()"
   ]
  },
  {
   "cell_type": "code",
   "execution_count": 57,
   "metadata": {},
   "outputs": [],
   "source": [
    "for col in potential_na_features:\n",
    "    dat_train[col] = dat_train[col].fillna(value=medians_potential_na_features[col])\n",
    "    dat_valid[col] = dat_valid[col].fillna(value=medians_potential_na_features[col])\n",
    "    dat_test[col] = dat_test[col].fillna(value=medians_potential_na_features[col])"
   ]
  },
  {
   "cell_type": "code",
   "execution_count": null,
   "metadata": {},
   "outputs": [],
   "source": []
  },
  {
   "cell_type": "code",
   "execution_count": 58,
   "metadata": {},
   "outputs": [],
   "source": [
    "target = ['log_Units']\n",
    "target_min = np.min(dat_mod['Units'])"
   ]
  },
  {
   "cell_type": "code",
   "execution_count": 59,
   "metadata": {},
   "outputs": [],
   "source": [
    "def get_scores(df):\n",
    "    total_scores = score_dict(df)\n",
    "    grouped_scores = dict(df.groupby('sku_missingness_group').apply(lambda df_grp: score_dict(df_grp)))\n",
    "    return {'total_scores':total_scores, 'grouped_scores':grouped_scores}\n",
    "\n",
    "def score_dict(df):\n",
    "    R2 = np.round(r2_score(df[target],df['pred']),3)\n",
    "    RMSE = np.round(rmse(df[target],df['pred']),3)\n",
    "    R2_raw = np.round(r2_score(np.exp(df[target])+target_min-1,np.exp(df['pred'])+target_min-1))\n",
    "    RMSE_raw = np.round(rmse(np.exp(df[target])+target_min-1,np.exp(df['pred'])+target_min-1))\n",
    "    return {'r2':R2, 'rmse':RMSE, 'r2_raw':R2_raw, 'rmse_raw':RMSE_raw}\n",
    "\n",
    "def score_model():\n",
    "    train_scores = get_scores(dat_train)\n",
    "    valid_scores = get_scores(dat_valid)\n",
    "    test_scores = get_scores(dat_test)\n",
    "    return {'train':train_scores, 'valid':valid_scores, 'test':test_scores}\n"
   ]
  },
  {
   "cell_type": "code",
   "execution_count": 60,
   "metadata": {},
   "outputs": [],
   "source": [
    "model_dict={   }\n",
    "# model name -> train/valid/test scores -> valid/test score breakdown by missingness group"
   ]
  },
  {
   "cell_type": "code",
   "execution_count": 61,
   "metadata": {},
   "outputs": [],
   "source": [
    "# naive model\n",
    "naive_feature = 'log_monthly_saletype_avg_Units_last_valid'\n",
    "dat_train['pred'] = dat_train[naive_feature]\n",
    "dat_valid['pred'] = dat_valid[naive_feature]\n",
    "dat_test['pred'] = dat_test[naive_feature]"
   ]
  },
  {
   "cell_type": "code",
   "execution_count": 62,
   "metadata": {},
   "outputs": [],
   "source": [
    "model_dict['naive'] = score_model()"
   ]
  },
  {
   "cell_type": "code",
   "execution_count": 63,
   "metadata": {},
   "outputs": [
    {
     "data": {
      "text/plain": [
       "ElasticNet(alpha=1.0, copy_X=True, fit_intercept=True, l1_ratio=0.5,\n",
       "           max_iter=1000, normalize=False, positive=False, precompute=False,\n",
       "           random_state=1, selection='cyclic', tol=0.0001, warm_start=False)"
      ]
     },
     "execution_count": 63,
     "metadata": {},
     "output_type": "execute_result"
    }
   ],
   "source": [
    "\n",
    "features_mod1 = [naive_feature]\n",
    "mod1 = ElasticNet(random_state=1)\n",
    "mod1.fit(X=dat_train[features_mod1],y=dat_train[target])"
   ]
  },
  {
   "cell_type": "code",
   "execution_count": 64,
   "metadata": {},
   "outputs": [],
   "source": [
    "dat_train['pred'] = mod1.predict(dat_train[features_mod1])\n",
    "dat_valid['pred'] = mod1.predict(dat_valid[features_mod1])\n",
    "dat_test['pred'] = mod1.predict(dat_test[features_mod1])\n",
    "model_dict['mod1'] = score_model()"
   ]
  },
  {
   "cell_type": "code",
   "execution_count": null,
   "metadata": {},
   "outputs": [],
   "source": []
  },
  {
   "cell_type": "code",
   "execution_count": 65,
   "metadata": {},
   "outputs": [
    {
     "data": {
      "text/plain": [
       "ElasticNet(alpha=1.0, copy_X=True, fit_intercept=True, l1_ratio=0.5,\n",
       "           max_iter=1000, normalize=False, positive=False, precompute=False,\n",
       "           random_state=1, selection='cyclic', tol=0.0001, warm_start=False)"
      ]
     },
     "execution_count": 65,
     "metadata": {},
     "output_type": "execute_result"
    }
   ],
   "source": [
    "features_mod2 = ['log_monthly_saletype_avg_Units_last_valid', 'log_Units_last_valid']\n",
    "mod2 = ElasticNet(random_state=1)\n",
    "mod2.fit(X=dat_train[features_mod2],y=dat_train[target])"
   ]
  },
  {
   "cell_type": "code",
   "execution_count": null,
   "metadata": {},
   "outputs": [],
   "source": []
  },
  {
   "cell_type": "code",
   "execution_count": 66,
   "metadata": {},
   "outputs": [],
   "source": [
    "dat_train['pred'] = mod2.predict(dat_train[features_mod2])\n",
    "dat_valid['pred'] = mod2.predict(dat_valid[features_mod2])\n",
    "dat_test['pred'] = mod2.predict(dat_test[features_mod2])\n",
    "model_dict['mod2'] = score_model()"
   ]
  },
  {
   "cell_type": "code",
   "execution_count": 67,
   "metadata": {},
   "outputs": [
    {
     "data": {
      "text/plain": [
       "ElasticNetCV(alphas=None, copy_X=True,\n",
       "             cv=TimeSeriesSplit(max_train_size=None, n_splits=5), eps=0.001,\n",
       "             fit_intercept=True, l1_ratio=0.5, max_iter=1000, n_alphas=100,\n",
       "             n_jobs=None, normalize=False, positive=False, precompute='auto',\n",
       "             random_state=1, selection='cyclic', tol=0.0001, verbose=0)"
      ]
     },
     "execution_count": 67,
     "metadata": {},
     "output_type": "execute_result"
    }
   ],
   "source": [
    "tss = TimeSeriesSplit(n_splits=5)\n",
    "features_mod3 = features_mod2\n",
    "mod3 = ElasticNetCV(random_state=1,cv=tss)\n",
    "mod3.fit(X=dat_train[features_mod3],y=dat_train[target].values.ravel())"
   ]
  },
  {
   "cell_type": "code",
   "execution_count": 68,
   "metadata": {},
   "outputs": [],
   "source": [
    "dat_train['pred'] = mod3.predict(dat_train[features_mod3])\n",
    "dat_valid['pred'] = mod3.predict(dat_valid[features_mod3])\n",
    "dat_test['pred'] = mod3.predict(dat_test[features_mod3])\n",
    "model_dict['mod3'] = score_model()"
   ]
  },
  {
   "cell_type": "code",
   "execution_count": 69,
   "metadata": {},
   "outputs": [
    {
     "data": {
      "text/plain": [
       "ElasticNetCV(alphas=None, copy_X=True,\n",
       "             cv=TimeSeriesSplit(max_train_size=None, n_splits=5), eps=0.001,\n",
       "             fit_intercept=True, l1_ratio=0.5, max_iter=1000, n_alphas=100,\n",
       "             n_jobs=None, normalize=False, positive=False, precompute='auto',\n",
       "             random_state=1, selection='cyclic', tol=0.0001, verbose=0)"
      ]
     },
     "execution_count": 69,
     "metadata": {},
     "output_type": "execute_result"
    }
   ],
   "source": [
    "# add prior month units and pct missing prior month\n",
    "features_mod4 = ['log_monthly_saletype_avg_Units_last_valid', 'log_Units_last_valid', \n",
    "                 'log_Units_prior_month','pct_missing_prior_month']\n",
    "mod4 = ElasticNetCV(random_state=1,cv=tss)\n",
    "mod4.fit(X=dat_train[features_mod4],y=dat_train[target].values.ravel())"
   ]
  },
  {
   "cell_type": "code",
   "execution_count": 70,
   "metadata": {},
   "outputs": [],
   "source": [
    "dat_train['pred'] = mod4.predict(dat_train[features_mod4])\n",
    "dat_valid['pred'] = mod4.predict(dat_valid[features_mod4])\n",
    "dat_test['pred'] = mod4.predict(dat_test[features_mod4])\n",
    "model_dict['mod4'] = score_model()"
   ]
  },
  {
   "cell_type": "code",
   "execution_count": 71,
   "metadata": {},
   "outputs": [
    {
     "data": {
      "text/plain": [
       "ElasticNetCV(alphas=None, copy_X=True,\n",
       "             cv=TimeSeriesSplit(max_train_size=None, n_splits=5), eps=0.001,\n",
       "             fit_intercept=True, l1_ratio=0.5, max_iter=1000, n_alphas=100,\n",
       "             n_jobs=None, normalize=False, positive=False, precompute='auto',\n",
       "             random_state=1, selection='cyclic', tol=0.0001, verbose=0)"
      ]
     },
     "execution_count": 71,
     "metadata": {},
     "output_type": "execute_result"
    }
   ],
   "source": [
    "# add prior month MISSING variables\n",
    "features_mod5 = ['log_monthly_saletype_avg_Units_last_valid', 'log_Units_last_valid', \n",
    "                 'log_Units_prior_month','pct_missing_prior_month',\n",
    "                 'log_Units_prior_month_MISSING'\n",
    "                ]\n",
    "mod5 = ElasticNetCV(random_state=1,cv=tss)\n",
    "mod5.fit(X=dat_train[features_mod5],y=dat_train[target].values.ravel())"
   ]
  },
  {
   "cell_type": "code",
   "execution_count": 72,
   "metadata": {},
   "outputs": [],
   "source": [
    "dat_train['pred'] = mod5.predict(dat_train[features_mod5])\n",
    "dat_valid['pred'] = mod5.predict(dat_valid[features_mod5])\n",
    "dat_test['pred'] = mod5.predict(dat_test[features_mod5])\n",
    "model_dict['mod5'] = score_model()"
   ]
  },
  {
   "cell_type": "code",
   "execution_count": 73,
   "metadata": {},
   "outputs": [
    {
     "data": {
      "text/plain": [
       "ElasticNetCV(alphas=None, copy_X=True,\n",
       "             cv=TimeSeriesSplit(max_train_size=None, n_splits=5), eps=0.001,\n",
       "             fit_intercept=True, l1_ratio=0.5, max_iter=1000, n_alphas=100,\n",
       "             n_jobs=None, normalize=False, positive=False, precompute='auto',\n",
       "             random_state=1, selection='cyclic', tol=0.0001, verbose=0)"
      ]
     },
     "execution_count": 73,
     "metadata": {},
     "output_type": "execute_result"
    }
   ],
   "source": [
    "# add cyclical variables and trend variable\n",
    "features_mod6 = ['log_monthly_saletype_avg_Units_last_valid',\n",
    "                 'log_Units_prior_month',\n",
    "                 'log_Units_prior_month_MISSING',\n",
    "                 'sin_term_fracofyear','cos_term_fracofyear','month_ordinal']\n",
    "mod6 = ElasticNetCV(random_state=1,cv=tss)\n",
    "mod6.fit(X=dat_train[features_mod6],y=dat_train[target].values.ravel())"
   ]
  },
  {
   "cell_type": "code",
   "execution_count": 74,
   "metadata": {
    "scrolled": true
   },
   "outputs": [],
   "source": [
    "dat_train['pred'] = mod6.predict(dat_train[features_mod6])\n",
    "dat_valid['pred'] = mod6.predict(dat_valid[features_mod6])\n",
    "dat_test['pred'] = mod6.predict(dat_test[features_mod6])\n",
    "model_dict['mod6'] = score_model()"
   ]
  },
  {
   "cell_type": "code",
   "execution_count": 75,
   "metadata": {},
   "outputs": [
    {
     "data": {
      "text/plain": [
       "ElasticNetCV(alphas=None, copy_X=True,\n",
       "             cv=TimeSeriesSplit(max_train_size=None, n_splits=5), eps=0.001,\n",
       "             fit_intercept=True, l1_ratio=0.5, max_iter=1000, n_alphas=100,\n",
       "             n_jobs=None, normalize=False, positive=False, precompute='auto',\n",
       "             random_state=1, selection='cyclic', tol=0.0001, verbose=0)"
      ]
     },
     "execution_count": 75,
     "metadata": {},
     "output_type": "execute_result"
    }
   ],
   "source": [
    "# add PPC_cost per unit\n",
    "features_mod7 = ['log_monthly_saletype_avg_Units_last_valid',\n",
    "                 'log_Units_prior_month',\n",
    "                 'pct_missing_prior_month',\n",
    "                 'log_Units_prior_month_MISSING',\n",
    "                 'sin_term_fracofyear','cos_term_fracofyear','month_ordinal',\n",
    "                 'log_PPC_Cost_per_unit_PPCONLY',\n",
    "                 'sale_type_PPC'\n",
    "                ]\n",
    "mod7 = ElasticNetCV(random_state=1,cv=tss)\n",
    "mod7.fit(X=dat_train[features_mod7],y=dat_train[target].values.ravel())"
   ]
  },
  {
   "cell_type": "code",
   "execution_count": 76,
   "metadata": {},
   "outputs": [],
   "source": [
    "dat_train['pred'] = mod7.predict(dat_train[features_mod7])\n",
    "dat_valid['pred'] = mod7.predict(dat_valid[features_mod7])\n",
    "dat_test['pred'] = mod7.predict(dat_test[features_mod7])\n",
    "model_dict['mod7'] = score_model()"
   ]
  },
  {
   "cell_type": "code",
   "execution_count": 77,
   "metadata": {},
   "outputs": [
    {
     "data": {
      "text/plain": [
       "ElasticNetCV(alphas=None, copy_X=True,\n",
       "             cv=TimeSeriesSplit(max_train_size=None, n_splits=5), eps=0.001,\n",
       "             fit_intercept=True, l1_ratio=0.5, max_iter=1000, n_alphas=100,\n",
       "             n_jobs=None, normalize=False, positive=False, precompute='auto',\n",
       "             random_state=1, selection='cyclic', tol=0.0001, verbose=0)"
      ]
     },
     "execution_count": 77,
     "metadata": {},
     "output_type": "execute_result"
    }
   ],
   "source": [
    "# substitute log_Units_prior_month_weighted by lack of missingness\n",
    "features_mod8 = ['log_monthly_saletype_avg_Units_last_valid',\n",
    "                 #'log_Units_prior_month',\n",
    "                 'log_Units_prior_month_MISSING',\n",
    "                 'sin_term_fracofyear','cos_term_fracofyear','month_ordinal',\n",
    "                 'log_PPC_Cost_per_unit_PPCONLY',\n",
    "                 'sale_type_PPC',\n",
    "                 'log_Units_prior_month_weighted'\n",
    "                ]\n",
    "mod8 = ElasticNetCV(random_state=1,cv=tss)\n",
    "mod8.fit(X=dat_train[features_mod8],y=dat_train[target].values.ravel())"
   ]
  },
  {
   "cell_type": "code",
   "execution_count": 78,
   "metadata": {},
   "outputs": [],
   "source": [
    "dat_train['pred'] = mod8.predict(dat_train[features_mod8])\n",
    "dat_valid['pred'] = mod8.predict(dat_valid[features_mod8])\n",
    "dat_test['pred'] = mod8.predict(dat_test[features_mod8])\n",
    "model_dict['mod8'] = score_model()"
   ]
  },
  {
   "cell_type": "code",
   "execution_count": 79,
   "metadata": {},
   "outputs": [
    {
     "data": {
      "text/plain": [
       "ElasticNetCV(alphas=None, copy_X=True,\n",
       "             cv=TimeSeriesSplit(max_train_size=None, n_splits=5), eps=0.001,\n",
       "             fit_intercept=True, l1_ratio=0.5, max_iter=1000, n_alphas=100,\n",
       "             n_jobs=None, normalize=False, positive=False, precompute='auto',\n",
       "             random_state=1, selection='cyclic', tol=0.0001, verbose=0)"
      ]
     },
     "execution_count": 79,
     "metadata": {},
     "output_type": "execute_result"
    }
   ],
   "source": [
    "# add brand units prior month: not very effective\n",
    "features_mod9 = ['log_monthly_saletype_avg_Units_last_valid',\n",
    "                 'log_Units_prior_month',\n",
    "                 'pct_missing_prior_month',\n",
    "                 'log_Units_prior_month_MISSING',\n",
    "                 'sin_term_fracofyear','cos_term_fracofyear','month_ordinal',\n",
    "                 'log_PPC_Cost_per_unit_PPCONLY',\n",
    "                 'sale_type_PPC',\n",
    "                 'log_brand_Units_prior_month'\n",
    "                ]\n",
    "mod9 = ElasticNetCV(random_state=1,cv=tss)\n",
    "mod9.fit(X=dat_train[features_mod9],y=dat_train[target].values.ravel())"
   ]
  },
  {
   "cell_type": "code",
   "execution_count": 80,
   "metadata": {},
   "outputs": [],
   "source": [
    "dat_train['pred'] = mod9.predict(dat_train[features_mod9])\n",
    "dat_valid['pred'] = mod9.predict(dat_valid[features_mod9])\n",
    "dat_test['pred'] = mod9.predict(dat_test[features_mod9])\n",
    "model_dict['mod9'] = score_model()"
   ]
  },
  {
   "cell_type": "code",
   "execution_count": 81,
   "metadata": {},
   "outputs": [
    {
     "data": {
      "text/plain": [
       "ElasticNetCV(alphas=None, copy_X=True,\n",
       "             cv=TimeSeriesSplit(max_train_size=None, n_splits=5), eps=0.001,\n",
       "             fit_intercept=True, l1_ratio=0.5, max_iter=1000, n_alphas=100,\n",
       "             n_jobs=None, normalize=False, positive=False, precompute='auto',\n",
       "             random_state=1, selection='cyclic', tol=0.0001, verbose=0)"
      ]
     },
     "execution_count": 81,
     "metadata": {},
     "output_type": "execute_result"
    }
   ],
   "source": [
    "# add brand units prior month: not very effective\n",
    "features_mod10 = ['log_monthly_saletype_avg_Units_last_valid',\n",
    "                 'log_Units_prior_month',\n",
    "                 'pct_missing_prior_month',\n",
    "                 'log_Units_prior_month_MISSING',\n",
    "                 'sin_term_fracofyear','cos_term_fracofyear','month_ordinal',\n",
    "                 'log_PPC_Cost_per_unit_PPCONLY',\n",
    "                 'sale_type_PPC',\n",
    "                 'log_brand_Units_prior_month',\n",
    "                  'log_Units_prior_2_month'\n",
    "                ]\n",
    "mod10 = ElasticNetCV(random_state=1,cv=tss)\n",
    "mod10.fit(X=dat_train[features_mod10],y=dat_train[target].values.ravel())"
   ]
  },
  {
   "cell_type": "code",
   "execution_count": 82,
   "metadata": {},
   "outputs": [],
   "source": [
    "dat_train['pred'] = mod10.predict(dat_train[features_mod10])\n",
    "dat_valid['pred'] = mod10.predict(dat_valid[features_mod10])\n",
    "dat_test['pred'] = mod10.predict(dat_test[features_mod10])\n",
    "model_dict['mod10'] = score_model()"
   ]
  },
  {
   "cell_type": "code",
   "execution_count": 98,
   "metadata": {},
   "outputs": [
    {
     "name": "stderr",
     "output_type": "stream",
     "text": [
      "/Users/zach/.pyenv/versions/3.8.1/envs/thrasio/lib/python3.8/site-packages/rpy2/robjects/vectors.py:927: UserWarning: R object inheriting from \"POSIXct\" but without attribute \"tzone\".\n",
      "  warnings.warn('R object inheriting from \"POSIXct\" but without '\n"
     ]
    },
    {
     "name": "stdout",
     "output_type": "stream",
     "text": [
      "boundary (singular) fit: see ?isSingular \n",
      "\n",
      "Formula: log_Units~log_Units_prior_month+log_PPC_Cost_per_unit+(log_Units_prior_month+log_PPC_Cost_per_unit|sale_type)\n",
      "\n",
      "Family: gaussian\t Inference: parametric\n",
      "\n",
      "Number of observations: 10004\t Groups: {'sale_type': 2.0}\n",
      "\n",
      "Log-likelihood: 6298.936 \t AIC: -12597.872\n",
      "\n",
      "Random effects:\n",
      "\n",
      "                            Name    Var    Std\n",
      "sale_type            (Intercept)  0.009  0.097\n",
      "sale_type  log_Units_prior_month  0.000  0.009\n",
      "sale_type  log_PPC_Cost_per_unit  0.000  0.013\n",
      "Residual                          0.017  0.129\n",
      "\n",
      "                             IV1                    IV2  Corr\n",
      "sale_type            (Intercept)  log_Units_prior_month  -1.0\n",
      "sale_type            (Intercept)  log_PPC_Cost_per_unit  -1.0\n",
      "sale_type  log_Units_prior_month  log_PPC_Cost_per_unit   1.0\n",
      "\n",
      "Fixed effects:\n",
      "\n"
     ]
    },
    {
     "data": {
      "text/html": [
       "<div>\n",
       "<style scoped>\n",
       "    .dataframe tbody tr th:only-of-type {\n",
       "        vertical-align: middle;\n",
       "    }\n",
       "\n",
       "    .dataframe tbody tr th {\n",
       "        vertical-align: top;\n",
       "    }\n",
       "\n",
       "    .dataframe thead th {\n",
       "        text-align: right;\n",
       "    }\n",
       "</style>\n",
       "<table border=\"1\" class=\"dataframe\">\n",
       "  <thead>\n",
       "    <tr style=\"text-align: right;\">\n",
       "      <th></th>\n",
       "      <th>Estimate</th>\n",
       "      <th>2.5_ci</th>\n",
       "      <th>97.5_ci</th>\n",
       "      <th>SE</th>\n",
       "      <th>DF</th>\n",
       "      <th>T-stat</th>\n",
       "      <th>P-val</th>\n",
       "      <th>Sig</th>\n",
       "    </tr>\n",
       "  </thead>\n",
       "  <tbody>\n",
       "    <tr>\n",
       "      <th>(Intercept)</th>\n",
       "      <td>0.423</td>\n",
       "      <td>0.278</td>\n",
       "      <td>0.569</td>\n",
       "      <td>0.074</td>\n",
       "      <td>0.375</td>\n",
       "      <td>5.713</td>\n",
       "      <td>0.349</td>\n",
       "      <td></td>\n",
       "    </tr>\n",
       "    <tr>\n",
       "      <th>log_Units_prior_month</th>\n",
       "      <td>0.940</td>\n",
       "      <td>0.925</td>\n",
       "      <td>0.956</td>\n",
       "      <td>0.008</td>\n",
       "      <td>0.256</td>\n",
       "      <td>119.503</td>\n",
       "      <td>0.212</td>\n",
       "      <td></td>\n",
       "    </tr>\n",
       "    <tr>\n",
       "      <th>log_PPC_Cost_per_unit</th>\n",
       "      <td>-0.002</td>\n",
       "      <td>-0.021</td>\n",
       "      <td>0.017</td>\n",
       "      <td>0.010</td>\n",
       "      <td>1.090</td>\n",
       "      <td>-0.205</td>\n",
       "      <td>0.869</td>\n",
       "      <td></td>\n",
       "    </tr>\n",
       "  </tbody>\n",
       "</table>\n",
       "</div>"
      ],
      "text/plain": [
       "                       Estimate  2.5_ci  97.5_ci     SE     DF   T-stat  \\\n",
       "(Intercept)               0.423   0.278    0.569  0.074  0.375    5.713   \n",
       "log_Units_prior_month     0.940   0.925    0.956  0.008  0.256  119.503   \n",
       "log_PPC_Cost_per_unit    -0.002  -0.021    0.017  0.010  1.090   -0.205   \n",
       "\n",
       "                       P-val Sig  \n",
       "(Intercept)            0.349      \n",
       "log_Units_prior_month  0.212      \n",
       "log_PPC_Cost_per_unit  0.869      "
      ]
     },
     "execution_count": 98,
     "metadata": {},
     "output_type": "execute_result"
    }
   ],
   "source": [
    "# try hierarchical\n",
    "mod11 = Lmer('log_Units ~ log_Units_prior_month + log_PPC_Cost_per_unit+(log_Units_prior_month+log_PPC_Cost_per_unit|sale_type)', data=dat_train)\n",
    "mod11.fit()"
   ]
  },
  {
   "cell_type": "code",
   "execution_count": 100,
   "metadata": {},
   "outputs": [],
   "source": [
    "dat_train['pred'] = mod11.predict(dat_train)\n",
    "dat_valid['pred'] = mod11.predict(dat_valid)\n",
    "dat_test['pred'] = mod11.predict(dat_test)\n",
    "model_dict['mod11'] = score_model()"
   ]
  },
  {
   "cell_type": "code",
   "execution_count": 127,
   "metadata": {},
   "outputs": [
    {
     "name": "stderr",
     "output_type": "stream",
     "text": [
      "/Users/zach/.pyenv/versions/3.8.1/envs/thrasio/lib/python3.8/site-packages/rpy2/robjects/vectors.py:927: UserWarning: R object inheriting from \"POSIXct\" but without attribute \"tzone\".\n",
      "  warnings.warn('R object inheriting from \"POSIXct\" but without '\n"
     ]
    },
    {
     "name": "stdout",
     "output_type": "stream",
     "text": [
      "boundary (singular) fit: see ?isSingular \n",
      "\n",
      "Formula: log_Units~log_PPC_Cost_per_unit+(log_PPC_Cost_per_unit|Brand_ID)+(log_PPC_Cost_per_unit|sale_type)\n",
      "\n",
      "Family: gaussian\t Inference: parametric\n",
      "\n",
      "Number of observations: 10004\t Groups: {'Brand_ID': 46.0, 'sale_type': 2.0}\n",
      "\n",
      "Log-likelihood: -2019.442 \t AIC: 4038.884\n",
      "\n",
      "Random effects:\n",
      "\n",
      "                            Name    Var    Std\n",
      "Brand_ID             (Intercept)  0.013  0.114\n",
      "Brand_ID   log_PPC_Cost_per_unit  0.002  0.041\n",
      "sale_type            (Intercept)  0.051  0.225\n",
      "sale_type  log_PPC_Cost_per_unit  0.001  0.037\n",
      "Residual                          0.086  0.294\n",
      "\n",
      "                   IV1                    IV2   Corr\n",
      "Brand_ID   (Intercept)  log_PPC_Cost_per_unit  0.468\n",
      "sale_type  (Intercept)  log_PPC_Cost_per_unit -1.000\n",
      "\n",
      "Fixed effects:\n",
      "\n"
     ]
    },
    {
     "data": {
      "text/html": [
       "<div>\n",
       "<style scoped>\n",
       "    .dataframe tbody tr th:only-of-type {\n",
       "        vertical-align: middle;\n",
       "    }\n",
       "\n",
       "    .dataframe tbody tr th {\n",
       "        vertical-align: top;\n",
       "    }\n",
       "\n",
       "    .dataframe thead th {\n",
       "        text-align: right;\n",
       "    }\n",
       "</style>\n",
       "<table border=\"1\" class=\"dataframe\">\n",
       "  <thead>\n",
       "    <tr style=\"text-align: right;\">\n",
       "      <th></th>\n",
       "      <th>Estimate</th>\n",
       "      <th>2.5_ci</th>\n",
       "      <th>97.5_ci</th>\n",
       "      <th>SE</th>\n",
       "      <th>DF</th>\n",
       "      <th>T-stat</th>\n",
       "      <th>P-val</th>\n",
       "      <th>Sig</th>\n",
       "    </tr>\n",
       "  </thead>\n",
       "  <tbody>\n",
       "    <tr>\n",
       "      <th>(Intercept)</th>\n",
       "      <td>6.847</td>\n",
       "      <td>6.533</td>\n",
       "      <td>7.161</td>\n",
       "      <td>0.16</td>\n",
       "      <td>1.001</td>\n",
       "      <td>42.747</td>\n",
       "      <td>0.015</td>\n",
       "      <td>*</td>\n",
       "    </tr>\n",
       "    <tr>\n",
       "      <th>log_PPC_Cost_per_unit</th>\n",
       "      <td>0.033</td>\n",
       "      <td>-0.025</td>\n",
       "      <td>0.091</td>\n",
       "      <td>0.03</td>\n",
       "      <td>1.531</td>\n",
       "      <td>1.102</td>\n",
       "      <td>0.414</td>\n",
       "      <td></td>\n",
       "    </tr>\n",
       "  </tbody>\n",
       "</table>\n",
       "</div>"
      ],
      "text/plain": [
       "                       Estimate  2.5_ci  97.5_ci    SE     DF  T-stat  P-val  \\\n",
       "(Intercept)               6.847   6.533    7.161  0.16  1.001  42.747  0.015   \n",
       "log_PPC_Cost_per_unit     0.033  -0.025    0.091  0.03  1.531   1.102  0.414   \n",
       "\n",
       "                      Sig  \n",
       "(Intercept)             *  \n",
       "log_PPC_Cost_per_unit      "
      ]
     },
     "execution_count": 127,
     "metadata": {},
     "output_type": "execute_result"
    }
   ],
   "source": [
    "# try hierarchical\n",
    "mod12 = Lmer('log_Units ~ log_Units_prior_month + log_PPC_Cost_per_unit+(log_Units_prior_month+log_PPC_Cost_per_unit|Brand_ID)+(log_Units_prior_month+log_PPC_Cost_per_unit|sale_type)', data=dat_train)\n",
    "mod12.fit()"
   ]
  },
  {
   "cell_type": "code",
   "execution_count": 128,
   "metadata": {},
   "outputs": [
    {
     "data": {
      "text/html": [
       "<div>\n",
       "<style scoped>\n",
       "    .dataframe tbody tr th:only-of-type {\n",
       "        vertical-align: middle;\n",
       "    }\n",
       "\n",
       "    .dataframe tbody tr th {\n",
       "        vertical-align: top;\n",
       "    }\n",
       "\n",
       "    .dataframe thead th {\n",
       "        text-align: right;\n",
       "    }\n",
       "</style>\n",
       "<table border=\"1\" class=\"dataframe\">\n",
       "  <thead>\n",
       "    <tr style=\"text-align: right;\">\n",
       "      <th></th>\n",
       "      <th>(Intercept)</th>\n",
       "      <th>log_PPC_Cost_per_unit</th>\n",
       "    </tr>\n",
       "  </thead>\n",
       "  <tbody>\n",
       "    <tr>\n",
       "      <th>1</th>\n",
       "      <td>-0.093492</td>\n",
       "      <td>-0.012530</td>\n",
       "    </tr>\n",
       "    <tr>\n",
       "      <th>2</th>\n",
       "      <td>0.009084</td>\n",
       "      <td>-0.037899</td>\n",
       "    </tr>\n",
       "    <tr>\n",
       "      <th>3</th>\n",
       "      <td>-0.052446</td>\n",
       "      <td>0.020414</td>\n",
       "    </tr>\n",
       "    <tr>\n",
       "      <th>4</th>\n",
       "      <td>0.074935</td>\n",
       "      <td>-0.007203</td>\n",
       "    </tr>\n",
       "    <tr>\n",
       "      <th>5</th>\n",
       "      <td>-0.110326</td>\n",
       "      <td>-0.018517</td>\n",
       "    </tr>\n",
       "    <tr>\n",
       "      <th>6</th>\n",
       "      <td>0.058016</td>\n",
       "      <td>0.009737</td>\n",
       "    </tr>\n",
       "    <tr>\n",
       "      <th>7</th>\n",
       "      <td>0.212914</td>\n",
       "      <td>0.006688</td>\n",
       "    </tr>\n",
       "    <tr>\n",
       "      <th>8</th>\n",
       "      <td>-0.038078</td>\n",
       "      <td>-0.006391</td>\n",
       "    </tr>\n",
       "    <tr>\n",
       "      <th>9</th>\n",
       "      <td>0.280742</td>\n",
       "      <td>0.087856</td>\n",
       "    </tr>\n",
       "    <tr>\n",
       "      <th>10</th>\n",
       "      <td>0.029270</td>\n",
       "      <td>-0.001098</td>\n",
       "    </tr>\n",
       "    <tr>\n",
       "      <th>11</th>\n",
       "      <td>-0.015206</td>\n",
       "      <td>-0.002552</td>\n",
       "    </tr>\n",
       "    <tr>\n",
       "      <th>12</th>\n",
       "      <td>-0.061422</td>\n",
       "      <td>-0.010309</td>\n",
       "    </tr>\n",
       "    <tr>\n",
       "      <th>13</th>\n",
       "      <td>-0.110525</td>\n",
       "      <td>-0.012287</td>\n",
       "    </tr>\n",
       "    <tr>\n",
       "      <th>14</th>\n",
       "      <td>0.127586</td>\n",
       "      <td>0.021414</td>\n",
       "    </tr>\n",
       "    <tr>\n",
       "      <th>15</th>\n",
       "      <td>0.054692</td>\n",
       "      <td>0.009179</td>\n",
       "    </tr>\n",
       "    <tr>\n",
       "      <th>16</th>\n",
       "      <td>-0.079667</td>\n",
       "      <td>-0.032274</td>\n",
       "    </tr>\n",
       "    <tr>\n",
       "      <th>17</th>\n",
       "      <td>0.018375</td>\n",
       "      <td>0.043622</td>\n",
       "    </tr>\n",
       "    <tr>\n",
       "      <th>18</th>\n",
       "      <td>-0.027149</td>\n",
       "      <td>-0.004557</td>\n",
       "    </tr>\n",
       "    <tr>\n",
       "      <th>19</th>\n",
       "      <td>0.151115</td>\n",
       "      <td>0.025363</td>\n",
       "    </tr>\n",
       "    <tr>\n",
       "      <th>20</th>\n",
       "      <td>-0.060048</td>\n",
       "      <td>-0.010079</td>\n",
       "    </tr>\n",
       "    <tr>\n",
       "      <th>21</th>\n",
       "      <td>0.164531</td>\n",
       "      <td>0.027615</td>\n",
       "    </tr>\n",
       "    <tr>\n",
       "      <th>22</th>\n",
       "      <td>0.047622</td>\n",
       "      <td>0.007993</td>\n",
       "    </tr>\n",
       "    <tr>\n",
       "      <th>23</th>\n",
       "      <td>-0.055618</td>\n",
       "      <td>-0.009335</td>\n",
       "    </tr>\n",
       "    <tr>\n",
       "      <th>24</th>\n",
       "      <td>-0.019962</td>\n",
       "      <td>-0.003350</td>\n",
       "    </tr>\n",
       "    <tr>\n",
       "      <th>25</th>\n",
       "      <td>-0.136442</td>\n",
       "      <td>-0.024400</td>\n",
       "    </tr>\n",
       "    <tr>\n",
       "      <th>26</th>\n",
       "      <td>-0.150800</td>\n",
       "      <td>-0.028331</td>\n",
       "    </tr>\n",
       "    <tr>\n",
       "      <th>27</th>\n",
       "      <td>0.034187</td>\n",
       "      <td>-0.015609</td>\n",
       "    </tr>\n",
       "    <tr>\n",
       "      <th>28</th>\n",
       "      <td>-0.013977</td>\n",
       "      <td>-0.002346</td>\n",
       "    </tr>\n",
       "    <tr>\n",
       "      <th>29</th>\n",
       "      <td>0.226963</td>\n",
       "      <td>0.038093</td>\n",
       "    </tr>\n",
       "    <tr>\n",
       "      <th>30</th>\n",
       "      <td>0.178093</td>\n",
       "      <td>0.029891</td>\n",
       "    </tr>\n",
       "    <tr>\n",
       "      <th>31</th>\n",
       "      <td>-0.059554</td>\n",
       "      <td>-0.009996</td>\n",
       "    </tr>\n",
       "    <tr>\n",
       "      <th>32</th>\n",
       "      <td>0.071219</td>\n",
       "      <td>0.011953</td>\n",
       "    </tr>\n",
       "    <tr>\n",
       "      <th>33</th>\n",
       "      <td>0.020724</td>\n",
       "      <td>0.003478</td>\n",
       "    </tr>\n",
       "    <tr>\n",
       "      <th>34</th>\n",
       "      <td>-0.114339</td>\n",
       "      <td>-0.016875</td>\n",
       "    </tr>\n",
       "    <tr>\n",
       "      <th>35</th>\n",
       "      <td>-0.135107</td>\n",
       "      <td>-0.022676</td>\n",
       "    </tr>\n",
       "    <tr>\n",
       "      <th>36</th>\n",
       "      <td>-0.121711</td>\n",
       "      <td>-0.020428</td>\n",
       "    </tr>\n",
       "    <tr>\n",
       "      <th>37</th>\n",
       "      <td>-0.081903</td>\n",
       "      <td>-0.013747</td>\n",
       "    </tr>\n",
       "    <tr>\n",
       "      <th>38</th>\n",
       "      <td>0.066901</td>\n",
       "      <td>0.011229</td>\n",
       "    </tr>\n",
       "    <tr>\n",
       "      <th>39</th>\n",
       "      <td>-0.138921</td>\n",
       "      <td>-0.023316</td>\n",
       "    </tr>\n",
       "    <tr>\n",
       "      <th>40</th>\n",
       "      <td>0.109262</td>\n",
       "      <td>0.035138</td>\n",
       "    </tr>\n",
       "    <tr>\n",
       "      <th>41</th>\n",
       "      <td>-0.067647</td>\n",
       "      <td>-0.011354</td>\n",
       "    </tr>\n",
       "    <tr>\n",
       "      <th>42</th>\n",
       "      <td>-0.099552</td>\n",
       "      <td>-0.016709</td>\n",
       "    </tr>\n",
       "    <tr>\n",
       "      <th>43</th>\n",
       "      <td>-0.013474</td>\n",
       "      <td>-0.002261</td>\n",
       "    </tr>\n",
       "    <tr>\n",
       "      <th>44</th>\n",
       "      <td>-0.016144</td>\n",
       "      <td>-0.002710</td>\n",
       "    </tr>\n",
       "    <tr>\n",
       "      <th>45</th>\n",
       "      <td>-0.050231</td>\n",
       "      <td>-0.008431</td>\n",
       "    </tr>\n",
       "    <tr>\n",
       "      <th>46</th>\n",
       "      <td>-0.012489</td>\n",
       "      <td>-0.002096</td>\n",
       "    </tr>\n",
       "  </tbody>\n",
       "</table>\n",
       "</div>"
      ],
      "text/plain": [
       "    (Intercept)  log_PPC_Cost_per_unit\n",
       "1     -0.093492              -0.012530\n",
       "2      0.009084              -0.037899\n",
       "3     -0.052446               0.020414\n",
       "4      0.074935              -0.007203\n",
       "5     -0.110326              -0.018517\n",
       "6      0.058016               0.009737\n",
       "7      0.212914               0.006688\n",
       "8     -0.038078              -0.006391\n",
       "9      0.280742               0.087856\n",
       "10     0.029270              -0.001098\n",
       "11    -0.015206              -0.002552\n",
       "12    -0.061422              -0.010309\n",
       "13    -0.110525              -0.012287\n",
       "14     0.127586               0.021414\n",
       "15     0.054692               0.009179\n",
       "16    -0.079667              -0.032274\n",
       "17     0.018375               0.043622\n",
       "18    -0.027149              -0.004557\n",
       "19     0.151115               0.025363\n",
       "20    -0.060048              -0.010079\n",
       "21     0.164531               0.027615\n",
       "22     0.047622               0.007993\n",
       "23    -0.055618              -0.009335\n",
       "24    -0.019962              -0.003350\n",
       "25    -0.136442              -0.024400\n",
       "26    -0.150800              -0.028331\n",
       "27     0.034187              -0.015609\n",
       "28    -0.013977              -0.002346\n",
       "29     0.226963               0.038093\n",
       "30     0.178093               0.029891\n",
       "31    -0.059554              -0.009996\n",
       "32     0.071219               0.011953\n",
       "33     0.020724               0.003478\n",
       "34    -0.114339              -0.016875\n",
       "35    -0.135107              -0.022676\n",
       "36    -0.121711              -0.020428\n",
       "37    -0.081903              -0.013747\n",
       "38     0.066901               0.011229\n",
       "39    -0.138921              -0.023316\n",
       "40     0.109262               0.035138\n",
       "41    -0.067647              -0.011354\n",
       "42    -0.099552              -0.016709\n",
       "43    -0.013474              -0.002261\n",
       "44    -0.016144              -0.002710\n",
       "45    -0.050231              -0.008431\n",
       "46    -0.012489              -0.002096"
      ]
     },
     "execution_count": 128,
     "metadata": {},
     "output_type": "execute_result"
    }
   ],
   "source": [
    "mod12.ranef"
   ]
  },
  {
   "cell_type": "code",
   "execution_count": 129,
   "metadata": {},
   "outputs": [],
   "source": [
    "dat_train['pred'] = mod12.predict(dat_train)\n",
    "dat_valid['pred'] = mod12.predict(dat_valid)\n",
    "dat_test['pred'] = mod12.predict(dat_test)\n",
    "model_dict['mod12'] = score_model()"
   ]
  },
  {
   "cell_type": "code",
   "execution_count": 130,
   "metadata": {},
   "outputs": [
    {
     "data": {
      "text/plain": [
       "{'naive': {'r2': -23.508, 'rmse': 2.115, 'r2_raw': -1.0, 'rmse_raw': 1283.0},\n",
       " 'mod1': {'r2': -0.154, 'rmse': 0.459, 'r2_raw': -0.0, 'rmse_raw': 936.0},\n",
       " 'mod2': {'r2': -0.154, 'rmse': 0.459, 'r2_raw': -0.0, 'rmse_raw': 936.0},\n",
       " 'mod3': {'r2': 0.87, 'rmse': 0.154, 'r2_raw': 1.0, 'rmse_raw': 478.0},\n",
       " 'mod4': {'r2': 0.869, 'rmse': 0.154, 'r2_raw': 1.0, 'rmse_raw': 480.0},\n",
       " 'mod5': {'r2': 0.869, 'rmse': 0.154, 'r2_raw': 1.0, 'rmse_raw': 481.0},\n",
       " 'mod6': {'r2': 0.872, 'rmse': 0.153, 'r2_raw': 1.0, 'rmse_raw': 467.0},\n",
       " 'mod7': {'r2': 0.872, 'rmse': 0.153, 'r2_raw': 1.0, 'rmse_raw': 466.0},\n",
       " 'mod8': {'r2': 0.244, 'rmse': 0.372, 'r2_raw': 0.0, 'rmse_raw': 845.0},\n",
       " 'mod9': {'r2': 0.873, 'rmse': 0.153, 'r2_raw': 1.0, 'rmse_raw': 467.0},\n",
       " 'mod10': {'r2': 0.872, 'rmse': 0.153, 'r2_raw': 1.0, 'rmse_raw': 465.0},\n",
       " 'mod11': {'r2': 0.871, 'rmse': 0.153, 'r2_raw': 1.0, 'rmse_raw': 475.0},\n",
       " 'mod12': {'r2': -0.072, 'rmse': 0.442, 'r2_raw': -0.0, 'rmse_raw': 921.0}}"
      ]
     },
     "execution_count": 130,
     "metadata": {},
     "output_type": "execute_result"
    }
   ],
   "source": [
    "{x:model_dict[x]['valid']['grouped_scores']['LOW'] for x in model_dict.keys()}"
   ]
  },
  {
   "cell_type": "code",
   "execution_count": 131,
   "metadata": {},
   "outputs": [
    {
     "data": {
      "text/plain": [
       "{'naive': {'r2': -29.633, 'rmse': 1.995, 'r2_raw': -1.0, 'rmse_raw': 1089.0},\n",
       " 'mod1': {'r2': -0.011, 'rmse': 0.362, 'r2_raw': -0.0, 'rmse_raw': 785.0},\n",
       " 'mod2': {'r2': -0.011, 'rmse': 0.362, 'r2_raw': -0.0, 'rmse_raw': 785.0},\n",
       " 'mod3': {'r2': 0.842, 'rmse': 0.143, 'r2_raw': 1.0, 'rmse_raw': 358.0},\n",
       " 'mod4': {'r2': 0.843, 'rmse': 0.143, 'r2_raw': 1.0, 'rmse_raw': 358.0},\n",
       " 'mod5': {'r2': 0.843, 'rmse': 0.143, 'r2_raw': 1.0, 'rmse_raw': 358.0},\n",
       " 'mod6': {'r2': 0.846, 'rmse': 0.142, 'r2_raw': 1.0, 'rmse_raw': 358.0},\n",
       " 'mod7': {'r2': 0.845, 'rmse': 0.142, 'r2_raw': 1.0, 'rmse_raw': 358.0},\n",
       " 'mod8': {'r2': 0.283, 'rmse': 0.305, 'r2_raw': 0.0, 'rmse_raw': 723.0},\n",
       " 'mod9': {'r2': 0.846, 'rmse': 0.141, 'r2_raw': 1.0, 'rmse_raw': 358.0},\n",
       " 'mod10': {'r2': 0.845, 'rmse': 0.142, 'r2_raw': 1.0, 'rmse_raw': 360.0},\n",
       " 'mod11': {'r2': 0.844, 'rmse': 0.142, 'r2_raw': 1.0, 'rmse_raw': 357.0},\n",
       " 'mod12': {'r2': 0.01, 'rmse': 0.359, 'r2_raw': -0.0, 'rmse_raw': 779.0}}"
      ]
     },
     "execution_count": 131,
     "metadata": {},
     "output_type": "execute_result"
    }
   ],
   "source": [
    "{x:model_dict[x]['valid']['total_scores'] for x in model_dict.keys()}"
   ]
  },
  {
   "cell_type": "code",
   "execution_count": 86,
   "metadata": {},
   "outputs": [
    {
     "data": {
      "text/html": [
       "<div>\n",
       "<style scoped>\n",
       "    .dataframe tbody tr th:only-of-type {\n",
       "        vertical-align: middle;\n",
       "    }\n",
       "\n",
       "    .dataframe tbody tr th {\n",
       "        vertical-align: top;\n",
       "    }\n",
       "\n",
       "    .dataframe thead th {\n",
       "        text-align: right;\n",
       "    }\n",
       "</style>\n",
       "<table border=\"1\" class=\"dataframe\">\n",
       "  <thead>\n",
       "    <tr style=\"text-align: right;\">\n",
       "      <th></th>\n",
       "      <th>sale_type</th>\n",
       "      <th>sku_num</th>\n",
       "      <th>log_Units</th>\n",
       "      <th>log_Units_prior_month</th>\n",
       "      <th>year_month</th>\n",
       "      <th>month_ordinal</th>\n",
       "      <th>log_Units_prior_month_MISSING</th>\n",
       "    </tr>\n",
       "  </thead>\n",
       "  <tbody>\n",
       "    <tr>\n",
       "      <th>24</th>\n",
       "      <td>Organic_Units</td>\n",
       "      <td>1</td>\n",
       "      <td>6.711740</td>\n",
       "      <td>6.683361</td>\n",
       "      <td>2019-05</td>\n",
       "      <td>29.0</td>\n",
       "      <td>1</td>\n",
       "    </tr>\n",
       "    <tr>\n",
       "      <th>25</th>\n",
       "      <td>Organic_Units</td>\n",
       "      <td>1</td>\n",
       "      <td>6.816736</td>\n",
       "      <td>6.711740</td>\n",
       "      <td>2019-06</td>\n",
       "      <td>30.0</td>\n",
       "      <td>0</td>\n",
       "    </tr>\n",
       "    <tr>\n",
       "      <th>26</th>\n",
       "      <td>Organic_Units</td>\n",
       "      <td>1</td>\n",
       "      <td>6.765039</td>\n",
       "      <td>6.816736</td>\n",
       "      <td>2019-07</td>\n",
       "      <td>31.0</td>\n",
       "      <td>0</td>\n",
       "    </tr>\n",
       "    <tr>\n",
       "      <th>50</th>\n",
       "      <td>Organic_Units</td>\n",
       "      <td>2</td>\n",
       "      <td>7.162397</td>\n",
       "      <td>7.107425</td>\n",
       "      <td>2018-12</td>\n",
       "      <td>24.0</td>\n",
       "      <td>0</td>\n",
       "    </tr>\n",
       "    <tr>\n",
       "      <th>51</th>\n",
       "      <td>Organic_Units</td>\n",
       "      <td>2</td>\n",
       "      <td>7.290975</td>\n",
       "      <td>7.162397</td>\n",
       "      <td>2019-01</td>\n",
       "      <td>25.0</td>\n",
       "      <td>0</td>\n",
       "    </tr>\n",
       "    <tr>\n",
       "      <th>...</th>\n",
       "      <td>...</td>\n",
       "      <td>...</td>\n",
       "      <td>...</td>\n",
       "      <td>...</td>\n",
       "      <td>...</td>\n",
       "      <td>...</td>\n",
       "      <td>...</td>\n",
       "    </tr>\n",
       "    <tr>\n",
       "      <th>21323</th>\n",
       "      <td>PPC_Units</td>\n",
       "      <td>472</td>\n",
       "      <td>7.841100</td>\n",
       "      <td>6.683361</td>\n",
       "      <td>2019-06</td>\n",
       "      <td>30.0</td>\n",
       "      <td>1</td>\n",
       "    </tr>\n",
       "    <tr>\n",
       "      <th>21324</th>\n",
       "      <td>PPC_Units</td>\n",
       "      <td>472</td>\n",
       "      <td>8.228978</td>\n",
       "      <td>7.841100</td>\n",
       "      <td>2019-07</td>\n",
       "      <td>31.0</td>\n",
       "      <td>0</td>\n",
       "    </tr>\n",
       "    <tr>\n",
       "      <th>21331</th>\n",
       "      <td>PPC_Units</td>\n",
       "      <td>473</td>\n",
       "      <td>6.675823</td>\n",
       "      <td>6.683361</td>\n",
       "      <td>2019-07</td>\n",
       "      <td>31.0</td>\n",
       "      <td>1</td>\n",
       "    </tr>\n",
       "    <tr>\n",
       "      <th>21338</th>\n",
       "      <td>PPC_Units</td>\n",
       "      <td>474</td>\n",
       "      <td>6.674561</td>\n",
       "      <td>6.683361</td>\n",
       "      <td>2019-07</td>\n",
       "      <td>31.0</td>\n",
       "      <td>1</td>\n",
       "    </tr>\n",
       "    <tr>\n",
       "      <th>21345</th>\n",
       "      <td>PPC_Units</td>\n",
       "      <td>475</td>\n",
       "      <td>6.674561</td>\n",
       "      <td>6.683361</td>\n",
       "      <td>2019-07</td>\n",
       "      <td>31.0</td>\n",
       "      <td>1</td>\n",
       "    </tr>\n",
       "  </tbody>\n",
       "</table>\n",
       "<p>6414 rows × 7 columns</p>\n",
       "</div>"
      ],
      "text/plain": [
       "           sale_type  sku_num  log_Units  log_Units_prior_month year_month  \\\n",
       "24     Organic_Units        1   6.711740               6.683361    2019-05   \n",
       "25     Organic_Units        1   6.816736               6.711740    2019-06   \n",
       "26     Organic_Units        1   6.765039               6.816736    2019-07   \n",
       "50     Organic_Units        2   7.162397               7.107425    2018-12   \n",
       "51     Organic_Units        2   7.290975               7.162397    2019-01   \n",
       "...              ...      ...        ...                    ...        ...   \n",
       "21323      PPC_Units      472   7.841100               6.683361    2019-06   \n",
       "21324      PPC_Units      472   8.228978               7.841100    2019-07   \n",
       "21331      PPC_Units      473   6.675823               6.683361    2019-07   \n",
       "21338      PPC_Units      474   6.674561               6.683361    2019-07   \n",
       "21345      PPC_Units      475   6.674561               6.683361    2019-07   \n",
       "\n",
       "       month_ordinal  log_Units_prior_month_MISSING  \n",
       "24              29.0                              1  \n",
       "25              30.0                              0  \n",
       "26              31.0                              0  \n",
       "50              24.0                              0  \n",
       "51              25.0                              0  \n",
       "...              ...                            ...  \n",
       "21323           30.0                              1  \n",
       "21324           31.0                              0  \n",
       "21331           31.0                              1  \n",
       "21338           31.0                              1  \n",
       "21345           31.0                              1  \n",
       "\n",
       "[6414 rows x 7 columns]"
      ]
     },
     "execution_count": 86,
     "metadata": {},
     "output_type": "execute_result"
    }
   ],
   "source": [
    "dat_valid[['sale_type', 'sku_num', 'log_Units','log_Units_prior_month','year_month','month_ordinal','log_Units_prior_month_MISSING']].sort_values(['sale_type', 'sku_num', 'month_ordinal'])"
   ]
  },
  {
   "cell_type": "code",
   "execution_count": 87,
   "metadata": {},
   "outputs": [],
   "source": [
    "dat_sub = dat_valid[(dat_valid['sale_type']=='PPC_Units')]\n",
    "rmse_scores = dat_sub.groupby('sku_num').apply(lambda x: rmse(x['log_Units'],x['pred']))\n"
   ]
  },
  {
   "cell_type": "markdown",
   "metadata": {},
   "source": [
    "rmse_scores.sort_values"
   ]
  },
  {
   "cell_type": "code",
   "execution_count": 88,
   "metadata": {},
   "outputs": [
    {
     "data": {
      "text/html": [
       "<div>\n",
       "<style scoped>\n",
       "    .dataframe tbody tr th:only-of-type {\n",
       "        vertical-align: middle;\n",
       "    }\n",
       "\n",
       "    .dataframe tbody tr th {\n",
       "        vertical-align: top;\n",
       "    }\n",
       "\n",
       "    .dataframe thead th {\n",
       "        text-align: right;\n",
       "    }\n",
       "</style>\n",
       "<table border=\"1\" class=\"dataframe\">\n",
       "  <thead>\n",
       "    <tr style=\"text-align: right;\">\n",
       "      <th></th>\n",
       "      <th>feature</th>\n",
       "      <th>coef</th>\n",
       "    </tr>\n",
       "  </thead>\n",
       "  <tbody>\n",
       "    <tr>\n",
       "      <th>1</th>\n",
       "      <td>log_Units_prior_month</td>\n",
       "      <td>0.838212</td>\n",
       "    </tr>\n",
       "    <tr>\n",
       "      <th>10</th>\n",
       "      <td>log_Units_prior_2_month</td>\n",
       "      <td>0.087685</td>\n",
       "    </tr>\n",
       "    <tr>\n",
       "      <th>4</th>\n",
       "      <td>sin_term_fracofyear</td>\n",
       "      <td>0.009829</td>\n",
       "    </tr>\n",
       "    <tr>\n",
       "      <th>7</th>\n",
       "      <td>log_PPC_Cost_per_unit_PPCONLY</td>\n",
       "      <td>0.008678</td>\n",
       "    </tr>\n",
       "    <tr>\n",
       "      <th>0</th>\n",
       "      <td>log_monthly_saletype_avg_Units_last_valid</td>\n",
       "      <td>0.007042</td>\n",
       "    </tr>\n",
       "    <tr>\n",
       "      <th>2</th>\n",
       "      <td>pct_missing_prior_month</td>\n",
       "      <td>0.000000</td>\n",
       "    </tr>\n",
       "    <tr>\n",
       "      <th>3</th>\n",
       "      <td>log_Units_prior_month_MISSING</td>\n",
       "      <td>0.000000</td>\n",
       "    </tr>\n",
       "    <tr>\n",
       "      <th>5</th>\n",
       "      <td>cos_term_fracofyear</td>\n",
       "      <td>-0.000000</td>\n",
       "    </tr>\n",
       "    <tr>\n",
       "      <th>6</th>\n",
       "      <td>month_ordinal</td>\n",
       "      <td>-0.001142</td>\n",
       "    </tr>\n",
       "    <tr>\n",
       "      <th>9</th>\n",
       "      <td>log_brand_Units_prior_month</td>\n",
       "      <td>-0.001902</td>\n",
       "    </tr>\n",
       "    <tr>\n",
       "      <th>8</th>\n",
       "      <td>sale_type_PPC</td>\n",
       "      <td>-0.032943</td>\n",
       "    </tr>\n",
       "  </tbody>\n",
       "</table>\n",
       "</div>"
      ],
      "text/plain": [
       "                                      feature      coef\n",
       "1                       log_Units_prior_month  0.838212\n",
       "10                    log_Units_prior_2_month  0.087685\n",
       "4                         sin_term_fracofyear  0.009829\n",
       "7               log_PPC_Cost_per_unit_PPCONLY  0.008678\n",
       "0   log_monthly_saletype_avg_Units_last_valid  0.007042\n",
       "2                     pct_missing_prior_month  0.000000\n",
       "3               log_Units_prior_month_MISSING  0.000000\n",
       "5                         cos_term_fracofyear -0.000000\n",
       "6                               month_ordinal -0.001142\n",
       "9                 log_brand_Units_prior_month -0.001902\n",
       "8                               sale_type_PPC -0.032943"
      ]
     },
     "execution_count": 88,
     "metadata": {},
     "output_type": "execute_result"
    }
   ],
   "source": [
    "get_coef(features_mod10,mod10)"
   ]
  },
  {
   "cell_type": "code",
   "execution_count": 89,
   "metadata": {},
   "outputs": [
    {
     "data": {
      "text/plain": [
       "count    21400.000000\n",
       "mean         0.828893\n",
       "std          1.116145\n",
       "min          0.000000\n",
       "25%          0.000000\n",
       "50%          0.000000\n",
       "75%          1.910655\n",
       "max          5.107036\n",
       "Name: log_PPC_Cost_per_unit, dtype: float64"
      ]
     },
     "execution_count": 89,
     "metadata": {},
     "output_type": "execute_result"
    }
   ],
   "source": [
    "dat_mod['log_PPC_Cost_per_unit'].describe()"
   ]
  },
  {
   "cell_type": "code",
   "execution_count": 90,
   "metadata": {},
   "outputs": [
    {
     "data": {
      "text/plain": [
       "0.8660096679858127"
      ]
     },
     "execution_count": 90,
     "metadata": {},
     "output_type": "execute_result"
    }
   ],
   "source": [
    "#TODO: look at PPC cost per unit for transformed variable where 0 for organic units and ppc cost per unit for ppc units\n",
    "#TODO: add sale type group predictor\n",
    "\n",
    "dat_mod['log_Units'].corr(dat_mod['log_Units_prior_2_month'])"
   ]
  },
  {
   "cell_type": "code",
   "execution_count": 91,
   "metadata": {},
   "outputs": [
    {
     "data": {
      "text/html": [
       "<div>\n",
       "<style scoped>\n",
       "    .dataframe tbody tr th:only-of-type {\n",
       "        vertical-align: middle;\n",
       "    }\n",
       "\n",
       "    .dataframe tbody tr th {\n",
       "        vertical-align: top;\n",
       "    }\n",
       "\n",
       "    .dataframe thead th {\n",
       "        text-align: right;\n",
       "    }\n",
       "</style>\n",
       "<table border=\"1\" class=\"dataframe\">\n",
       "  <thead>\n",
       "    <tr style=\"text-align: right;\">\n",
       "      <th></th>\n",
       "      <th>Brand_ID</th>\n",
       "      <th>year</th>\n",
       "      <th>month_ordinal</th>\n",
       "      <th>days_missing</th>\n",
       "      <th>pct_missing</th>\n",
       "      <th>month</th>\n",
       "      <th>PPC_Cost_per_unit</th>\n",
       "      <th>days_in_month</th>\n",
       "      <th>sku_num</th>\n",
       "      <th>PPC_Cost</th>\n",
       "      <th>...</th>\n",
       "      <th>log_brand_Units_last_valid_MISSING</th>\n",
       "      <th>pct_missing_prior_month_MISSING</th>\n",
       "      <th>pct_missing_last_valid_MISSING</th>\n",
       "      <th>brand_pct_missing_prior_month_MISSING</th>\n",
       "      <th>brand_pct_missing_last_valid_MISSING</th>\n",
       "      <th>log_monthly_saletype_avg_Units_prior_month_MISSING</th>\n",
       "      <th>log_monthly_saletype_avg_Units_last_valid_MISSING</th>\n",
       "      <th>log_Units_prior_month_weighted_MISSING</th>\n",
       "      <th>log_brand_Units_prior_month_weighted_MISSING</th>\n",
       "      <th>pred</th>\n",
       "    </tr>\n",
       "  </thead>\n",
       "  <tbody>\n",
       "    <tr>\n",
       "      <th>count</th>\n",
       "      <td>6414.000000</td>\n",
       "      <td>6414.000000</td>\n",
       "      <td>6414.000000</td>\n",
       "      <td>6414.000000</td>\n",
       "      <td>6414.000000</td>\n",
       "      <td>6414.000000</td>\n",
       "      <td>6414.000000</td>\n",
       "      <td>6414.000000</td>\n",
       "      <td>6414.000000</td>\n",
       "      <td>6414.000000</td>\n",
       "      <td>...</td>\n",
       "      <td>6414.000000</td>\n",
       "      <td>6414.000000</td>\n",
       "      <td>6414.000000</td>\n",
       "      <td>6414.000000</td>\n",
       "      <td>6414.000000</td>\n",
       "      <td>6414.000000</td>\n",
       "      <td>6414.0</td>\n",
       "      <td>6414.000000</td>\n",
       "      <td>6414.000000</td>\n",
       "      <td>6414.000000</td>\n",
       "    </tr>\n",
       "    <tr>\n",
       "      <th>mean</th>\n",
       "      <td>14.789523</td>\n",
       "      <td>2018.876520</td>\n",
       "      <td>27.523854</td>\n",
       "      <td>4.992516</td>\n",
       "      <td>0.164192</td>\n",
       "      <td>5.005613</td>\n",
       "      <td>3.540707</td>\n",
       "      <td>30.375117</td>\n",
       "      <td>225.068912</td>\n",
       "      <td>487.442438</td>\n",
       "      <td>...</td>\n",
       "      <td>0.023075</td>\n",
       "      <td>0.038977</td>\n",
       "      <td>0.023075</td>\n",
       "      <td>0.038977</td>\n",
       "      <td>0.023075</td>\n",
       "      <td>0.038977</td>\n",
       "      <td>0.0</td>\n",
       "      <td>0.038977</td>\n",
       "      <td>0.038977</td>\n",
       "      <td>6.874210</td>\n",
       "    </tr>\n",
       "    <tr>\n",
       "      <th>std</th>\n",
       "      <td>12.103624</td>\n",
       "      <td>0.329013</td>\n",
       "      <td>2.294403</td>\n",
       "      <td>8.362365</td>\n",
       "      <td>0.274569</td>\n",
       "      <td>3.226078</td>\n",
       "      <td>5.984866</td>\n",
       "      <td>0.989534</td>\n",
       "      <td>128.152083</td>\n",
       "      <td>1496.954324</td>\n",
       "      <td>...</td>\n",
       "      <td>0.150152</td>\n",
       "      <td>0.193556</td>\n",
       "      <td>0.150152</td>\n",
       "      <td>0.193556</td>\n",
       "      <td>0.150152</td>\n",
       "      <td>0.193556</td>\n",
       "      <td>0.0</td>\n",
       "      <td>0.193556</td>\n",
       "      <td>0.193556</td>\n",
       "      <td>0.335991</td>\n",
       "    </tr>\n",
       "    <tr>\n",
       "      <th>min</th>\n",
       "      <td>1.000000</td>\n",
       "      <td>2018.000000</td>\n",
       "      <td>24.000000</td>\n",
       "      <td>0.000000</td>\n",
       "      <td>0.000000</td>\n",
       "      <td>1.000000</td>\n",
       "      <td>0.000000</td>\n",
       "      <td>28.000000</td>\n",
       "      <td>1.000000</td>\n",
       "      <td>0.000000</td>\n",
       "      <td>...</td>\n",
       "      <td>0.000000</td>\n",
       "      <td>0.000000</td>\n",
       "      <td>0.000000</td>\n",
       "      <td>0.000000</td>\n",
       "      <td>0.000000</td>\n",
       "      <td>0.000000</td>\n",
       "      <td>0.0</td>\n",
       "      <td>0.000000</td>\n",
       "      <td>0.000000</td>\n",
       "      <td>6.572594</td>\n",
       "    </tr>\n",
       "    <tr>\n",
       "      <th>25%</th>\n",
       "      <td>5.000000</td>\n",
       "      <td>2019.000000</td>\n",
       "      <td>26.000000</td>\n",
       "      <td>0.000000</td>\n",
       "      <td>0.000000</td>\n",
       "      <td>3.000000</td>\n",
       "      <td>0.000000</td>\n",
       "      <td>30.000000</td>\n",
       "      <td>118.000000</td>\n",
       "      <td>0.000000</td>\n",
       "      <td>...</td>\n",
       "      <td>0.000000</td>\n",
       "      <td>0.000000</td>\n",
       "      <td>0.000000</td>\n",
       "      <td>0.000000</td>\n",
       "      <td>0.000000</td>\n",
       "      <td>0.000000</td>\n",
       "      <td>0.0</td>\n",
       "      <td>0.000000</td>\n",
       "      <td>0.000000</td>\n",
       "      <td>6.676219</td>\n",
       "    </tr>\n",
       "    <tr>\n",
       "      <th>50%</th>\n",
       "      <td>11.000000</td>\n",
       "      <td>2019.000000</td>\n",
       "      <td>28.000000</td>\n",
       "      <td>0.000000</td>\n",
       "      <td>0.000000</td>\n",
       "      <td>5.000000</td>\n",
       "      <td>0.000000</td>\n",
       "      <td>31.000000</td>\n",
       "      <td>229.000000</td>\n",
       "      <td>0.000000</td>\n",
       "      <td>...</td>\n",
       "      <td>0.000000</td>\n",
       "      <td>0.000000</td>\n",
       "      <td>0.000000</td>\n",
       "      <td>0.000000</td>\n",
       "      <td>0.000000</td>\n",
       "      <td>0.000000</td>\n",
       "      <td>0.0</td>\n",
       "      <td>0.000000</td>\n",
       "      <td>0.000000</td>\n",
       "      <td>6.732505</td>\n",
       "    </tr>\n",
       "    <tr>\n",
       "      <th>75%</th>\n",
       "      <td>20.000000</td>\n",
       "      <td>2019.000000</td>\n",
       "      <td>30.000000</td>\n",
       "      <td>7.000000</td>\n",
       "      <td>0.225806</td>\n",
       "      <td>7.000000</td>\n",
       "      <td>5.879256</td>\n",
       "      <td>31.000000</td>\n",
       "      <td>334.000000</td>\n",
       "      <td>189.450000</td>\n",
       "      <td>...</td>\n",
       "      <td>0.000000</td>\n",
       "      <td>0.000000</td>\n",
       "      <td>0.000000</td>\n",
       "      <td>0.000000</td>\n",
       "      <td>0.000000</td>\n",
       "      <td>0.000000</td>\n",
       "      <td>0.0</td>\n",
       "      <td>0.000000</td>\n",
       "      <td>0.000000</td>\n",
       "      <td>6.915420</td>\n",
       "    </tr>\n",
       "    <tr>\n",
       "      <th>max</th>\n",
       "      <td>50.000000</td>\n",
       "      <td>2019.000000</td>\n",
       "      <td>31.000000</td>\n",
       "      <td>30.000000</td>\n",
       "      <td>0.967742</td>\n",
       "      <td>12.000000</td>\n",
       "      <td>83.020000</td>\n",
       "      <td>31.000000</td>\n",
       "      <td>475.000000</td>\n",
       "      <td>23203.280000</td>\n",
       "      <td>...</td>\n",
       "      <td>1.000000</td>\n",
       "      <td>1.000000</td>\n",
       "      <td>1.000000</td>\n",
       "      <td>1.000000</td>\n",
       "      <td>1.000000</td>\n",
       "      <td>1.000000</td>\n",
       "      <td>0.0</td>\n",
       "      <td>1.000000</td>\n",
       "      <td>1.000000</td>\n",
       "      <td>9.445701</td>\n",
       "    </tr>\n",
       "  </tbody>\n",
       "</table>\n",
       "<p>8 rows × 70 columns</p>\n",
       "</div>"
      ],
      "text/plain": [
       "          Brand_ID         year  month_ordinal  days_missing  pct_missing  \\\n",
       "count  6414.000000  6414.000000    6414.000000   6414.000000  6414.000000   \n",
       "mean     14.789523  2018.876520      27.523854      4.992516     0.164192   \n",
       "std      12.103624     0.329013       2.294403      8.362365     0.274569   \n",
       "min       1.000000  2018.000000      24.000000      0.000000     0.000000   \n",
       "25%       5.000000  2019.000000      26.000000      0.000000     0.000000   \n",
       "50%      11.000000  2019.000000      28.000000      0.000000     0.000000   \n",
       "75%      20.000000  2019.000000      30.000000      7.000000     0.225806   \n",
       "max      50.000000  2019.000000      31.000000     30.000000     0.967742   \n",
       "\n",
       "             month  PPC_Cost_per_unit  days_in_month      sku_num  \\\n",
       "count  6414.000000        6414.000000    6414.000000  6414.000000   \n",
       "mean      5.005613           3.540707      30.375117   225.068912   \n",
       "std       3.226078           5.984866       0.989534   128.152083   \n",
       "min       1.000000           0.000000      28.000000     1.000000   \n",
       "25%       3.000000           0.000000      30.000000   118.000000   \n",
       "50%       5.000000           0.000000      31.000000   229.000000   \n",
       "75%       7.000000           5.879256      31.000000   334.000000   \n",
       "max      12.000000          83.020000      31.000000   475.000000   \n",
       "\n",
       "           PPC_Cost  ...  log_brand_Units_last_valid_MISSING  \\\n",
       "count   6414.000000  ...                         6414.000000   \n",
       "mean     487.442438  ...                            0.023075   \n",
       "std     1496.954324  ...                            0.150152   \n",
       "min        0.000000  ...                            0.000000   \n",
       "25%        0.000000  ...                            0.000000   \n",
       "50%        0.000000  ...                            0.000000   \n",
       "75%      189.450000  ...                            0.000000   \n",
       "max    23203.280000  ...                            1.000000   \n",
       "\n",
       "       pct_missing_prior_month_MISSING  pct_missing_last_valid_MISSING  \\\n",
       "count                      6414.000000                     6414.000000   \n",
       "mean                          0.038977                        0.023075   \n",
       "std                           0.193556                        0.150152   \n",
       "min                           0.000000                        0.000000   \n",
       "25%                           0.000000                        0.000000   \n",
       "50%                           0.000000                        0.000000   \n",
       "75%                           0.000000                        0.000000   \n",
       "max                           1.000000                        1.000000   \n",
       "\n",
       "       brand_pct_missing_prior_month_MISSING  \\\n",
       "count                            6414.000000   \n",
       "mean                                0.038977   \n",
       "std                                 0.193556   \n",
       "min                                 0.000000   \n",
       "25%                                 0.000000   \n",
       "50%                                 0.000000   \n",
       "75%                                 0.000000   \n",
       "max                                 1.000000   \n",
       "\n",
       "       brand_pct_missing_last_valid_MISSING  \\\n",
       "count                           6414.000000   \n",
       "mean                               0.023075   \n",
       "std                                0.150152   \n",
       "min                                0.000000   \n",
       "25%                                0.000000   \n",
       "50%                                0.000000   \n",
       "75%                                0.000000   \n",
       "max                                1.000000   \n",
       "\n",
       "       log_monthly_saletype_avg_Units_prior_month_MISSING  \\\n",
       "count                                        6414.000000    \n",
       "mean                                            0.038977    \n",
       "std                                             0.193556    \n",
       "min                                             0.000000    \n",
       "25%                                             0.000000    \n",
       "50%                                             0.000000    \n",
       "75%                                             0.000000    \n",
       "max                                             1.000000    \n",
       "\n",
       "       log_monthly_saletype_avg_Units_last_valid_MISSING  \\\n",
       "count                                             6414.0   \n",
       "mean                                                 0.0   \n",
       "std                                                  0.0   \n",
       "min                                                  0.0   \n",
       "25%                                                  0.0   \n",
       "50%                                                  0.0   \n",
       "75%                                                  0.0   \n",
       "max                                                  0.0   \n",
       "\n",
       "       log_Units_prior_month_weighted_MISSING  \\\n",
       "count                             6414.000000   \n",
       "mean                                 0.038977   \n",
       "std                                  0.193556   \n",
       "min                                  0.000000   \n",
       "25%                                  0.000000   \n",
       "50%                                  0.000000   \n",
       "75%                                  0.000000   \n",
       "max                                  1.000000   \n",
       "\n",
       "       log_brand_Units_prior_month_weighted_MISSING         pred  \n",
       "count                                   6414.000000  6414.000000  \n",
       "mean                                       0.038977     6.874210  \n",
       "std                                        0.193556     0.335991  \n",
       "min                                        0.000000     6.572594  \n",
       "25%                                        0.000000     6.676219  \n",
       "50%                                        0.000000     6.732505  \n",
       "75%                                        0.000000     6.915420  \n",
       "max                                        1.000000     9.445701  \n",
       "\n",
       "[8 rows x 70 columns]"
      ]
     },
     "execution_count": 91,
     "metadata": {},
     "output_type": "execute_result"
    }
   ],
   "source": [
    "dat_valid.describe()"
   ]
  },
  {
   "cell_type": "code",
   "execution_count": null,
   "metadata": {},
   "outputs": [],
   "source": []
  }
 ],
 "metadata": {
  "kernelspec": {
   "display_name": "Python 3",
   "language": "python",
   "name": "python3"
  },
  "language_info": {
   "codemirror_mode": {
    "name": "ipython",
    "version": 3
   },
   "file_extension": ".py",
   "mimetype": "text/x-python",
   "name": "python",
   "nbconvert_exporter": "python",
   "pygments_lexer": "ipython3",
   "version": "3.8.1"
  }
 },
 "nbformat": 4,
 "nbformat_minor": 4
}
