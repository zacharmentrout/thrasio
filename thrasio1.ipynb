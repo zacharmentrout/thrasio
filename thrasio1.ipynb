{
 "cells": [
  {
   "cell_type": "code",
   "execution_count": 478,
   "metadata": {},
   "outputs": [],
   "source": [
    "import numpy as np\n",
    "import pandas as pd\n",
    "import matplotlib.pyplot as plt\n",
    "import seaborn as sns\n",
    "from sklearn.linear_model import LinearRegression, ElasticNet, ElasticNetCV\n",
    "from sklearn.model_selection import TimeSeriesSplit\n",
    "from pathlib import Path\n",
    "from sklearn.model_selection import GridSearchCV, RandomizedSearchCV, train_test_split, PredefinedSplit\n",
    "from sklearn.preprocessing import OneHotEncoder\n",
    "from sklearn.impute import SimpleImputer\n",
    "from sklearn.pipeline import Pipeline\n",
    "from sklearn.compose import ColumnTransformer\n",
    "from sklearn.metrics import r2_score, mean_squared_error\n",
    "from sklearn.ensemble.partial_dependence import partial_dependence, plot_partial_dependence\n",
    "import scipy.stats as st\n",
    "import calendar\n",
    "import os\n",
    "import missingno as msno\n",
    "import datetime as dt\n",
    "import time\n",
    "import shap\n",
    "from pymer4.models import Lmer\n",
    "from xgboost import XGBRegressor, plot_importance\n",
    "from statsmodels.graphics.tsaplots import plot_acf\n"
   ]
  },
  {
   "cell_type": "code",
   "execution_count": 2,
   "metadata": {},
   "outputs": [],
   "source": [
    "os.environ['KMP_DUPLICATE_LIB_OK']='True'"
   ]
  },
  {
   "cell_type": "code",
   "execution_count": 3,
   "metadata": {},
   "outputs": [],
   "source": [
    "def assign_cycle_vars(df, suffix, var_pos, var_cycle_length):\n",
    "    df['sin_term_'+suffix] = np.sin(df[var_pos]/df[var_cycle_length])\n",
    "    df['cos_term_'+suffix] = np.cos(df[var_pos]/df[var_cycle_length])\n",
    "    return None\n",
    "def days_between(d1, d2):\n",
    "    d1 = dt.datetime.strptime(d1, \"%Y-%m-%d\")\n",
    "    d2 = dt.datetime.strptime(d2, \"%Y-%m-%d\")\n",
    "    return (d2 - d1).days+1\n",
    "def logify(x):\n",
    "    return np.log(x - np.min(x) + 1)\n",
    "def cartesian_product_basic(left, right):\n",
    "    return (\n",
    "       left.assign(key=1).merge(right.assign(key=1), on='key',suffixes=['','']).drop('key', 1))\n",
    "def df_subset(df,sku_num, sale_type):\n",
    "    return df[[x==sku_num and y==sale_type for x,y in zip(df['sku_num'],df['sale_type'])]]\n",
    "def rmse(y, y_pred):\n",
    "    return np.sqrt(mean_squared_error(y,y_pred))\n",
    "\n",
    "# univariate outlier detection, based on MAD (source: shorturl.at/mpuFO)\n",
    "def is_outlier(points, thresh=3.5):\n",
    "    if len(points.shape) == 1:\n",
    "        points = points[:,None]\n",
    "    median = np.median(points)\n",
    "    diff = points - median\n",
    "    abs_deviation = np.abs(diff)\n",
    "    med_abs_deviation = np.median(abs_deviation)\n",
    "    modified_z_score = 0.6745 * diff / med_abs_deviation\n",
    "\n",
    "    return np.abs(modified_z_score) > thresh\n",
    "\n",
    "def get_coef(features,mod):\n",
    "    out = pd.DataFrame(zip(features,mod.coef_),columns=['feature','coef']).sort_values('coef',ascending=False)\n",
    "    return out\n",
    "\n"
   ]
  },
  {
   "cell_type": "code",
   "execution_count": 4,
   "metadata": {},
   "outputs": [],
   "source": [
    "main_dir = Path('/Users/zach/Documents/git/thrasio')\n",
    "data_dir = main_dir / 'Case_Study_Materials'\n",
    "file_path = data_dir / 'CASE_STUDY_FINAL.csv'"
   ]
  },
  {
   "cell_type": "code",
   "execution_count": 5,
   "metadata": {},
   "outputs": [],
   "source": [
    "dat_orig = pd.read_csv(file_path, low_memory=False)"
   ]
  },
  {
   "cell_type": "code",
   "execution_count": 6,
   "metadata": {},
   "outputs": [
    {
     "data": {
      "text/plain": [
       "(266500, 7)"
      ]
     },
     "execution_count": 6,
     "metadata": {},
     "output_type": "execute_result"
    }
   ],
   "source": [
    "dat_orig.shape"
   ]
  },
  {
   "cell_type": "code",
   "execution_count": 7,
   "metadata": {},
   "outputs": [],
   "source": [
    "dat_init = dat_orig.copy()"
   ]
  },
  {
   "cell_type": "code",
   "execution_count": null,
   "metadata": {},
   "outputs": [],
   "source": []
  },
  {
   "cell_type": "code",
   "execution_count": 8,
   "metadata": {},
   "outputs": [],
   "source": [
    "dat_init['datetime'] = pd.to_datetime(dat_init['Date'])\n",
    "dat_init['sku_brand'] = [x+'-'+str(y) for x,y in zip(dat_init['SKU_mkt'],dat_init['Brand_ID'])]"
   ]
  },
  {
   "cell_type": "markdown",
   "metadata": {},
   "source": [
    "Create dimension tables for sku and date"
   ]
  },
  {
   "cell_type": "code",
   "execution_count": 9,
   "metadata": {},
   "outputs": [],
   "source": [
    "dim_sku = pd.DataFrame(dat_init['sku_brand'].unique(),columns=['sku_brand'])"
   ]
  },
  {
   "cell_type": "code",
   "execution_count": 10,
   "metadata": {},
   "outputs": [],
   "source": [
    "dim_sku['sku_num'] = list(range(dim_sku.shape[0]))"
   ]
  },
  {
   "cell_type": "code",
   "execution_count": 11,
   "metadata": {},
   "outputs": [],
   "source": [
    "dim_sku['Brand_ID'] = [int(s.split('-')[-1]) for s in dim_sku['sku_brand']]"
   ]
  },
  {
   "cell_type": "code",
   "execution_count": 12,
   "metadata": {},
   "outputs": [],
   "source": [
    "dim_date = pd.DataFrame(dat_init['datetime'].unique(),columns=['datetime'])"
   ]
  },
  {
   "cell_type": "code",
   "execution_count": 13,
   "metadata": {},
   "outputs": [],
   "source": [
    "dim_date['date'] = dim_date['datetime'].dt.date\n",
    "dim_date['year'] = dim_date['datetime'].dt.year\n",
    "dim_date['month'] = dim_date['datetime'].dt.month\n",
    "dim_date['dayofyear'] = dim_date['datetime'].dt.dayofyear\n",
    "dim_date['dayofmonth'] = dim_date['datetime'].dt.day\n",
    "dim_date['dayofweek'] = dim_date['datetime'].dt.weekday\n",
    "dim_date['days_in_month'] = [calendar.monthrange(y,m)[1] for y,m in zip(dim_date['year'], dim_date['month'])]\n",
    "dim_date['days_in_year'] = [366 if calendar.isleap(y) else 365 for y in dim_date['year']]\n",
    "dim_date['days_in_week'] = 7\n",
    "dim_date['year_month'] = [str(y)+'-'+str(m) if m > 9 else str(y)+'-0'+str(m) for y,m in zip(dim_date['year'], dim_date['month'])]\n",
    "assign_cycle_vars(dim_date, 'fracofyear', 'dayofyear', 'days_in_year')\n",
    "assign_cycle_vars(dim_date, 'fracofmonth', 'dayofmonth', 'days_in_month')\n",
    "assign_cycle_vars(dim_date, 'fracofweek', 'dayofweek', 'days_in_week')"
   ]
  },
  {
   "cell_type": "code",
   "execution_count": 14,
   "metadata": {},
   "outputs": [],
   "source": [
    "dim_date['day_ordinal'] = dim_date['datetime'].rank(method='dense')\n",
    "dim_date['month_ordinal'] = dim_date['year_month'].rank(method='dense')\n",
    "#TODO add weekenddates, monthenddate, yearenddate"
   ]
  },
  {
   "cell_type": "code",
   "execution_count": 15,
   "metadata": {},
   "outputs": [],
   "source": [
    "# \"previous\" dates\n",
    "dim_date['date_prior_day'] = dim_date['date'] - dt.timedelta(days=1)\n",
    "dim_date['date_prior_week'] = dim_date['date'] - dt.timedelta(days=7)\n",
    "dim_date['date_prior_year'] = dim_date['date'] - dt.timedelta(weeks=52)"
   ]
  },
  {
   "cell_type": "markdown",
   "metadata": {},
   "source": [
    "Create skeleton"
   ]
  },
  {
   "cell_type": "code",
   "execution_count": 16,
   "metadata": {},
   "outputs": [],
   "source": [
    "skel = cartesian_product_basic(dim_sku,dim_date)"
   ]
  },
  {
   "cell_type": "markdown",
   "metadata": {},
   "source": [
    "Add dim table data to main dataset"
   ]
  },
  {
   "cell_type": "code",
   "execution_count": 17,
   "metadata": {},
   "outputs": [],
   "source": [
    "dat = skel.merge(dat_init, how='left', on=['sku_brand','Brand_ID','datetime'],suffixes=['',''])"
   ]
  },
  {
   "cell_type": "code",
   "execution_count": 18,
   "metadata": {},
   "outputs": [],
   "source": [
    "dat['missing'] = (dat['Total_Units'].isna())*1"
   ]
  },
  {
   "cell_type": "markdown",
   "metadata": {},
   "source": [
    "Inspect missingness"
   ]
  },
  {
   "cell_type": "code",
   "execution_count": 19,
   "metadata": {},
   "outputs": [],
   "source": [
    "df_missing = dat[['sku_num','missing','day_ordinal']].copy()\n",
    "df_missing_agg = df_missing.groupby('sku_num')['missing'].mean().reset_index(drop=False)\n",
    "df_missing.sort_values(['day_ordinal','sku_num'])\n",
    "df_missing_pivot = df_missing.pivot(index='sku_num',columns='day_ordinal',values='missing').reset_index(drop=False)\n",
    "df_missing_pivot = df_missing_pivot.merge(df_missing_agg, how='left', on='sku_num')\n",
    "df_missing_pivot.sort_values('missing', ascending=False,inplace=True)"
   ]
  },
  {
   "cell_type": "code",
   "execution_count": 20,
   "metadata": {},
   "outputs": [],
   "source": [
    "df_missing_pivot.rename(columns={'missing':'total_sku_pct_missing'},inplace=True)"
   ]
  },
  {
   "cell_type": "code",
   "execution_count": 21,
   "metadata": {},
   "outputs": [
    {
     "data": {
      "text/plain": [
       "<matplotlib.axes._subplots.AxesSubplot at 0x10319ceb0>"
      ]
     },
     "execution_count": 21,
     "metadata": {},
     "output_type": "execute_result"
    },
    {
     "data": {
      "image/png": "[encoded data removed]",
      "text/plain": [
       "<Figure size 2160x1080 with 2 Axes>"
      ]
     },
     "metadata": {
      "needs_background": "light"
     },
     "output_type": "display_data"
    }
   ],
   "source": [
    "plt.figure(figsize=(30,15))\n",
    "sns.heatmap(df_missing_pivot.drop(labels=['total_sku_pct_missing', 'sku_num'],axis=1))"
   ]
  },
  {
   "cell_type": "markdown",
   "metadata": {},
   "source": [
    "Inspect sample size for each sku"
   ]
  },
  {
   "cell_type": "code",
   "execution_count": 22,
   "metadata": {},
   "outputs": [],
   "source": [
    "# group by sku_num, sku_mkt, month: get % missing for each month and use as predictor\n",
    "def day_of_min_nonmissing(df):\n",
    "    return df.loc[df['missing'].idxmin(),'day_ordinal']\n",
    "\n",
    "min_nonmissing_days = pd.DataFrame(dat.groupby('sku_num').apply(lambda x:day_of_min_nonmissing(x)),columns=['min_nonmissing_day']).reset_index(drop=False)\n",
    "dat = dat.merge(min_nonmissing_days, how='left', on='sku_num',suffixes=['',''])\n"
   ]
  },
  {
   "cell_type": "markdown",
   "metadata": {},
   "source": [
    "Limit data for each SKU to after first non-missing day"
   ]
  },
  {
   "cell_type": "code",
   "execution_count": 23,
   "metadata": {},
   "outputs": [],
   "source": [
    "dat = dat[[True if x >= y else False for x,y in zip(dat['day_ordinal'],dat['min_nonmissing_day'])]]\n",
    "dat['missing'] = dat['missing'].astype('float64')\n",
    "dat.fillna(int(0),inplace=True,downcast=False)"
   ]
  },
  {
   "cell_type": "markdown",
   "metadata": {},
   "source": [
    "Aggregate data by SKU and month (and brand and month)"
   ]
  },
  {
   "cell_type": "code",
   "execution_count": 24,
   "metadata": {},
   "outputs": [],
   "source": [
    "dat_mod = pd.DataFrame(dat.groupby(['sku_num', 'sku_brand','Brand_ID', 'days_in_month',\n",
    "             'year_month','year','month','month_ordinal']).agg(\n",
    "    PPC_Units=pd.NamedAgg('PPC_Units',np.sum),\n",
    "    Organic_Units=pd.NamedAgg('Organic_Units',np.sum),\n",
    "    PPC_Cost=pd.NamedAgg('PPC_Cost',np.sum),\n",
    "    days_missing=pd.NamedAgg('missing',np.sum) \n",
    ")).reset_index(drop=False)"
   ]
  },
  {
   "cell_type": "code",
   "execution_count": 25,
   "metadata": {},
   "outputs": [],
   "source": [
    "dat_mod_brand = dat.groupby(['Brand_ID','month_ordinal','days_in_month', 'year_month','year','month']).agg(\n",
    "    PPC_Units=pd.NamedAgg('PPC_Units',np.sum),\n",
    "    Organic_Units=pd.NamedAgg('Organic_Units',np.sum),\n",
    "    PPC_Cost=pd.NamedAgg('PPC_Cost',np.sum),\n",
    "    days_missing=pd.NamedAgg('missing',np.sum),\n",
    "    sku_count=pd.NamedAgg('sku_num','nunique')\n",
    ").reset_index(drop=False)"
   ]
  },
  {
   "cell_type": "markdown",
   "metadata": {},
   "source": [
    "Generate PPC Cost variable"
   ]
  },
  {
   "cell_type": "code",
   "execution_count": 26,
   "metadata": {},
   "outputs": [],
   "source": [
    "dat_mod['PPC_Cost_per_unit'] = abs(dat_mod['PPC_Cost']) / (dat_mod['PPC_Units']+1)\n",
    "dat_mod_brand['brand_PPC_Cost_per_unit'] = abs(dat_mod_brand['PPC_Cost']) / (dat_mod_brand['PPC_Units']+1)"
   ]
  },
  {
   "cell_type": "code",
   "execution_count": 27,
   "metadata": {},
   "outputs": [],
   "source": [
    "min_month_ordinals = pd.DataFrame(dat_mod.groupby('sku_num')['month_ordinal'].min()).reset_index()\n",
    "min_month_ordinals.rename(columns={'month_ordinal':'min_month_ordinal'},inplace=True)\n",
    "dat_mod = dat_mod.merge(min_month_ordinals, how='left', on='sku_num',suffixes=['',''])"
   ]
  },
  {
   "cell_type": "code",
   "execution_count": 28,
   "metadata": {},
   "outputs": [],
   "source": [
    "dat_mod['pct_missing'] = dat_mod['days_missing'] / dat_mod['days_in_month']\n",
    "dat_mod_brand['brand_pct_missing'] = dat_mod_brand['days_missing'] / (dat_mod_brand['days_in_month']*dat_mod_brand['sku_count'])"
   ]
  },
  {
   "cell_type": "code",
   "execution_count": 29,
   "metadata": {},
   "outputs": [],
   "source": [
    "value_vars=['PPC_Units','Organic_Units']\n",
    "dat_mod = dat_mod.melt(id_vars=set(dat_mod.columns)-set(value_vars),value_vars=value_vars,var_name='sale_type',value_name='Units')\n",
    "dat_mod_brand = dat_mod_brand.melt(id_vars=set(dat_mod_brand.columns)-set(value_vars),value_vars=value_vars,var_name='sale_type',value_name='brand_Units')\n"
   ]
  },
  {
   "cell_type": "code",
   "execution_count": 30,
   "metadata": {},
   "outputs": [
    {
     "data": {
      "text/plain": [
       "<matplotlib.axes._subplots.AxesSubplot at 0x11b1be520>"
      ]
     },
     "execution_count": 30,
     "metadata": {},
     "output_type": "execute_result"
    },
    {
     "data": {
      "image/png": "[encoded data removed]",
      "text/plain": [
       "<Figure size 432x288 with 1 Axes>"
      ]
     },
     "metadata": {
      "needs_background": "light"
     },
     "output_type": "display_data"
    }
   ],
   "source": [
    "sns.kdeplot(dat_mod['pct_missing'])\n",
    "sns.kdeplot(dat_mod_brand['brand_pct_missing'])"
   ]
  },
  {
   "cell_type": "code",
   "execution_count": 31,
   "metadata": {},
   "outputs": [
    {
     "data": {
      "text/plain": [
       "0"
      ]
     },
     "execution_count": 31,
     "metadata": {},
     "output_type": "execute_result"
    }
   ],
   "source": [
    "#TODO correlations between PPC cost and PPC units/organic units\n",
    "dat_mod.duplicated(subset=['sku_num','year_month','sale_type']).sum()"
   ]
  },
  {
   "cell_type": "code",
   "execution_count": 32,
   "metadata": {},
   "outputs": [],
   "source": [
    "def assign_missingness_group(x):\n",
    "    if x > 0.7:\n",
    "        return 'HIGH'\n",
    "    elif x > 0.3:\n",
    "        return 'MED'\n",
    "    else:\n",
    "        return 'LOW'\n",
    "    \n",
    "df_missing_pivot['sku_missingness_group'] = [assign_missingness_group(x) for x in df_missing_pivot['total_sku_pct_missing']]\n",
    "\n"
   ]
  },
  {
   "cell_type": "code",
   "execution_count": 33,
   "metadata": {},
   "outputs": [],
   "source": [
    "# create groups of low, medium, and high-missingness products\n",
    "dat_mod = dat_mod.merge(df_missing_pivot[['sku_num', 'total_sku_pct_missing','sku_missingness_group']], how='left',on='sku_num')\n"
   ]
  },
  {
   "cell_type": "code",
   "execution_count": 34,
   "metadata": {},
   "outputs": [],
   "source": [
    "dat_mod = dat_mod.merge(dat_mod_brand[['sale_type','Brand_ID','year_month','brand_pct_missing','brand_PPC_Cost_per_unit', 'brand_Units']],how='left',on=['sale_type','Brand_ID','year_month'])\n"
   ]
  },
  {
   "cell_type": "code",
   "execution_count": 36,
   "metadata": {},
   "outputs": [],
   "source": [
    "dat_mod['log_Units'] = logify(dat_mod['Units'])\n",
    "dat_mod['PPC_Cost'] = abs(dat_mod['PPC_Cost'])\n",
    "dat_mod['log_PPC_Cost'] = logify(dat_mod['PPC_Cost'])\n",
    "dat_mod['log_PPC_Cost_per_unit'] = logify(dat_mod['PPC_Cost_per_unit'])\n",
    "dat_mod['log_brand_Units'] = logify(dat_mod['brand_Units'])\n",
    "dat_mod['log_brand_PPC_Cost_per_unit'] = logify(dat_mod['brand_PPC_Cost_per_unit'])\n",
    "dat_mod['months_in_year'] = 12\n",
    "dat_mod['sale_type_PPC'] = [1 if s == 'PPC_Units' else 0 for s in dat_mod['sale_type']]\n",
    "dat_mod['log_PPC_Cost_per_unit_PPCONLY'] = dat_mod['log_PPC_Cost_per_unit'] * dat_mod['sale_type_PPC']\n",
    "assign_cycle_vars(dat_mod, 'fracofyear', 'month', 'months_in_year')\n"
   ]
  },
  {
   "cell_type": "code",
   "execution_count": 37,
   "metadata": {},
   "outputs": [],
   "source": [
    "# remove months that have 100% missing\n",
    "dat_mod = dat_mod[dat_mod['pct_missing'] < 1.0]"
   ]
  },
  {
   "cell_type": "code",
   "execution_count": 38,
   "metadata": {},
   "outputs": [
    {
     "data": {
      "text/plain": [
       "(21, 30)"
      ]
     },
     "execution_count": 38,
     "metadata": {},
     "output_type": "execute_result"
    }
   ],
   "source": [
    "df_subset(dat_mod,114,'PPC_Units').shape"
   ]
  },
  {
   "cell_type": "code",
   "execution_count": 39,
   "metadata": {},
   "outputs": [],
   "source": [
    "dat_mod.sort_values(['sale_type','Brand_ID','sku_num','month_ordinal'],inplace=True)\n",
    "#dat_mod"
   ]
  },
  {
   "cell_type": "code",
   "execution_count": 40,
   "metadata": {},
   "outputs": [],
   "source": [
    "dat_mod['month_ordinal_prior'] = dat_mod['month_ordinal'] - 1\n",
    "dat_mod['month_ordinal_prior_2'] = dat_mod['month_ordinal'] - 2"
   ]
  },
  {
   "cell_type": "code",
   "execution_count": 41,
   "metadata": {},
   "outputs": [],
   "source": [
    "# eliminate the first month\n",
    "dat_mod = dat_mod[[True if x > y or x == 37 else False for x,y in zip(dat_mod['month_ordinal'],dat_mod['min_month_ordinal'])]]\n"
   ]
  },
  {
   "cell_type": "code",
   "execution_count": 42,
   "metadata": {},
   "outputs": [],
   "source": [
    "#dat_sub = dat_mod[[True if b==3 and st=='Organic_Units' else False for b,st in zip(dat_mod['Brand_ID'],dat_mod['sale_type'])]].sort_values(['sku_num','month_ordinal'])\n",
    "#sns.lineplot(x='month_ordinal',y='log_Units',hue='sku_num',data=dat_sub)"
   ]
  },
  {
   "cell_type": "code",
   "execution_count": 43,
   "metadata": {},
   "outputs": [],
   "source": [
    "dat_mod = dat_mod.merge(dat_mod[['sku_num','sale_type','month_ordinal','Units','log_Units','brand_Units','log_brand_Units','pct_missing','brand_pct_missing']], how='left',\n",
    "                      left_on=('sku_num','sale_type','month_ordinal_prior'),\n",
    "                        right_on=('sku_num','sale_type','month_ordinal'), suffixes=['','_prior_month'])\n",
    "\n",
    "dat_mod = dat_mod.merge(dat_mod[['sku_num','sale_type','month_ordinal','Units','log_Units','brand_Units','log_brand_Units','pct_missing','brand_pct_missing']], how='left',\n",
    "                      left_on=('sku_num','sale_type','month_ordinal_prior_2'),\n",
    "                        right_on=('sku_num','sale_type','month_ordinal'), suffixes=['','_prior_2_month'])"
   ]
  },
  {
   "cell_type": "code",
   "execution_count": 44,
   "metadata": {},
   "outputs": [],
   "source": [
    "dat_mod.sort_values(['sale_type','sku_num','year_month'],inplace=True)"
   ]
  },
  {
   "cell_type": "code",
   "execution_count": 45,
   "metadata": {},
   "outputs": [],
   "source": [
    "dat_mod['Units_last_valid'] = dat_mod.groupby(['sku_num','sale_type'])['Units_prior_month'].transform(\n",
    "    lambda grp: grp.fillna(method='pad')\n",
    ")\n",
    "dat_mod['log_Units_last_valid'] = dat_mod.groupby(['sku_num','sale_type'])['log_Units_prior_month'].transform(\n",
    "    lambda grp: grp.fillna(method='pad')\n",
    ")\n",
    "dat_mod['pct_missing_last_valid'] = dat_mod.groupby(['sku_num','sale_type'])['pct_missing_prior_month'].transform(\n",
    "    lambda grp: grp.fillna(method='pad')\n",
    ")\n",
    "dat_mod['brand_Units_last_valid'] = dat_mod.groupby(['sku_num','sale_type'])['brand_Units_prior_month'].transform(\n",
    "    lambda grp: grp.fillna(method='pad')\n",
    ")\n",
    "dat_mod['log_brand_Units_last_valid'] = dat_mod.groupby(['sku_num','sale_type'])['log_brand_Units_prior_month'].transform(\n",
    "    lambda grp: grp.fillna(method='pad')\n",
    ")\n",
    "dat_mod['brand_pct_missing_last_valid'] = dat_mod.groupby(['sku_num','sale_type'])['brand_pct_missing_prior_month'].transform(\n",
    "    lambda grp: grp.fillna(method='pad')\n",
    ")"
   ]
  },
  {
   "cell_type": "code",
   "execution_count": 46,
   "metadata": {},
   "outputs": [],
   "source": [
    "dat_mod['log_Units_prior_trend'] = dat_mod['log_Units_prior_month'] - dat_mod['log_Units_prior_2_month']"
   ]
  },
  {
   "cell_type": "code",
   "execution_count": 47,
   "metadata": {},
   "outputs": [],
   "source": [
    "# naive model \"feature\"\n",
    "dat_groupby_saletype_month = dat_mod.groupby(['sale_type','year_month']).agg(\n",
    "    monthly_saletype_avg_Units=pd.NamedAgg('Units',np.mean)\n",
    ").reset_index(drop=False)\n",
    "dat_mod = dat_mod.merge(dat_groupby_saletype_month, on=['sale_type','year_month'],how='left')"
   ]
  },
  {
   "cell_type": "code",
   "execution_count": 48,
   "metadata": {},
   "outputs": [],
   "source": [
    "dat_mod = dat_mod.merge(dat_mod[['sale_type','sku_num', 'month_ordinal','monthly_saletype_avg_Units']],\n",
    "              left_on=['sale_type','sku_num','month_ordinal_prior'],\n",
    "              right_on=['sale_type','sku_num','month_ordinal'],how='left',\n",
    "              suffixes=['','_prior_month'])"
   ]
  },
  {
   "cell_type": "code",
   "execution_count": 49,
   "metadata": {},
   "outputs": [],
   "source": [
    "dat_mod.sort_values(['sale_type','sku_num','month_ordinal'])\n",
    "dat_mod['monthly_saletype_avg_Units_last_valid'] = dat_mod.groupby(['sale_type'])['monthly_saletype_avg_Units_prior_month'].transform(\n",
    "    lambda grp: grp.fillna(method='pad')\n",
    ")"
   ]
  },
  {
   "cell_type": "code",
   "execution_count": 50,
   "metadata": {},
   "outputs": [],
   "source": [
    "dat_mod['log_monthly_saletype_avg_Units_prior_month'] = logify(dat_mod['monthly_saletype_avg_Units_prior_month'])\n",
    "dat_mod['log_monthly_saletype_avg_Units_last_valid'] = logify(dat_mod['monthly_saletype_avg_Units_last_valid'])"
   ]
  },
  {
   "cell_type": "code",
   "execution_count": 51,
   "metadata": {},
   "outputs": [],
   "source": [
    "potential_na_features = [\n",
    "    'log_Units_prior_month',\n",
    "    'log_Units_prior_2_month',\n",
    "    'log_Units_last_valid',\n",
    "    'log_brand_Units_prior_month',\n",
    "    'log_brand_Units_last_valid',\n",
    "    'pct_missing_prior_month',\n",
    "    'pct_missing_last_valid',\n",
    "    'brand_pct_missing_prior_month',\n",
    "    'brand_pct_missing_last_valid',\n",
    "    'log_monthly_saletype_avg_Units_prior_month',\n",
    "    'log_monthly_saletype_avg_Units_last_valid',\n",
    "    'log_Units_prior_month_weighted',\n",
    "    'log_brand_Units_prior_month_weighted',\n",
    "    'log_Units_prior_trend'\n",
    "]"
   ]
  },
  {
   "cell_type": "code",
   "execution_count": 52,
   "metadata": {},
   "outputs": [],
   "source": [
    "dat_mod['log_Units_prior_month_weighted'] = dat_mod['log_Units_prior_month'] * (1-dat_mod['pct_missing_prior_month'])\n",
    "dat_mod['log_brand_Units_prior_month_weighted']=dat_mod['log_brand_Units_prior_month'] * (1-dat_mod['brand_pct_missing_prior_month'])"
   ]
  },
  {
   "cell_type": "code",
   "execution_count": 53,
   "metadata": {},
   "outputs": [],
   "source": [
    "for col in potential_na_features:\n",
    "    newcol = col+'_MISSING'\n",
    "    dat_mod[newcol] = (dat_mod[col].isna())*1"
   ]
  },
  {
   "cell_type": "code",
   "execution_count": 54,
   "metadata": {},
   "outputs": [],
   "source": [
    "dat_trainvalid = dat_mod[dat_mod['month_ordinal'] <= 31].copy()\n",
    "dat_train = dat_trainvalid[dat_trainvalid['month_ordinal'] <= 23].copy()"
   ]
  },
  {
   "cell_type": "code",
   "execution_count": 55,
   "metadata": {},
   "outputs": [],
   "source": [
    "# order training data by month\n",
    "dat_train.sort_values(['month_ordinal','sku_num','sale_type'],inplace=True)"
   ]
  },
  {
   "cell_type": "code",
   "execution_count": 56,
   "metadata": {},
   "outputs": [],
   "source": [
    "medians_potential_na_features = dat_train[potential_na_features].apply(lambda x: np.nanmedian(x))"
   ]
  },
  {
   "cell_type": "code",
   "execution_count": 57,
   "metadata": {},
   "outputs": [],
   "source": [
    "dat_test = dat_mod[dat_mod['month_ordinal'] > 31].copy()\n",
    "dat_valid = dat_trainvalid[dat_trainvalid['month_ordinal'] > 23].copy()"
   ]
  },
  {
   "cell_type": "code",
   "execution_count": 58,
   "metadata": {},
   "outputs": [],
   "source": [
    "for col in potential_na_features:\n",
    "    dat_train[col] = dat_train[col].fillna(value=medians_potential_na_features[col])\n",
    "    dat_valid[col] = dat_valid[col].fillna(value=medians_potential_na_features[col])\n",
    "    dat_test[col] = dat_test[col].fillna(value=medians_potential_na_features[col])"
   ]
  },
  {
   "cell_type": "code",
   "execution_count": null,
   "metadata": {},
   "outputs": [],
   "source": []
  },
  {
   "cell_type": "code",
   "execution_count": 59,
   "metadata": {},
   "outputs": [],
   "source": [
    "target = ['log_Units']\n",
    "target_min = np.min(dat_mod['Units'])"
   ]
  },
  {
   "cell_type": "code",
   "execution_count": 488,
   "metadata": {},
   "outputs": [],
   "source": [
    "def get_scores(df):\n",
    "    total_scores = score_dict(df)\n",
    "    grouped_scores = dict(df.groupby('sku_missingness_group').apply(lambda df_grp: score_dict(df_grp)))\n",
    "    saletype_scores = dict(df.groupby('sale_type').apply(lambda df_grp: score_dict(df_grp)))\n",
    "\n",
    "    return {'total_scores':total_scores, 'grouped_scores':grouped_scores, 'saletype_scores':saletype_scores}\n",
    "\n",
    "def score_dict(df):\n",
    "    R2 = np.round(r2_score(df[target],df['pred']),3)\n",
    "    RMSE = np.round(rmse(df[target],df['pred']),3)\n",
    "    R2_raw = np.round(r2_score(np.exp(df[target])+target_min-1,np.exp(df['pred'])+target_min-1))\n",
    "    RMSE_raw = np.round(rmse(np.exp(df[target])+target_min-1,np.exp(df['pred'])+target_min-1))\n",
    "    return {'r2':R2, 'rmse':RMSE, 'r2_raw':R2_raw, 'rmse_raw':RMSE_raw}\n",
    "\n",
    "def score_model():\n",
    "    train_scores = get_scores(dat_train)\n",
    "    valid_scores = get_scores(dat_valid)\n",
    "    test_scores = get_scores(dat_test)\n",
    "    return {'train':train_scores, 'valid':valid_scores, 'test':test_scores}\n"
   ]
  },
  {
   "cell_type": "code",
   "execution_count": 489,
   "metadata": {},
   "outputs": [],
   "source": [
    "model_dict={   }\n",
    "# model name -> train/valid/test scores -> valid/test score breakdown by missingness group"
   ]
  },
  {
   "cell_type": "code",
   "execution_count": 490,
   "metadata": {},
   "outputs": [],
   "source": [
    "# naive model\n",
    "naive_feature = 'log_monthly_saletype_avg_Units_last_valid'\n",
    "dat_train['pred'] = dat_train[naive_feature]\n",
    "dat_valid['pred'] = dat_valid[naive_feature]\n",
    "dat_test['pred'] = dat_test[naive_feature]"
   ]
  },
  {
   "cell_type": "code",
   "execution_count": 491,
   "metadata": {},
   "outputs": [],
   "source": [
    "model_dict['naive'] = score_model()"
   ]
  },
  {
   "cell_type": "code",
   "execution_count": 492,
   "metadata": {},
   "outputs": [
    {
     "data": {
      "text/plain": [
       "ElasticNet(alpha=1.0, copy_X=True, fit_intercept=True, l1_ratio=0.5,\n",
       "           max_iter=1000, normalize=False, positive=False, precompute=False,\n",
       "           random_state=1, selection='cyclic', tol=0.0001, warm_start=False)"
      ]
     },
     "execution_count": 492,
     "metadata": {},
     "output_type": "execute_result"
    }
   ],
   "source": [
    "\n",
    "features_mod1 = [naive_feature]\n",
    "mod1 = ElasticNet(random_state=1)\n",
    "mod1.fit(X=dat_train[features_mod1],y=dat_train[target])"
   ]
  },
  {
   "cell_type": "code",
   "execution_count": 493,
   "metadata": {},
   "outputs": [],
   "source": [
    "dat_train['pred'] = mod1.predict(dat_train[features_mod1])\n",
    "dat_valid['pred'] = mod1.predict(dat_valid[features_mod1])\n",
    "dat_test['pred'] = mod1.predict(dat_test[features_mod1])\n",
    "model_dict['mod1'] = score_model()"
   ]
  },
  {
   "cell_type": "code",
   "execution_count": null,
   "metadata": {},
   "outputs": [],
   "source": []
  },
  {
   "cell_type": "code",
   "execution_count": 494,
   "metadata": {},
   "outputs": [
    {
     "data": {
      "text/plain": [
       "ElasticNet(alpha=1.0, copy_X=True, fit_intercept=True, l1_ratio=0.5,\n",
       "           max_iter=1000, normalize=False, positive=False, precompute=False,\n",
       "           random_state=1, selection='cyclic', tol=0.0001, warm_start=False)"
      ]
     },
     "execution_count": 494,
     "metadata": {},
     "output_type": "execute_result"
    }
   ],
   "source": [
    "features_mod2 = ['log_monthly_saletype_avg_Units_last_valid', 'log_Units_last_valid']\n",
    "mod2 = ElasticNet(random_state=1)\n",
    "mod2.fit(X=dat_train[features_mod2],y=dat_train[target])"
   ]
  },
  {
   "cell_type": "code",
   "execution_count": null,
   "metadata": {},
   "outputs": [],
   "source": []
  },
  {
   "cell_type": "code",
   "execution_count": 495,
   "metadata": {},
   "outputs": [],
   "source": [
    "dat_train['pred'] = mod2.predict(dat_train[features_mod2])\n",
    "dat_valid['pred'] = mod2.predict(dat_valid[features_mod2])\n",
    "dat_test['pred'] = mod2.predict(dat_test[features_mod2])\n",
    "model_dict['mod2'] = score_model()"
   ]
  },
  {
   "cell_type": "code",
   "execution_count": 496,
   "metadata": {},
   "outputs": [
    {
     "data": {
      "text/plain": [
       "ElasticNetCV(alphas=None, copy_X=True,\n",
       "             cv=TimeSeriesSplit(max_train_size=None, n_splits=5), eps=0.001,\n",
       "             fit_intercept=True, l1_ratio=0.5, max_iter=1000, n_alphas=100,\n",
       "             n_jobs=None, normalize=False, positive=False, precompute='auto',\n",
       "             random_state=1, selection='cyclic', tol=0.0001, verbose=0)"
      ]
     },
     "execution_count": 496,
     "metadata": {},
     "output_type": "execute_result"
    }
   ],
   "source": [
    "tss = TimeSeriesSplit(n_splits=5)\n",
    "features_mod3 = features_mod2\n",
    "mod3 = ElasticNetCV(random_state=1,cv=tss)\n",
    "mod3.fit(X=dat_train[features_mod3],y=dat_train[target].values.ravel())"
   ]
  },
  {
   "cell_type": "code",
   "execution_count": 497,
   "metadata": {},
   "outputs": [],
   "source": [
    "dat_train['pred'] = mod3.predict(dat_train[features_mod3])\n",
    "dat_valid['pred'] = mod3.predict(dat_valid[features_mod3])\n",
    "dat_test['pred'] = mod3.predict(dat_test[features_mod3])\n",
    "model_dict['mod3'] = score_model()"
   ]
  },
  {
   "cell_type": "code",
   "execution_count": 498,
   "metadata": {},
   "outputs": [
    {
     "data": {
      "text/plain": [
       "ElasticNetCV(alphas=None, copy_X=True,\n",
       "             cv=TimeSeriesSplit(max_train_size=None, n_splits=5), eps=0.001,\n",
       "             fit_intercept=True, l1_ratio=0.5, max_iter=1000, n_alphas=100,\n",
       "             n_jobs=None, normalize=False, positive=False, precompute='auto',\n",
       "             random_state=1, selection='cyclic', tol=0.0001, verbose=0)"
      ]
     },
     "execution_count": 498,
     "metadata": {},
     "output_type": "execute_result"
    }
   ],
   "source": [
    "# add prior month units and pct missing prior month\n",
    "features_mod4 = ['log_monthly_saletype_avg_Units_last_valid', 'log_Units_last_valid', \n",
    "                 'log_Units_prior_month','pct_missing_prior_month']\n",
    "mod4 = ElasticNetCV(random_state=1,cv=tss)\n",
    "mod4.fit(X=dat_train[features_mod4],y=dat_train[target].values.ravel())"
   ]
  },
  {
   "cell_type": "code",
   "execution_count": 499,
   "metadata": {},
   "outputs": [],
   "source": [
    "dat_train['pred'] = mod4.predict(dat_train[features_mod4])\n",
    "dat_valid['pred'] = mod4.predict(dat_valid[features_mod4])\n",
    "dat_test['pred'] = mod4.predict(dat_test[features_mod4])\n",
    "model_dict['mod4'] = score_model()"
   ]
  },
  {
   "cell_type": "code",
   "execution_count": 500,
   "metadata": {},
   "outputs": [
    {
     "data": {
      "text/plain": [
       "ElasticNetCV(alphas=None, copy_X=True,\n",
       "             cv=TimeSeriesSplit(max_train_size=None, n_splits=5), eps=0.001,\n",
       "             fit_intercept=True, l1_ratio=0.5, max_iter=1000, n_alphas=100,\n",
       "             n_jobs=None, normalize=False, positive=False, precompute='auto',\n",
       "             random_state=1, selection='cyclic', tol=0.0001, verbose=0)"
      ]
     },
     "execution_count": 500,
     "metadata": {},
     "output_type": "execute_result"
    }
   ],
   "source": [
    "# add prior month MISSING variables\n",
    "features_mod5 = ['log_monthly_saletype_avg_Units_last_valid', 'log_Units_last_valid', \n",
    "                 'log_Units_prior_month','pct_missing_prior_month',\n",
    "                 'log_Units_prior_month_MISSING'\n",
    "                ]\n",
    "mod5 = ElasticNetCV(random_state=1,cv=tss)\n",
    "mod5.fit(X=dat_train[features_mod5],y=dat_train[target].values.ravel())"
   ]
  },
  {
   "cell_type": "code",
   "execution_count": 501,
   "metadata": {},
   "outputs": [],
   "source": [
    "dat_train['pred'] = mod5.predict(dat_train[features_mod5])\n",
    "dat_valid['pred'] = mod5.predict(dat_valid[features_mod5])\n",
    "dat_test['pred'] = mod5.predict(dat_test[features_mod5])\n",
    "model_dict['mod5'] = score_model()"
   ]
  },
  {
   "cell_type": "code",
   "execution_count": 502,
   "metadata": {},
   "outputs": [
    {
     "data": {
      "text/plain": [
       "ElasticNetCV(alphas=None, copy_X=True,\n",
       "             cv=TimeSeriesSplit(max_train_size=None, n_splits=5), eps=0.001,\n",
       "             fit_intercept=True, l1_ratio=0.5, max_iter=1000, n_alphas=100,\n",
       "             n_jobs=None, normalize=False, positive=False, precompute='auto',\n",
       "             random_state=1, selection='cyclic', tol=0.0001, verbose=0)"
      ]
     },
     "execution_count": 502,
     "metadata": {},
     "output_type": "execute_result"
    }
   ],
   "source": [
    "# add cyclical variables and trend variable\n",
    "features_mod6 = ['log_monthly_saletype_avg_Units_last_valid',\n",
    "                 'log_Units_prior_month',\n",
    "                 'log_Units_prior_month_MISSING',\n",
    "                 'sin_term_fracofyear','cos_term_fracofyear','month_ordinal']\n",
    "mod6 = ElasticNetCV(random_state=1,cv=tss)\n",
    "mod6.fit(X=dat_train[features_mod6],y=dat_train[target].values.ravel())"
   ]
  },
  {
   "cell_type": "code",
   "execution_count": 503,
   "metadata": {
    "scrolled": true
   },
   "outputs": [],
   "source": [
    "dat_train['pred'] = mod6.predict(dat_train[features_mod6])\n",
    "dat_valid['pred'] = mod6.predict(dat_valid[features_mod6])\n",
    "dat_test['pred'] = mod6.predict(dat_test[features_mod6])\n",
    "model_dict['mod6'] = score_model()"
   ]
  },
  {
   "cell_type": "code",
   "execution_count": 504,
   "metadata": {},
   "outputs": [
    {
     "data": {
      "text/plain": [
       "ElasticNetCV(alphas=None, copy_X=True,\n",
       "             cv=TimeSeriesSplit(max_train_size=None, n_splits=5), eps=0.001,\n",
       "             fit_intercept=True, l1_ratio=0.5, max_iter=1000, n_alphas=100,\n",
       "             n_jobs=None, normalize=False, positive=False, precompute='auto',\n",
       "             random_state=1, selection='cyclic', tol=0.0001, verbose=0)"
      ]
     },
     "execution_count": 504,
     "metadata": {},
     "output_type": "execute_result"
    }
   ],
   "source": [
    "# add PPC_cost per unit\n",
    "features_mod7 = ['log_monthly_saletype_avg_Units_last_valid',\n",
    "                 'log_Units_prior_month',\n",
    "                 'pct_missing_prior_month',\n",
    "                 'log_Units_prior_month_MISSING',\n",
    "                 'sin_term_fracofyear','cos_term_fracofyear','month_ordinal',\n",
    "                 'log_PPC_Cost_per_unit_PPCONLY',\n",
    "                 'sale_type_PPC'\n",
    "                ]\n",
    "mod7 = ElasticNetCV(random_state=1,cv=tss)\n",
    "mod7.fit(X=dat_train[features_mod7],y=dat_train[target].values.ravel())"
   ]
  },
  {
   "cell_type": "code",
   "execution_count": 505,
   "metadata": {},
   "outputs": [],
   "source": [
    "dat_train['pred'] = mod7.predict(dat_train[features_mod7])\n",
    "dat_valid['pred'] = mod7.predict(dat_valid[features_mod7])\n",
    "dat_test['pred'] = mod7.predict(dat_test[features_mod7])\n",
    "model_dict['mod7'] = score_model()"
   ]
  },
  {
   "cell_type": "code",
   "execution_count": 506,
   "metadata": {},
   "outputs": [
    {
     "data": {
      "text/plain": [
       "ElasticNetCV(alphas=None, copy_X=True,\n",
       "             cv=TimeSeriesSplit(max_train_size=None, n_splits=5), eps=0.001,\n",
       "             fit_intercept=True, l1_ratio=0.5, max_iter=1000, n_alphas=100,\n",
       "             n_jobs=None, normalize=False, positive=False, precompute='auto',\n",
       "             random_state=1, selection='cyclic', tol=0.0001, verbose=0)"
      ]
     },
     "execution_count": 506,
     "metadata": {},
     "output_type": "execute_result"
    }
   ],
   "source": [
    "# substitute log_Units_prior_month_weighted by lack of missingness\n",
    "features_mod8 = ['log_monthly_saletype_avg_Units_last_valid',\n",
    "                 #'log_Units_prior_month',\n",
    "                 'log_Units_prior_month_MISSING',\n",
    "                 'sin_term_fracofyear','cos_term_fracofyear','month_ordinal',\n",
    "                 'log_PPC_Cost_per_unit_PPCONLY',\n",
    "                 'sale_type_PPC',\n",
    "                 'log_Units_prior_month_weighted'\n",
    "                ]\n",
    "mod8 = ElasticNetCV(random_state=1,cv=tss)\n",
    "mod8.fit(X=dat_train[features_mod8],y=dat_train[target].values.ravel())"
   ]
  },
  {
   "cell_type": "code",
   "execution_count": 507,
   "metadata": {},
   "outputs": [],
   "source": [
    "dat_train['pred'] = mod8.predict(dat_train[features_mod8])\n",
    "dat_valid['pred'] = mod8.predict(dat_valid[features_mod8])\n",
    "dat_test['pred'] = mod8.predict(dat_test[features_mod8])\n",
    "model_dict['mod8'] = score_model()"
   ]
  },
  {
   "cell_type": "code",
   "execution_count": 508,
   "metadata": {},
   "outputs": [
    {
     "data": {
      "text/plain": [
       "ElasticNetCV(alphas=None, copy_X=True,\n",
       "             cv=TimeSeriesSplit(max_train_size=None, n_splits=5), eps=0.001,\n",
       "             fit_intercept=True, l1_ratio=0.5, max_iter=1000, n_alphas=100,\n",
       "             n_jobs=None, normalize=False, positive=False, precompute='auto',\n",
       "             random_state=1, selection='cyclic', tol=0.0001, verbose=0)"
      ]
     },
     "execution_count": 508,
     "metadata": {},
     "output_type": "execute_result"
    }
   ],
   "source": [
    "# add brand units prior month: not very effective\n",
    "features_mod9 = ['log_monthly_saletype_avg_Units_last_valid',\n",
    "                 'log_Units_prior_month',\n",
    "                 'pct_missing_prior_month',\n",
    "                 'log_Units_prior_month_MISSING',\n",
    "                 'sin_term_fracofyear','cos_term_fracofyear','month_ordinal',\n",
    "                 'log_PPC_Cost_per_unit_PPCONLY',\n",
    "                 'sale_type_PPC',\n",
    "                 'log_brand_Units_prior_month'\n",
    "                ]\n",
    "mod9 = ElasticNetCV(random_state=1,cv=tss)\n",
    "mod9.fit(X=dat_train[features_mod9],y=dat_train[target].values.ravel())"
   ]
  },
  {
   "cell_type": "code",
   "execution_count": 509,
   "metadata": {},
   "outputs": [],
   "source": [
    "dat_train['pred'] = mod9.predict(dat_train[features_mod9])\n",
    "dat_valid['pred'] = mod9.predict(dat_valid[features_mod9])\n",
    "dat_test['pred'] = mod9.predict(dat_test[features_mod9])\n",
    "model_dict['mod9'] = score_model()"
   ]
  },
  {
   "cell_type": "code",
   "execution_count": 510,
   "metadata": {},
   "outputs": [
    {
     "data": {
      "text/plain": [
       "ElasticNetCV(alphas=None, copy_X=True,\n",
       "             cv=TimeSeriesSplit(max_train_size=None, n_splits=5), eps=0.001,\n",
       "             fit_intercept=True, l1_ratio=0.5, max_iter=1000, n_alphas=100,\n",
       "             n_jobs=None, normalize=False, positive=False, precompute='auto',\n",
       "             random_state=1, selection='cyclic', tol=0.0001, verbose=0)"
      ]
     },
     "execution_count": 510,
     "metadata": {},
     "output_type": "execute_result"
    }
   ],
   "source": [
    "# add brand units prior month: not very effective\n",
    "features_mod10 = ['log_monthly_saletype_avg_Units_last_valid',\n",
    "                 'log_Units_prior_month',\n",
    "                 'pct_missing_prior_month',\n",
    "                 'log_Units_prior_month_MISSING',\n",
    "                 'sin_term_fracofyear','cos_term_fracofyear','month_ordinal',\n",
    "                 'log_PPC_Cost_per_unit_PPCONLY',\n",
    "                 'sale_type_PPC',\n",
    "                 'log_brand_Units_prior_month',\n",
    "                  'log_Units_prior_2_month'\n",
    "                ]\n",
    "mod10 = ElasticNetCV(random_state=1,cv=tss)\n",
    "mod10.fit(X=dat_train[features_mod10],y=dat_train[target].values.ravel())"
   ]
  },
  {
   "cell_type": "code",
   "execution_count": 511,
   "metadata": {},
   "outputs": [],
   "source": [
    "dat_train['pred'] = mod10.predict(dat_train[features_mod10])\n",
    "dat_valid['pred'] = mod10.predict(dat_valid[features_mod10])\n",
    "dat_test['pred'] = mod10.predict(dat_test[features_mod10])\n",
    "model_dict['mod10'] = score_model()"
   ]
  },
  {
   "cell_type": "code",
   "execution_count": 512,
   "metadata": {},
   "outputs": [
    {
     "name": "stderr",
     "output_type": "stream",
     "text": [
      "R object inheriting from \"POSIXct\" but without attribute \"tzone\".\n"
     ]
    },
    {
     "name": "stdout",
     "output_type": "stream",
     "text": [
      "boundary (singular) fit: see ?isSingular \n",
      "\n",
      "Formula: log_Units~log_Units_prior_month+log_PPC_Cost_per_unit+(log_Units_prior_month+log_PPC_Cost_per_unit|sale_type)\n",
      "\n",
      "Family: gaussian\t Inference: parametric\n",
      "\n",
      "Number of observations: 10004\t Groups: {'sale_type': 2.0}\n",
      "\n",
      "Log-likelihood: 6298.936 \t AIC: -12597.872\n",
      "\n",
      "Random effects:\n",
      "\n",
      "                            Name    Var    Std\n",
      "sale_type            (Intercept)  0.009  0.097\n",
      "sale_type  log_Units_prior_month  0.000  0.009\n",
      "sale_type  log_PPC_Cost_per_unit  0.000  0.013\n",
      "Residual                          0.017  0.129\n",
      "\n",
      "                             IV1                    IV2  Corr\n",
      "sale_type            (Intercept)  log_Units_prior_month  -1.0\n",
      "sale_type            (Intercept)  log_PPC_Cost_per_unit  -1.0\n",
      "sale_type  log_Units_prior_month  log_PPC_Cost_per_unit   1.0\n",
      "\n",
      "Fixed effects:\n",
      "\n"
     ]
    },
    {
     "data": {
      "text/html": [
       "<div>\n",
       "<style scoped>\n",
       "    .dataframe tbody tr th:only-of-type {\n",
       "        vertical-align: middle;\n",
       "    }\n",
       "\n",
       "    .dataframe tbody tr th {\n",
       "        vertical-align: top;\n",
       "    }\n",
       "\n",
       "    .dataframe thead th {\n",
       "        text-align: right;\n",
       "    }\n",
       "</style>\n",
       "<table border=\"1\" class=\"dataframe\">\n",
       "  <thead>\n",
       "    <tr style=\"text-align: right;\">\n",
       "      <th></th>\n",
       "      <th>Estimate</th>\n",
       "      <th>2.5_ci</th>\n",
       "      <th>97.5_ci</th>\n",
       "      <th>SE</th>\n",
       "      <th>DF</th>\n",
       "      <th>T-stat</th>\n",
       "      <th>P-val</th>\n",
       "      <th>Sig</th>\n",
       "    </tr>\n",
       "  </thead>\n",
       "  <tbody>\n",
       "    <tr>\n",
       "      <th>(Intercept)</th>\n",
       "      <td>0.423</td>\n",
       "      <td>0.278</td>\n",
       "      <td>0.569</td>\n",
       "      <td>0.074</td>\n",
       "      <td>0.375</td>\n",
       "      <td>5.713</td>\n",
       "      <td>0.349</td>\n",
       "      <td></td>\n",
       "    </tr>\n",
       "    <tr>\n",
       "      <th>log_Units_prior_month</th>\n",
       "      <td>0.940</td>\n",
       "      <td>0.925</td>\n",
       "      <td>0.956</td>\n",
       "      <td>0.008</td>\n",
       "      <td>0.256</td>\n",
       "      <td>119.503</td>\n",
       "      <td>0.212</td>\n",
       "      <td></td>\n",
       "    </tr>\n",
       "    <tr>\n",
       "      <th>log_PPC_Cost_per_unit</th>\n",
       "      <td>-0.002</td>\n",
       "      <td>-0.021</td>\n",
       "      <td>0.017</td>\n",
       "      <td>0.010</td>\n",
       "      <td>1.090</td>\n",
       "      <td>-0.205</td>\n",
       "      <td>0.869</td>\n",
       "      <td></td>\n",
       "    </tr>\n",
       "  </tbody>\n",
       "</table>\n",
       "</div>"
      ],
      "text/plain": [
       "                       Estimate  2.5_ci  97.5_ci     SE     DF   T-stat  \\\n",
       "(Intercept)               0.423   0.278    0.569  0.074  0.375    5.713   \n",
       "log_Units_prior_month     0.940   0.925    0.956  0.008  0.256  119.503   \n",
       "log_PPC_Cost_per_unit    -0.002  -0.021    0.017  0.010  1.090   -0.205   \n",
       "\n",
       "                       P-val Sig  \n",
       "(Intercept)            0.349      \n",
       "log_Units_prior_month  0.212      \n",
       "log_PPC_Cost_per_unit  0.869      "
      ]
     },
     "execution_count": 512,
     "metadata": {},
     "output_type": "execute_result"
    }
   ],
   "source": [
    "# try hierarchical\n",
    "mod11 = Lmer('log_Units ~ log_Units_prior_month + log_PPC_Cost_per_unit+(log_Units_prior_month+log_PPC_Cost_per_unit|sale_type)', data=dat_train)\n",
    "mod11.fit()"
   ]
  },
  {
   "cell_type": "code",
   "execution_count": 513,
   "metadata": {},
   "outputs": [],
   "source": [
    "dat_train['pred'] = mod11.predict(dat_train)\n",
    "dat_valid['pred'] = mod11.predict(dat_valid)\n",
    "dat_test['pred'] = mod11.predict(dat_test)\n",
    "model_dict['mod11'] = score_model()"
   ]
  },
  {
   "cell_type": "code",
   "execution_count": 514,
   "metadata": {},
   "outputs": [
    {
     "name": "stderr",
     "output_type": "stream",
     "text": [
      "R object inheriting from \"POSIXct\" but without attribute \"tzone\".\n"
     ]
    },
    {
     "name": "stdout",
     "output_type": "stream",
     "text": [
      "boundary (singular) fit: see ?isSingular \n",
      "\n",
      "Formula: log_Units~log_Units_prior_month+PPC_Cost_per_unit+(log_Units_prior_month+log_PPC_Cost_per_unit|Brand_ID)+(log_Units_prior_month+log_PPC_Cost_per_unit|sale_type)\n",
      "\n",
      "Family: gaussian\t Inference: parametric\n",
      "\n",
      "Number of observations: 10004\t Groups: {'Brand_ID': 46.0, 'sale_type': 2.0}\n",
      "\n",
      "Log-likelihood: 6421.656 \t AIC: -12843.311\n",
      "\n",
      "Random effects:\n",
      "\n",
      "                            Name    Var    Std\n",
      "Brand_ID             (Intercept)  0.541  0.736\n",
      "Brand_ID   log_Units_prior_month  0.012  0.110\n",
      "Brand_ID   log_PPC_Cost_per_unit  0.000  0.013\n",
      "sale_type            (Intercept)  0.012  0.109\n",
      "sale_type  log_Units_prior_month  0.000  0.011\n",
      "sale_type  log_PPC_Cost_per_unit  0.000  0.014\n",
      "Residual                          0.016  0.126\n",
      "\n",
      "                             IV1                    IV2   Corr\n",
      "Brand_ID             (Intercept)  log_Units_prior_month -1.000\n",
      "Brand_ID             (Intercept)  log_PPC_Cost_per_unit -0.191\n",
      "Brand_ID   log_Units_prior_month  log_PPC_Cost_per_unit  0.187\n",
      "sale_type            (Intercept)  log_Units_prior_month -1.000\n",
      "sale_type            (Intercept)  log_PPC_Cost_per_unit -1.000\n",
      "sale_type  log_Units_prior_month  log_PPC_Cost_per_unit  1.000\n",
      "\n",
      "Fixed effects:\n",
      "\n"
     ]
    },
    {
     "data": {
      "text/html": [
       "<div>\n",
       "<style scoped>\n",
       "    .dataframe tbody tr th:only-of-type {\n",
       "        vertical-align: middle;\n",
       "    }\n",
       "\n",
       "    .dataframe tbody tr th {\n",
       "        vertical-align: top;\n",
       "    }\n",
       "\n",
       "    .dataframe thead th {\n",
       "        text-align: right;\n",
       "    }\n",
       "</style>\n",
       "<table border=\"1\" class=\"dataframe\">\n",
       "  <thead>\n",
       "    <tr style=\"text-align: right;\">\n",
       "      <th></th>\n",
       "      <th>Estimate</th>\n",
       "      <th>2.5_ci</th>\n",
       "      <th>97.5_ci</th>\n",
       "      <th>SE</th>\n",
       "      <th>DF</th>\n",
       "      <th>T-stat</th>\n",
       "      <th>P-val</th>\n",
       "      <th>Sig</th>\n",
       "    </tr>\n",
       "  </thead>\n",
       "  <tbody>\n",
       "    <tr>\n",
       "      <th>(Intercept)</th>\n",
       "      <td>0.851</td>\n",
       "      <td>0.577</td>\n",
       "      <td>1.126</td>\n",
       "      <td>0.140</td>\n",
       "      <td>81.849</td>\n",
       "      <td>6.071</td>\n",
       "      <td>0.000</td>\n",
       "      <td>***</td>\n",
       "    </tr>\n",
       "    <tr>\n",
       "      <th>log_Units_prior_month</th>\n",
       "      <td>0.880</td>\n",
       "      <td>0.840</td>\n",
       "      <td>0.921</td>\n",
       "      <td>0.021</td>\n",
       "      <td>184.988</td>\n",
       "      <td>42.676</td>\n",
       "      <td>0.000</td>\n",
       "      <td>***</td>\n",
       "    </tr>\n",
       "    <tr>\n",
       "      <th>PPC_Cost_per_unit</th>\n",
       "      <td>-0.000</td>\n",
       "      <td>-0.001</td>\n",
       "      <td>0.000</td>\n",
       "      <td>0.000</td>\n",
       "      <td>590.580</td>\n",
       "      <td>-0.711</td>\n",
       "      <td>0.477</td>\n",
       "      <td></td>\n",
       "    </tr>\n",
       "  </tbody>\n",
       "</table>\n",
       "</div>"
      ],
      "text/plain": [
       "                       Estimate  2.5_ci  97.5_ci     SE       DF  T-stat  \\\n",
       "(Intercept)               0.851   0.577    1.126  0.140   81.849   6.071   \n",
       "log_Units_prior_month     0.880   0.840    0.921  0.021  184.988  42.676   \n",
       "PPC_Cost_per_unit        -0.000  -0.001    0.000  0.000  590.580  -0.711   \n",
       "\n",
       "                       P-val  Sig  \n",
       "(Intercept)            0.000  ***  \n",
       "log_Units_prior_month  0.000  ***  \n",
       "PPC_Cost_per_unit      0.477       "
      ]
     },
     "execution_count": 514,
     "metadata": {},
     "output_type": "execute_result"
    }
   ],
   "source": [
    "# try hierarchical\n",
    "mod12 = Lmer('log_Units ~ log_Units_prior_month + PPC_Cost_per_unit+(log_Units_prior_month+log_PPC_Cost_per_unit|Brand_ID)+(log_Units_prior_month+log_PPC_Cost_per_unit|sale_type)', data=dat_train)\n",
    "mod12.fit()\n",
    "#TODO try random forest/gbm, try PPC_cost_per_unit instead of log"
   ]
  },
  {
   "cell_type": "code",
   "execution_count": 515,
   "metadata": {},
   "outputs": [
    {
     "data": {
      "text/html": [
       "<div>\n",
       "<style scoped>\n",
       "    .dataframe tbody tr th:only-of-type {\n",
       "        vertical-align: middle;\n",
       "    }\n",
       "\n",
       "    .dataframe tbody tr th {\n",
       "        vertical-align: top;\n",
       "    }\n",
       "\n",
       "    .dataframe thead th {\n",
       "        text-align: right;\n",
       "    }\n",
       "</style>\n",
       "<table border=\"1\" class=\"dataframe\">\n",
       "  <thead>\n",
       "    <tr style=\"text-align: right;\">\n",
       "      <th></th>\n",
       "      <th>index</th>\n",
       "      <th>(Intercept)</th>\n",
       "      <th>log_Units_prior_month</th>\n",
       "      <th>log_PPC_Cost_per_unit</th>\n",
       "    </tr>\n",
       "  </thead>\n",
       "  <tbody>\n",
       "    <tr>\n",
       "      <th>0</th>\n",
       "      <td>Organic_Units</td>\n",
       "      <td>0.028269</td>\n",
       "      <td>-0.002799</td>\n",
       "      <td>-0.003529</td>\n",
       "    </tr>\n",
       "    <tr>\n",
       "      <th>1</th>\n",
       "      <td>PPC_Units</td>\n",
       "      <td>-0.146674</td>\n",
       "      <td>0.014521</td>\n",
       "      <td>0.018310</td>\n",
       "    </tr>\n",
       "  </tbody>\n",
       "</table>\n",
       "</div>"
      ],
      "text/plain": [
       "           index  (Intercept)  log_Units_prior_month  log_PPC_Cost_per_unit\n",
       "0  Organic_Units     0.028269              -0.002799              -0.003529\n",
       "1      PPC_Units    -0.146674               0.014521               0.018310"
      ]
     },
     "execution_count": 515,
     "metadata": {},
     "output_type": "execute_result"
    }
   ],
   "source": [
    "mod12.ranef[1].head(50).reset_index(drop=False)"
   ]
  },
  {
   "cell_type": "code",
   "execution_count": 516,
   "metadata": {},
   "outputs": [],
   "source": [
    "dat_train['pred'] = mod12.predict(dat_train)\n",
    "dat_valid['pred'] = mod12.predict(dat_valid)\n",
    "dat_test['pred'] = mod12.predict(dat_test)\n",
    "model_dict['mod12'] = score_model()"
   ]
  },
  {
   "cell_type": "code",
   "execution_count": 517,
   "metadata": {},
   "outputs": [
    {
     "name": "stderr",
     "output_type": "stream",
     "text": [
      "R object inheriting from \"POSIXct\" but without attribute \"tzone\".\n"
     ]
    },
    {
     "name": "stdout",
     "output_type": "stream",
     "text": [
      "boundary (singular) fit: see ?isSingular \n",
      "\n",
      "Formula: log_Units~log_Units_prior_month+log_PPC_Cost_per_unit+log_brand_Units_prior_month+sin_term_fracofyear+cos_term_fracofyear+(log_brand_Units_prior_month+log_Units_prior_month+log_PPC_Cost_per_unit|Brand_ID)+(log_brand_Units_prior_month+log_Units_prior_month+log_PPC_Cost_per_unit|sale_type)\n",
      "\n",
      "Family: gaussian\t Inference: parametric\n",
      "\n",
      "Number of observations: 10004\t Groups: {'Brand_ID': 46.0, 'sale_type': 2.0}\n",
      "\n",
      "Log-likelihood: 6522.521 \t AIC: -13045.041\n",
      "\n",
      "Random effects:\n",
      "\n",
      "                                  Name    Var    Std\n",
      "Brand_ID                   (Intercept)  0.758  0.870\n",
      "Brand_ID   log_brand_Units_prior_month  0.000  0.008\n",
      "Brand_ID         log_Units_prior_month  0.017  0.131\n",
      "Brand_ID         log_PPC_Cost_per_unit  0.000  0.013\n",
      "sale_type                  (Intercept)  0.015  0.122\n",
      "sale_type  log_brand_Units_prior_month  0.034  0.183\n",
      "sale_type        log_Units_prior_month  0.035  0.188\n",
      "sale_type        log_PPC_Cost_per_unit  0.032  0.178\n",
      "Residual                                0.015  0.124\n",
      "\n",
      "                                   IV1                          IV2   Corr\n",
      "Brand_ID                   (Intercept)  log_brand_Units_prior_month  0.459\n",
      "Brand_ID                   (Intercept)        log_Units_prior_month -1.000\n",
      "Brand_ID                   (Intercept)        log_PPC_Cost_per_unit  0.242\n",
      "Brand_ID   log_brand_Units_prior_month        log_Units_prior_month -0.453\n",
      "Brand_ID   log_brand_Units_prior_month        log_PPC_Cost_per_unit  0.458\n",
      "Brand_ID         log_Units_prior_month        log_PPC_Cost_per_unit -0.240\n",
      "sale_type                  (Intercept)  log_brand_Units_prior_month -0.040\n",
      "sale_type                  (Intercept)        log_Units_prior_month -0.170\n",
      "sale_type                  (Intercept)        log_PPC_Cost_per_unit -0.023\n",
      "sale_type  log_brand_Units_prior_month        log_Units_prior_month -0.787\n",
      "sale_type  log_brand_Units_prior_month        log_PPC_Cost_per_unit  0.044\n",
      "sale_type        log_Units_prior_month        log_PPC_Cost_per_unit -0.224\n",
      "\n",
      "Fixed effects:\n",
      "\n"
     ]
    },
    {
     "data": {
      "text/html": [
       "<div>\n",
       "<style scoped>\n",
       "    .dataframe tbody tr th:only-of-type {\n",
       "        vertical-align: middle;\n",
       "    }\n",
       "\n",
       "    .dataframe tbody tr th {\n",
       "        vertical-align: top;\n",
       "    }\n",
       "\n",
       "    .dataframe thead th {\n",
       "        text-align: right;\n",
       "    }\n",
       "</style>\n",
       "<table border=\"1\" class=\"dataframe\">\n",
       "  <thead>\n",
       "    <tr style=\"text-align: right;\">\n",
       "      <th></th>\n",
       "      <th>Estimate</th>\n",
       "      <th>2.5_ci</th>\n",
       "      <th>97.5_ci</th>\n",
       "      <th>SE</th>\n",
       "      <th>DF</th>\n",
       "      <th>T-stat</th>\n",
       "      <th>P-val</th>\n",
       "      <th>Sig</th>\n",
       "    </tr>\n",
       "  </thead>\n",
       "  <tbody>\n",
       "    <tr>\n",
       "      <th>(Intercept)</th>\n",
       "      <td>1.048</td>\n",
       "      <td>0.665</td>\n",
       "      <td>1.430</td>\n",
       "      <td>0.195</td>\n",
       "      <td>3.826</td>\n",
       "      <td>5.367</td>\n",
       "      <td>0.007</td>\n",
       "      <td>**</td>\n",
       "    </tr>\n",
       "    <tr>\n",
       "      <th>log_Units_prior_month</th>\n",
       "      <td>0.868</td>\n",
       "      <td>0.603</td>\n",
       "      <td>1.134</td>\n",
       "      <td>0.136</td>\n",
       "      <td>0.542</td>\n",
       "      <td>6.404</td>\n",
       "      <td>0.231</td>\n",
       "      <td></td>\n",
       "    </tr>\n",
       "    <tr>\n",
       "      <th>log_PPC_Cost_per_unit</th>\n",
       "      <td>0.009</td>\n",
       "      <td>-0.238</td>\n",
       "      <td>0.256</td>\n",
       "      <td>0.126</td>\n",
       "      <td>0.018</td>\n",
       "      <td>0.069</td>\n",
       "      <td>0.991</td>\n",
       "      <td></td>\n",
       "    </tr>\n",
       "    <tr>\n",
       "      <th>log_brand_Units_prior_month</th>\n",
       "      <td>-0.006</td>\n",
       "      <td>-0.260</td>\n",
       "      <td>0.247</td>\n",
       "      <td>0.129</td>\n",
       "      <td>29.334</td>\n",
       "      <td>-0.049</td>\n",
       "      <td>0.961</td>\n",
       "      <td></td>\n",
       "    </tr>\n",
       "    <tr>\n",
       "      <th>sin_term_fracofyear</th>\n",
       "      <td>-0.031</td>\n",
       "      <td>-0.072</td>\n",
       "      <td>0.009</td>\n",
       "      <td>0.021</td>\n",
       "      <td>9925.519</td>\n",
       "      <td>-1.521</td>\n",
       "      <td>0.128</td>\n",
       "      <td></td>\n",
       "    </tr>\n",
       "    <tr>\n",
       "      <th>cos_term_fracofyear</th>\n",
       "      <td>-0.094</td>\n",
       "      <td>-0.158</td>\n",
       "      <td>-0.029</td>\n",
       "      <td>0.033</td>\n",
       "      <td>9868.601</td>\n",
       "      <td>-2.825</td>\n",
       "      <td>0.005</td>\n",
       "      <td>**</td>\n",
       "    </tr>\n",
       "  </tbody>\n",
       "</table>\n",
       "</div>"
      ],
      "text/plain": [
       "                             Estimate  2.5_ci  97.5_ci     SE        DF  \\\n",
       "(Intercept)                     1.048   0.665    1.430  0.195     3.826   \n",
       "log_Units_prior_month           0.868   0.603    1.134  0.136     0.542   \n",
       "log_PPC_Cost_per_unit           0.009  -0.238    0.256  0.126     0.018   \n",
       "log_brand_Units_prior_month    -0.006  -0.260    0.247  0.129    29.334   \n",
       "sin_term_fracofyear            -0.031  -0.072    0.009  0.021  9925.519   \n",
       "cos_term_fracofyear            -0.094  -0.158   -0.029  0.033  9868.601   \n",
       "\n",
       "                             T-stat  P-val Sig  \n",
       "(Intercept)                   5.367  0.007  **  \n",
       "log_Units_prior_month         6.404  0.231      \n",
       "log_PPC_Cost_per_unit         0.069  0.991      \n",
       "log_brand_Units_prior_month  -0.049  0.961      \n",
       "sin_term_fracofyear          -1.521  0.128      \n",
       "cos_term_fracofyear          -2.825  0.005  **  "
      ]
     },
     "execution_count": 517,
     "metadata": {},
     "output_type": "execute_result"
    }
   ],
   "source": [
    "# try hierarchical\n",
    "mod13 = Lmer('log_Units ~ log_Units_prior_month + log_PPC_Cost_per_unit + log_brand_Units_prior_month+ sin_term_fracofyear+cos_term_fracofyear+(log_brand_Units_prior_month+log_Units_prior_month+log_PPC_Cost_per_unit|Brand_ID)+(log_brand_Units_prior_month+log_Units_prior_month+log_PPC_Cost_per_unit|sale_type)', data=dat_train)\n",
    "mod13.fit()\n"
   ]
  },
  {
   "cell_type": "code",
   "execution_count": 518,
   "metadata": {},
   "outputs": [],
   "source": [
    "dat_train['pred'] = mod13.predict(dat_train)\n",
    "dat_valid['pred'] = mod13.predict(dat_valid)\n",
    "dat_test['pred'] = mod13.predict(dat_test)\n",
    "model_dict['mod13'] = score_model()"
   ]
  },
  {
   "cell_type": "code",
   "execution_count": 564,
   "metadata": {},
   "outputs": [],
   "source": [
    "valid_ppc = pd.DataFrame.from_dict({x:model_dict[x]['valid']['saletype_scores']['PPC_Units'] for x in model_dict.keys()},orient='index')\n",
    "valid_org = pd.DataFrame.from_dict({x:model_dict[x]['valid']['saletype_scores']['Organic_Units'] for x in model_dict.keys()},orient='index')\n",
    "\n",
    "test_ppc = pd.DataFrame.from_dict({x:model_dict[x]['test']['saletype_scores']['PPC_Units'] for x in model_dict.keys()},orient='index')\n",
    "test_org = pd.DataFrame.from_dict({x:model_dict[x]['test']['saletype_scores']['Organic_Units'] for x in model_dict.keys()},orient='index')\n",
    "\n",
    "\n"
   ]
  },
  {
   "cell_type": "code",
   "execution_count": 565,
   "metadata": {},
   "outputs": [],
   "source": [
    "valid_grouped_high = pd.DataFrame.from_dict({x:model_dict[x]['valid']['grouped_scores']['HIGH'] for x in model_dict.keys()},orient='index')\n",
    "test_grouped_high = pd.DataFrame.from_dict({x:model_dict[x]['valid']['grouped_scores']['HIGH'] for x in model_dict.keys()},orient='index')\n",
    "\n"
   ]
  },
  {
   "cell_type": "code",
   "execution_count": 566,
   "metadata": {},
   "outputs": [],
   "source": [
    "valid_all = pd.DataFrame.from_dict({x:model_dict[x]['valid']['total_scores'] for x in model_dict.keys()},orient='index')\n",
    "test_all = pd.DataFrame.from_dict({x:model_dict[x]['valid']['total_scores'] for x in model_dict.keys()},orient='index')\n"
   ]
  },
  {
   "cell_type": "code",
   "execution_count": 570,
   "metadata": {},
   "outputs": [],
   "source": [
    "valid_ppc['dataset'] = 'Valid'\n",
    "valid_org['dataset'] = 'Valid'\n",
    "test_ppc['dataset'] = 'Test'\n",
    "test_org['dataset'] = 'Test'\n",
    "valid_grouped_high['dataset'] = 'Valid'\n",
    "test_grouped_high['dataset'] = 'Test'\n",
    "\n",
    "valid_ppc['desc'] = 'PPC'\n",
    "valid_org['desc'] = 'Organic'\n",
    "test_ppc['desc'] = 'PPC'\n",
    "test_org['desc'] = 'Organic'\n",
    "valid_grouped_high['desc'] = 'HIGH'\n",
    "test_grouped_high['desc'] = 'HIGH'\n",
    "\n",
    "results_df = pd.concat([valid_org,valid_ppc,test_org,test_ppc,valid_grouped_high,test_grouped_high])\n",
    "results_df.to_csv('results.csv')"
   ]
  },
  {
   "cell_type": "code",
   "execution_count": 563,
   "metadata": {},
   "outputs": [
    {
     "data": {
      "text/plain": [
       "XGBRegressor(base_score=0.5, booster=None, colsample_bylevel=1,\n",
       "             colsample_bynode=1, colsample_bytree=1, gamma=0, gpu_id=-1,\n",
       "             importance_type='gain', interaction_constraints=None,\n",
       "             learning_rate=0.300000012, max_delta_step=0, max_depth=6,\n",
       "             min_child_weight=1, missing=nan, monotone_constraints=None,\n",
       "             n_estimators=100, n_jobs=0, num_parallel_tree=1,\n",
       "             objective='reg:squarederror', random_state=0, reg_alpha=0,\n",
       "             reg_lambda=1, scale_pos_weight=1, subsample=1, tree_method=None,\n",
       "             validate_parameters=False, verbosity=None)"
      ]
     },
     "execution_count": 563,
     "metadata": {},
     "output_type": "execute_result"
    }
   ],
   "source": [
    "# xgboost model with defaults\n",
    "features_mod14 = ['log_monthly_saletype_avg_Units_last_valid',\n",
    "                 'log_Units_prior_month',\n",
    "                 'pct_missing_prior_month',\n",
    "                 'log_Units_prior_month_MISSING',\n",
    "                 'sin_term_fracofyear','cos_term_fracofyear','month_ordinal',\n",
    "                 'log_PPC_Cost_per_unit',\n",
    "                  'log_PPC_Cost_per_unit_PPCONLY',\n",
    "                 'sale_type_PPC',\n",
    "                 'log_brand_Units_prior_month',\n",
    "                  'log_Units_prior_2_month'\n",
    "                ]\n",
    "mod14 = XGBRegressor()\n",
    "mod14.fit(X=dat_train[features_mod14],y=dat_train[target].values.ravel())"
   ]
  },
  {
   "cell_type": "code",
   "execution_count": 522,
   "metadata": {},
   "outputs": [],
   "source": [
    "dat_train['pred'] = mod14.predict(dat_train[features_mod14])\n",
    "dat_valid['pred'] = mod14.predict(dat_valid[features_mod14])\n",
    "dat_test['pred'] = mod14.predict(dat_test[features_mod14])\n",
    "model_dict['mod14'] = score_model()"
   ]
  },
  {
   "cell_type": "code",
   "execution_count": 523,
   "metadata": {},
   "outputs": [],
   "source": [
    "test_fold = [-1 if m <= 23 else 0 for m in dat_trainvalid['month_ordinal']]\n",
    "split = PredefinedSplit(test_fold)"
   ]
  },
  {
   "cell_type": "code",
   "execution_count": 524,
   "metadata": {},
   "outputs": [],
   "source": [
    "# xgboost model with defaults\n",
    "features_mod15 = ['log_monthly_saletype_avg_Units_last_valid',\n",
    "                 'log_Units_prior_month',\n",
    "                 'pct_missing_prior_month',\n",
    "                 'log_Units_prior_month_MISSING',\n",
    "                 'sin_term_fracofyear','cos_term_fracofyear','month_ordinal',\n",
    "                 'log_PPC_Cost_per_unit',\n",
    "                  'log_PPC_Cost_per_unit_PPCONLY',\n",
    "                 'sale_type_PPC',\n",
    "                 'log_brand_Units_prior_month',\n",
    "                  'log_Units_prior_2_month'\n",
    "                ]\n",
    "\n",
    "one_to_left = st.beta(10, 1)  \n",
    "from_zero_positive = st.expon(0, 50)\n",
    "\n",
    "params = {  \n",
    "    \"n_estimators\": st.randint(3, 100),\n",
    "    \"max_depth\": st.randint(3, 10),\n",
    "    \"learning_rate\": st.uniform(0.05, 0.4),\n",
    "    \"colsample_bytree\": one_to_left,\n",
    "    \"subsample\": one_to_left,\n",
    "    \"gamma\": st.uniform(0, 10),\n",
    "    'reg_alpha': from_zero_positive,\n",
    "    \"min_child_weight\": from_zero_positive,\n",
    "}\n",
    "\n",
    "xgbreg = XGBRegressor()\n",
    "\n",
    "gs = RandomizedSearchCV(xgbreg, params, n_jobs=-1, cv=split,random_state=1,n_iter=50)  \n",
    "gs.fit(dat_trainvalid[features_mod15], dat_trainvalid[target].values.ravel())  \n",
    "\n",
    "mod15 = gs.best_estimator_\n"
   ]
  },
  {
   "cell_type": "code",
   "execution_count": 525,
   "metadata": {},
   "outputs": [],
   "source": [
    "dat_train['pred'] = mod15.predict(dat_train[features_mod15])\n",
    "dat_valid['pred'] = mod15.predict(dat_valid[features_mod15])\n",
    "dat_test['pred'] = mod15.predict(dat_test[features_mod15])\n",
    "model_dict['mod15'] = score_model()"
   ]
  },
  {
   "cell_type": "code",
   "execution_count": 526,
   "metadata": {},
   "outputs": [],
   "source": [
    "features_mod16 = [\n",
    "                 'log_Units_prior_month',\n",
    "                 'pct_missing_prior_month',\n",
    "                 'log_Units_prior_month_MISSING',\n",
    "                 'sin_term_fracofyear','cos_term_fracofyear','month_ordinal',\n",
    "                 'log_PPC_Cost_per_unit',\n",
    "                 'sale_type_PPC',\n",
    "                 'log_brand_Units_prior_month',\n",
    "                 'log_Units_prior_trend'\n",
    "                ]\n",
    "\n",
    "\n",
    "xgbreg = XGBRegressor(weight=dat_trainvalid['pct_missing'])\n",
    "\n",
    "gs = RandomizedSearchCV(xgbreg, params, n_jobs=-1, cv=split,random_state=1,n_iter=50)  \n",
    "gs.fit(dat_trainvalid[features_mod16], dat_trainvalid[target].values.ravel())  \n",
    "\n",
    "mod16 = gs.best_estimator_\n"
   ]
  },
  {
   "cell_type": "code",
   "execution_count": 527,
   "metadata": {},
   "outputs": [],
   "source": [
    "dat_train['pred'] = mod16.predict(dat_train[features_mod16])\n",
    "dat_valid['pred'] = mod16.predict(dat_valid[features_mod16])\n",
    "dat_test['pred'] = mod16.predict(dat_test[features_mod16])\n",
    "model_dict['mod16'] = score_model()"
   ]
  },
  {
   "cell_type": "code",
   "execution_count": 528,
   "metadata": {},
   "outputs": [
    {
     "data": {
      "text/plain": [
       "{'colsample_bytree': 0.8950029724235344,\n",
       " 'gamma': 0.15533275550835723,\n",
       " 'learning_rate': 0.28739256327865487,\n",
       " 'max_depth': 7,\n",
       " 'min_child_weight': 14.297525295680117,\n",
       " 'n_estimators': 98,\n",
       " 'reg_alpha': 18.934694068788936,\n",
       " 'subsample': 0.9366411161880985}"
      ]
     },
     "execution_count": 528,
     "metadata": {},
     "output_type": "execute_result"
    }
   ],
   "source": [
    "gs.best_params_"
   ]
  },
  {
   "cell_type": "markdown",
   "metadata": {},
   "source": [
    "rmse_scores.sort_values"
   ]
  },
  {
   "cell_type": "code",
   "execution_count": 529,
   "metadata": {},
   "outputs": [
    {
     "data": {
      "text/plain": [
       "<matplotlib.axes._subplots.AxesSubplot at 0x1423fe8e0>"
      ]
     },
     "execution_count": 529,
     "metadata": {},
     "output_type": "execute_result"
    },
    {
     "data": {
      "image/png": "[encoded data removed]",
      "text/plain": [
       "<Figure size 432x288 with 1 Axes>"
      ]
     },
     "metadata": {
      "needs_background": "light"
     },
     "output_type": "display_data"
    }
   ],
   "source": [
    "plot_importance(mod16,importance_type='weight')"
   ]
  },
  {
   "cell_type": "code",
   "execution_count": null,
   "metadata": {},
   "outputs": [],
   "source": []
  },
  {
   "cell_type": "code",
   "execution_count": 530,
   "metadata": {},
   "outputs": [
    {
     "data": {
      "text/plain": [
       "0.8660096679858127"
      ]
     },
     "execution_count": 530,
     "metadata": {},
     "output_type": "execute_result"
    }
   ],
   "source": [
    "#TODO: look at PPC cost per unit for transformed variable where 0 for organic units and ppc cost per unit for ppc units\n",
    "#TODO: add sale type group predictor\n",
    "\n",
    "dat_mod['log_Units'].corr(dat_mod['log_Units_prior_2_month'])"
   ]
  },
  {
   "cell_type": "code",
   "execution_count": 531,
   "metadata": {},
   "outputs": [
    {
     "data": {
      "text/plain": [
       "0.6931471805599453"
      ]
     },
     "execution_count": 531,
     "metadata": {},
     "output_type": "execute_result"
    }
   ],
   "source": [
    "np.log(2) - np.log(1)"
   ]
  },
  {
   "cell_type": "code",
   "execution_count": 532,
   "metadata": {},
   "outputs": [],
   "source": [
    "dat_sub = dat_trainvalid[dat_trainvalid['sale_type'] == 'PPC_Units']\n",
    "dat_sub_perturb = dat_sub.copy()"
   ]
  },
  {
   "cell_type": "code",
   "execution_count": 533,
   "metadata": {},
   "outputs": [
    {
     "name": "stderr",
     "output_type": "stream",
     "text": [
      "Setting feature_perturbation = \"tree_path_dependent\" because no background data was given.\n"
     ]
    }
   ],
   "source": [
    "\n",
    "explainer = shap.TreeExplainer(mod16)\n",
    "shap_values = explainer.shap_values(dat_sub[features_mod16])"
   ]
  },
  {
   "cell_type": "code",
   "execution_count": 534,
   "metadata": {},
   "outputs": [
    {
     "data": {
      "image/png": "[encoded data removed]",
      "text/plain": [
       "<Figure size 576x396 with 2 Axes>"
      ]
     },
     "metadata": {
      "needs_background": "light"
     },
     "output_type": "display_data"
    }
   ],
   "source": [
    "shap.summary_plot(shap_values, dat_sub[features_mod16])\n"
   ]
  },
  {
   "cell_type": "code",
   "execution_count": 535,
   "metadata": {},
   "outputs": [
    {
     "data": {
      "image/png": "[encoded data removed]",
      "text/plain": [
       "<Figure size 540x360 with 2 Axes>"
      ]
     },
     "metadata": {
      "needs_background": "light"
     },
     "output_type": "display_data"
    }
   ],
   "source": [
    "shap.dependence_plot('log_PPC_Cost_per_unit', shap_values, dat_sub[features_mod16],interaction_index='log_Units_prior_month')"
   ]
  },
  {
   "cell_type": "code",
   "execution_count": 358,
   "metadata": {},
   "outputs": [
    {
     "data": {
      "text/plain": [
       "<matplotlib.axes._subplots.AxesSubplot at 0x13c488d90>"
      ]
     },
     "execution_count": 358,
     "metadata": {},
     "output_type": "execute_result"
    },
    {
     "data": {
      "image/png": "[encoded data removed]",
      "text/plain": [
       "<Figure size 432x288 with 1 Axes>"
      ]
     },
     "metadata": {
      "needs_background": "light"
     },
     "output_type": "display_data"
    }
   ],
   "source": [
    "sns.distplot(dat_sub['log_PPC_Cost_per_unit'])"
   ]
  },
  {
   "cell_type": "code",
   "execution_count": 360,
   "metadata": {},
   "outputs": [],
   "source": [
    "ppc_cost_agg = dat_sub.groupby('sku_num')['PPC_Cost_per_unit'].aggregate([np.mean, np.std,'count']).reset_index(drop=False)"
   ]
  },
  {
   "cell_type": "code",
   "execution_count": 361,
   "metadata": {},
   "outputs": [],
   "source": [
    "ppc_cost_agg.fillna(0,inplace=True)"
   ]
  },
  {
   "cell_type": "code",
   "execution_count": 362,
   "metadata": {},
   "outputs": [],
   "source": [
    "ppc_cost_agg = ppc_cost_agg[ppc_cost_agg['mean'] > 0]"
   ]
  },
  {
   "cell_type": "code",
   "execution_count": 363,
   "metadata": {},
   "outputs": [],
   "source": [
    "dat_sub = dat_sub.merge(ppc_cost_agg[['sku_num','mean','std']],how='inner',on='sku_num')\n",
    "dat_sub_perturb=dat_sub.copy()"
   ]
  },
  {
   "cell_type": "code",
   "execution_count": 440,
   "metadata": {},
   "outputs": [],
   "source": [
    "pct_changes = [0.25,0.5,0.75,0.85,0.9,0.95,1,1.05,1.10,1.15,1.25,1.5,1.75]"
   ]
  },
  {
   "cell_type": "code",
   "execution_count": 441,
   "metadata": {},
   "outputs": [],
   "source": [
    "agg_pred_list = {}\n",
    "for pct in pct_changes:\n",
    "    dat_sub_perturb['log_PPC_Cost_per_unit'] = logify(pct*dat_sub_perturb['mean'])\n",
    "    dat_sub_perturb['pred'] = mod16.predict(dat_sub_perturb[features_mod16])\n",
    "    dat_sub_perturb['pred_raw'] = np.exp(dat_sub_perturb['pred'])+target_min-1\n",
    "    agg_pred = pd.DataFrame(dat_sub_perturb.groupby('sku_num').agg({\n",
    "        'pred_raw':np.sum,\n",
    "        'log_PPC_Cost_per_unit':np.mean\n",
    "    }).reset_index(drop=False))\n",
    "    agg_pred['pred'] = np.log(agg_pred['pred_raw'])\n",
    "    agg_pred['pct_change'] = pct\n",
    "    agg_pred_list[str(pct)]=agg_pred\n"
   ]
  },
  {
   "cell_type": "code",
   "execution_count": 442,
   "metadata": {},
   "outputs": [],
   "source": [
    "agg_pred_df = pd.concat(agg_pred_list).reset_index(drop=True)"
   ]
  },
  {
   "cell_type": "code",
   "execution_count": 578,
   "metadata": {},
   "outputs": [
    {
     "data": {
      "text/plain": [
       "-791.0"
      ]
     },
     "execution_count": 578,
     "metadata": {},
     "output_type": "execute_result"
    }
   ],
   "source": []
  },
  {
   "cell_type": "code",
   "execution_count": 443,
   "metadata": {},
   "outputs": [],
   "source": [
    "coefs = {}\n",
    "for s in agg_pred_df['sku_num'].unique():\n",
    "    df = agg_pred_df[agg_pred_df['sku_num'] == int(s)]\n",
    "    mod_lm = LinearRegression()\n",
    "    mod_lm.fit(X=df[['log_PPC_Cost_per_unit']],y=df['pred'].values.ravel())\n",
    "    coefs[str(s)] = [mod_lm.coef_[0]]\n",
    "    "
   ]
  },
  {
   "cell_type": "code",
   "execution_count": 444,
   "metadata": {},
   "outputs": [],
   "source": [
    "coef_df = pd.DataFrame.from_dict(coefs,orient='index').reset_index(drop=False)\n",
    "coef_df.columns=['sku_num','coef']"
   ]
  },
  {
   "cell_type": "code",
   "execution_count": 448,
   "metadata": {},
   "outputs": [],
   "source": [
    "coef_df['sku_num_obj'] = coef_df['sku_num']\n",
    "coef_df['sku_num'] = coef_df['sku_num'].astype('int64')"
   ]
  },
  {
   "cell_type": "code",
   "execution_count": 575,
   "metadata": {},
   "outputs": [
    {
     "data": {
      "text/html": [
       "<div>\n",
       "<style scoped>\n",
       "    .dataframe tbody tr th:only-of-type {\n",
       "        vertical-align: middle;\n",
       "    }\n",
       "\n",
       "    .dataframe tbody tr th {\n",
       "        vertical-align: top;\n",
       "    }\n",
       "\n",
       "    .dataframe thead th {\n",
       "        text-align: right;\n",
       "    }\n",
       "</style>\n",
       "<table border=\"1\" class=\"dataframe\">\n",
       "  <thead>\n",
       "    <tr style=\"text-align: right;\">\n",
       "      <th></th>\n",
       "      <th>sku_num</th>\n",
       "      <th>coef</th>\n",
       "      <th>sku_num_obj</th>\n",
       "      <th>sku_brand</th>\n",
       "      <th>Brand_ID</th>\n",
       "    </tr>\n",
       "  </thead>\n",
       "  <tbody>\n",
       "    <tr>\n",
       "      <th>0</th>\n",
       "      <td>0</td>\n",
       "      <td>0.253294</td>\n",
       "      <td>0</td>\n",
       "      <td>MODLB01GR1_US-1</td>\n",
       "      <td>1</td>\n",
       "    </tr>\n",
       "    <tr>\n",
       "      <th>1</th>\n",
       "      <td>1</td>\n",
       "      <td>0.000000</td>\n",
       "      <td>1</td>\n",
       "      <td>MODSSBL_US-1</td>\n",
       "      <td>1</td>\n",
       "    </tr>\n",
       "    <tr>\n",
       "      <th>2</th>\n",
       "      <td>2</td>\n",
       "      <td>0.179226</td>\n",
       "      <td>2</td>\n",
       "      <td>MODLB01GR2_US-1</td>\n",
       "      <td>1</td>\n",
       "    </tr>\n",
       "    <tr>\n",
       "      <th>3</th>\n",
       "      <td>3</td>\n",
       "      <td>-0.004337</td>\n",
       "      <td>3</td>\n",
       "      <td>EO-AT4L-NSFF_US-2</td>\n",
       "      <td>2</td>\n",
       "    </tr>\n",
       "    <tr>\n",
       "      <th>4</th>\n",
       "      <td>4</td>\n",
       "      <td>-0.033625</td>\n",
       "      <td>4</td>\n",
       "      <td>IP-JZEN-Z9U7_US-2</td>\n",
       "      <td>2</td>\n",
       "    </tr>\n",
       "    <tr>\n",
       "      <th>...</th>\n",
       "      <td>...</td>\n",
       "      <td>...</td>\n",
       "      <td>...</td>\n",
       "      <td>...</td>\n",
       "      <td>...</td>\n",
       "    </tr>\n",
       "    <tr>\n",
       "      <th>342</th>\n",
       "      <td>468</td>\n",
       "      <td>0.000000</td>\n",
       "      <td>468</td>\n",
       "      <td>BTL-HHB-PFS-XL_US-50</td>\n",
       "      <td>50</td>\n",
       "    </tr>\n",
       "    <tr>\n",
       "      <th>343</th>\n",
       "      <td>470</td>\n",
       "      <td>-0.039491</td>\n",
       "      <td>470</td>\n",
       "      <td>AOR-PET-StOd2-32_US-9</td>\n",
       "      <td>9</td>\n",
       "    </tr>\n",
       "    <tr>\n",
       "      <th>344</th>\n",
       "      <td>471</td>\n",
       "      <td>0.000000</td>\n",
       "      <td>471</td>\n",
       "      <td>HCO-HOK-MoPe-G6_US-3</td>\n",
       "      <td>3</td>\n",
       "    </tr>\n",
       "    <tr>\n",
       "      <th>345</th>\n",
       "      <td>472</td>\n",
       "      <td>-0.065406</td>\n",
       "      <td>472</td>\n",
       "      <td>AOR-B07N316V8C-01_US-9</td>\n",
       "      <td>9</td>\n",
       "    </tr>\n",
       "    <tr>\n",
       "      <th>346</th>\n",
       "      <td>473</td>\n",
       "      <td>0.000000</td>\n",
       "      <td>473</td>\n",
       "      <td>HCO-HOK-Cork1-RPW_US-3</td>\n",
       "      <td>3</td>\n",
       "    </tr>\n",
       "  </tbody>\n",
       "</table>\n",
       "<p>347 rows × 5 columns</p>\n",
       "</div>"
      ],
      "text/plain": [
       "     sku_num      coef sku_num_obj               sku_brand  Brand_ID\n",
       "0          0  0.253294           0         MODLB01GR1_US-1         1\n",
       "1          1  0.000000           1            MODSSBL_US-1         1\n",
       "2          2  0.179226           2         MODLB01GR2_US-1         1\n",
       "3          3 -0.004337           3       EO-AT4L-NSFF_US-2         2\n",
       "4          4 -0.033625           4       IP-JZEN-Z9U7_US-2         2\n",
       "..       ...       ...         ...                     ...       ...\n",
       "342      468  0.000000         468    BTL-HHB-PFS-XL_US-50        50\n",
       "343      470 -0.039491         470   AOR-PET-StOd2-32_US-9         9\n",
       "344      471  0.000000         471    HCO-HOK-MoPe-G6_US-3         3\n",
       "345      472 -0.065406         472  AOR-B07N316V8C-01_US-9         9\n",
       "346      473  0.000000         473  HCO-HOK-Cork1-RPW_US-3         3\n",
       "\n",
       "[347 rows x 5 columns]"
      ]
     },
     "execution_count": 575,
     "metadata": {},
     "output_type": "execute_result"
    }
   ],
   "source": [
    "coef_df"
   ]
  },
  {
   "cell_type": "code",
   "execution_count": 456,
   "metadata": {},
   "outputs": [],
   "source": [
    "coef_df = coef_df.merge(dim_sku, how='left', on='sku_num')"
   ]
  },
  {
   "cell_type": "code",
   "execution_count": 457,
   "metadata": {},
   "outputs": [
    {
     "data": {
      "text/html": [
       "<div>\n",
       "<style scoped>\n",
       "    .dataframe tbody tr th:only-of-type {\n",
       "        vertical-align: middle;\n",
       "    }\n",
       "\n",
       "    .dataframe tbody tr th {\n",
       "        vertical-align: top;\n",
       "    }\n",
       "\n",
       "    .dataframe thead th {\n",
       "        text-align: right;\n",
       "    }\n",
       "</style>\n",
       "<table border=\"1\" class=\"dataframe\">\n",
       "  <thead>\n",
       "    <tr style=\"text-align: right;\">\n",
       "      <th></th>\n",
       "      <th>sku_num</th>\n",
       "      <th>coef</th>\n",
       "      <th>sku_num_obj</th>\n",
       "      <th>sku_brand</th>\n",
       "      <th>Brand_ID</th>\n",
       "    </tr>\n",
       "  </thead>\n",
       "  <tbody>\n",
       "    <tr>\n",
       "      <th>99</th>\n",
       "      <td>113</td>\n",
       "      <td>2.758490</td>\n",
       "      <td>113</td>\n",
       "      <td>RV-D0XX-NB64_US-26</td>\n",
       "      <td>26</td>\n",
       "    </tr>\n",
       "    <tr>\n",
       "      <th>179</th>\n",
       "      <td>198</td>\n",
       "      <td>1.989999</td>\n",
       "      <td>198</td>\n",
       "      <td>pillow_prot_block_std_US-5</td>\n",
       "      <td>5</td>\n",
       "    </tr>\n",
       "    <tr>\n",
       "      <th>195</th>\n",
       "      <td>218</td>\n",
       "      <td>1.953800</td>\n",
       "      <td>218</td>\n",
       "      <td>U8-B5R1-I8J4_US-6</td>\n",
       "      <td>6</td>\n",
       "    </tr>\n",
       "    <tr>\n",
       "      <th>142</th>\n",
       "      <td>157</td>\n",
       "      <td>1.952028</td>\n",
       "      <td>157</td>\n",
       "      <td>matt_prot_max_twin_US-5</td>\n",
       "      <td>5</td>\n",
       "    </tr>\n",
       "    <tr>\n",
       "      <th>221</th>\n",
       "      <td>246</td>\n",
       "      <td>1.852180</td>\n",
       "      <td>246</td>\n",
       "      <td>V7-31MU-QAZH_US-6</td>\n",
       "      <td>6</td>\n",
       "    </tr>\n",
       "    <tr>\n",
       "      <th>...</th>\n",
       "      <td>...</td>\n",
       "      <td>...</td>\n",
       "      <td>...</td>\n",
       "      <td>...</td>\n",
       "      <td>...</td>\n",
       "    </tr>\n",
       "    <tr>\n",
       "      <th>4</th>\n",
       "      <td>4</td>\n",
       "      <td>-0.033625</td>\n",
       "      <td>4</td>\n",
       "      <td>IP-JZEN-Z9U7_US-2</td>\n",
       "      <td>2</td>\n",
       "    </tr>\n",
       "    <tr>\n",
       "      <th>343</th>\n",
       "      <td>470</td>\n",
       "      <td>-0.039491</td>\n",
       "      <td>470</td>\n",
       "      <td>AOR-PET-StOd2-32_US-9</td>\n",
       "      <td>9</td>\n",
       "    </tr>\n",
       "    <tr>\n",
       "      <th>345</th>\n",
       "      <td>472</td>\n",
       "      <td>-0.065406</td>\n",
       "      <td>472</td>\n",
       "      <td>AOR-B07N316V8C-01_US-9</td>\n",
       "      <td>9</td>\n",
       "    </tr>\n",
       "    <tr>\n",
       "      <th>254</th>\n",
       "      <td>314</td>\n",
       "      <td>-0.069251</td>\n",
       "      <td>314</td>\n",
       "      <td>KM-G3OL-GFWG_US-40</td>\n",
       "      <td>40</td>\n",
       "    </tr>\n",
       "    <tr>\n",
       "      <th>308</th>\n",
       "      <td>420</td>\n",
       "      <td>-0.081500</td>\n",
       "      <td>420</td>\n",
       "      <td>Q9-V7BL-ZRIL_US-9</td>\n",
       "      <td>9</td>\n",
       "    </tr>\n",
       "  </tbody>\n",
       "</table>\n",
       "<p>347 rows × 5 columns</p>\n",
       "</div>"
      ],
      "text/plain": [
       "     sku_num      coef sku_num_obj                   sku_brand  Brand_ID\n",
       "99       113  2.758490         113          RV-D0XX-NB64_US-26        26\n",
       "179      198  1.989999         198  pillow_prot_block_std_US-5         5\n",
       "195      218  1.953800         218           U8-B5R1-I8J4_US-6         6\n",
       "142      157  1.952028         157     matt_prot_max_twin_US-5         5\n",
       "221      246  1.852180         246           V7-31MU-QAZH_US-6         6\n",
       "..       ...       ...         ...                         ...       ...\n",
       "4          4 -0.033625           4           IP-JZEN-Z9U7_US-2         2\n",
       "343      470 -0.039491         470       AOR-PET-StOd2-32_US-9         9\n",
       "345      472 -0.065406         472      AOR-B07N316V8C-01_US-9         9\n",
       "254      314 -0.069251         314          KM-G3OL-GFWG_US-40        40\n",
       "308      420 -0.081500         420           Q9-V7BL-ZRIL_US-9         9\n",
       "\n",
       "[347 rows x 5 columns]"
      ]
     },
     "execution_count": 457,
     "metadata": {},
     "output_type": "execute_result"
    }
   ],
   "source": [
    "coef_df.sort_values('coef',ascending=False)"
   ]
  },
  {
   "cell_type": "code",
   "execution_count": 459,
   "metadata": {},
   "outputs": [],
   "source": [
    "coef_df.to_csv('elast_by_sku.csv',index=False)"
   ]
  },
  {
   "cell_type": "code",
   "execution_count": 574,
   "metadata": {},
   "outputs": [
    {
     "data": {
      "text/plain": [
       "<seaborn.axisgrid.FacetGrid at 0x14271e550>"
      ]
     },
     "execution_count": 574,
     "metadata": {},
     "output_type": "execute_result"
    },
    {
     "data": {
      "image/png": "[encoded data removed]",
      "text/plain": [
       "<Figure size 360x360 with 1 Axes>"
      ]
     },
     "metadata": {
      "needs_background": "light"
     },
     "output_type": "display_data"
    }
   ],
   "source": [
    "sns.lmplot(x='log_PPC_Cost_per_unit',y='pred',data= agg_pred_df[agg_pred_df['sku_num'] == 218])"
   ]
  },
  {
   "cell_type": "code",
   "execution_count": 585,
   "metadata": {},
   "outputs": [
    {
     "data": {
      "image/png": "[encoded data removed]",
      "text/plain": [
       "<Figure size 432x288 with 1 Axes>"
      ]
     },
     "metadata": {
      "needs_background": "light"
     },
     "output_type": "display_data"
    }
   ],
   "source": [
    "b = 3\n",
    "dat_b = dat_mod[(dat_mod['Brand_ID']==b) & (dat_mod['sale_type'] == 'Organic_Units')]\n",
    "for s in dat_b['sku_num'].unique():\n",
    "    sns.lineplot(x='month_ordinal',y='log_Units',data=dat_b[dat_b['sku_num'] == s])"
   ]
  },
  {
   "cell_type": "code",
   "execution_count": null,
   "metadata": {},
   "outputs": [],
   "source": []
  }
 ],
 "metadata": {
  "kernelspec": {
   "display_name": "Python 3",
   "language": "python",
   "name": "python3"
  },
  "language_info": {
   "codemirror_mode": {
    "name": "ipython",
    "version": 3
   },
   "file_extension": ".py",
   "mimetype": "text/x-python",
   "name": "python",
   "nbconvert_exporter": "python",
   "pygments_lexer": "ipython3",
   "version": "3.8.1"
  }
 },
 "nbformat": 4,
 "nbformat_minor": 4
}
